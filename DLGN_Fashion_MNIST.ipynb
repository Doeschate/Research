{
  "nbformat": 4,
  "nbformat_minor": 0,
  "metadata": {
    "colab": {
      "provenance": [],
      "authorship_tag": "ABX9TyOx6bpFO6PyWqkIpxVIR4PK",
      "include_colab_link": true
    },
    "kernelspec": {
      "name": "python3",
      "display_name": "Python 3"
    },
    "language_info": {
      "name": "python"
    },
    "gpuClass": "standard"
  },
  "cells": [
    {
      "cell_type": "markdown",
      "metadata": {
        "id": "view-in-github",
        "colab_type": "text"
      },
      "source": [
        "<a href=\"https://colab.research.google.com/github/Doeschate/Research/blob/main/DLGN_Fashion_MNIST.ipynb\" target=\"_parent\"><img src=\"https://colab.research.google.com/assets/colab-badge.svg\" alt=\"Open In Colab\"/></a>"
      ]
    },
    {
      "cell_type": "code",
      "execution_count": null,
      "metadata": {
        "id": "ld8fEDAWy3O2"
      },
      "outputs": [],
      "source": [
        "#@title Importing Packages\n",
        "import random\n",
        "random.seed(365)\n",
        "import matplotlib.pyplot as plt\n",
        "import numpy as np\n",
        "import torch\n",
        "import torchvision\n",
        "import torchvision.transforms as transforms\n",
        "import torch.nn as nn\n",
        "import torch.nn.functional as F\n",
        "import torch.optim as optim"
      ]
    },
    {
      "cell_type": "code",
      "source": [
        "#@title Device configuration\n",
        "device = torch.device('cuda' if torch.cuda.is_available() else 'cpu')"
      ],
      "metadata": {
        "id": "iA-2mvB_xYpk"
      },
      "execution_count": null,
      "outputs": []
    },
    {
      "cell_type": "code",
      "source": [
        "#@title Fashion MNIST"
      ],
      "metadata": {
        "id": "QI2VEqcb4E3_"
      },
      "execution_count": null,
      "outputs": []
    },
    {
      "cell_type": "code",
      "source": [
        "#@title Parameters\n",
        "#LinearModel/ShallowLinearModel/ShallownonLinearModel/DeepLinearModel/DLGN/DeepnonLinearModel\n",
        "model_name = 'DeepLinearModel' #@param {'type': 'string'}\n",
        "batch_size = 64\n",
        "beta = 10\n",
        "epochs = 100\n",
        "learning_rate = 0.01\n",
        "optimizer_name ='SGD'"
      ],
      "metadata": {
        "id": "0aw3Xyh7_njh"
      },
      "execution_count": null,
      "outputs": []
    },
    {
      "cell_type": "markdown",
      "source": [
        "**Load Dataset**"
      ],
      "metadata": {
        "id": "7nid_h-f7BDo"
      }
    },
    {
      "cell_type": "code",
      "source": [
        "#image transform and normalization\n",
        "transform = transforms.Compose(\n",
        "    [transforms.ToTensor(),\n",
        "     transforms.Normalize((0.5,),(0.5,))])\n",
        "\n",
        "#defining train and test sets.\n",
        "trainset = torchvision.datasets.FashionMNIST('data',\n",
        "                                             download=True,\n",
        "                                             train=True,\n",
        "                                             transform=transform)\n",
        "testset = torchvision.datasets.FashionMNIST('data',\n",
        "                                            download=True,\n",
        "                                            train=False,\n",
        "                                            transform=transform)\n"
      ],
      "metadata": {
        "id": "C-o9oRKv6nFH"
      },
      "execution_count": null,
      "outputs": []
    },
    {
      "cell_type": "code",
      "source": [
        "#@title **Loading only two classes from the dataset**\n",
        "#Training set\n",
        "# Selecting classes 0 and 1\n",
        "idx = (trainset.targets==0) | (trainset.targets==1)\n",
        "trainset.targets = trainset.targets[idx]\n",
        "trainset.data = trainset.data[idx]\n",
        "\n",
        "#Test set\n",
        "# Selecting classes 0 and 1\n",
        "idx = (testset.targets==0) | (testset.targets==1)\n",
        "testset.targets = testset.targets[idx]\n",
        "testset.data = testset.data[idx]"
      ],
      "metadata": {
        "id": "_YZbMlIPgwDd"
      },
      "execution_count": null,
      "outputs": []
    },
    {
      "cell_type": "code",
      "source": [
        "#@title **'T-shirt/top' top 4x4 50% data,'Trouser' bottom 4x4 50% data**\n",
        "#train_set\n",
        "t_shirt_count = len(trainset)//2\n",
        "trouser_count = len(trainset)//2\n",
        "ts_count=0\n",
        "tr_count=0\n",
        "for i in range(len(trainset)):\n",
        "  if((trainset.targets[i]==0)&(ts_count<t_shirt_count//2)):\n",
        "    trainset.data[i][0:4,0:4]=255\n",
        "    ts_count=ts_count+1\n",
        "  if((trainset.targets[i]==1)&(tr_count<trouser_count//2)):\n",
        "    trainset.data[i][-4:,-4:]=255\n",
        "    tr_count=tr_count+1\n",
        "\n",
        "\n",
        "#test_set\n",
        "t_shirt_count_test = len(testset)//2\n",
        "trouser_count_test = len(testset)//2\n",
        "ts_count_test=0\n",
        "tr_count_test=0\n",
        "for i in range(len(testset)):\n",
        "  if((testset.targets[i]==0)&(ts_count_test<=t_shirt_count_test//2)):\n",
        "    testset.data[i][0:4][0:4]=255\n",
        "    ts_count_test=ts_count_test+1\n",
        "  if((testset.targets[i]==1)&(tr_count_test<=trouser_count_test//2)):\n",
        "    testset.data[i][-4:,-4:]=255\n",
        "    tr_count_test=tr_count_test+1"
      ],
      "metadata": {
        "id": "5NGwa360jBC_"
      },
      "execution_count": null,
      "outputs": []
    },
    {
      "cell_type": "code",
      "source": [
        "# trainset.data[0][0:4][0:4]=255\n",
        "# trainset.data[0][-4:,-4:]=255\n",
        "# trainset.data[0]\n",
        "# trainset.targets"
      ],
      "metadata": {
        "id": "pEej6LfCTpMH"
      },
      "execution_count": null,
      "outputs": []
    },
    {
      "cell_type": "code",
      "source": [
        "#Creating dataloaders for both training and testing\n",
        "trainloader = torch.utils.data.DataLoader(trainset,batch_size = batch_size,\n",
        "                                          shuffle=True)\n",
        "testloader = torch.utils.data.DataLoader(testset,batch_size = batch_size,\n",
        "                                         shuffle=False)"
      ],
      "metadata": {
        "id": "AKmmri2_bUpt"
      },
      "execution_count": null,
      "outputs": []
    },
    {
      "cell_type": "code",
      "source": [
        "# #constant for different classes in the dataset\n",
        "# classes = ('T-shirt/top','Trouser','Pullover','Dress','Coat'\n",
        "#       ,'Sandal','Shirt','Sneaker','Bag','Ankle Boot')\n",
        "\n",
        "#function to show an image\n",
        "def matplotlib_imshow(img, one_channel=False):\n",
        "  if one_channel:\n",
        "    img=img.mean(dim=0)\n",
        "  img = img/2 + 0.5 #unnormalize\n",
        "  npimg = img.numpy()\n",
        "  if one_channel:\n",
        "    plt.imshow(npimg, cmap=\"Greys\")\n",
        "  else:\n",
        "    plt.imshow(np.transpose(npimg, (1,2,0)))"
      ],
      "metadata": {
        "id": "VEQDjTpmbiwq"
      },
      "execution_count": null,
      "outputs": []
    },
    {
      "cell_type": "code",
      "source": [
        "dataiter = iter(trainloader)\n",
        "images,labels = dataiter.next()"
      ],
      "metadata": {
        "id": "BWO8zzwP9xdP"
      },
      "execution_count": null,
      "outputs": []
    },
    {
      "cell_type": "code",
      "source": [
        "# labels"
      ],
      "metadata": {
        "id": "GX_0gc5CAjyN"
      },
      "execution_count": null,
      "outputs": []
    },
    {
      "cell_type": "markdown",
      "source": [
        "**Visualizing Training Examples**"
      ],
      "metadata": {
        "id": "BeDwetM5jWQZ"
      }
    },
    {
      "cell_type": "code",
      "source": [
        "dataiter = iter(trainloader)\n",
        "images,labels = dataiter.next()\n",
        "matplotlib_imshow(torchvision.utils.make_grid(images))"
      ],
      "metadata": {
        "id": "SgvkiFI760n-",
        "colab": {
          "base_uri": "https://localhost:8080/",
          "height": 269
        },
        "outputId": "0ed48b79-cfd6-4de1-ff9c-6386682a39a9"
      },
      "execution_count": null,
      "outputs": [
        {
          "output_type": "display_data",
          "data": {
            "text/plain": [
              "<Figure size 432x288 with 1 Axes>"
            ],
            "image/png": "[encoded data removed]"
          },
          "metadata": {
            "needs_background": "light"
          }
        }
      ]
    },
    {
      "cell_type": "code",
      "source": [
        "class Li_Model(nn.Module):\n",
        "  def __init__(self):\n",
        "    super().__init__()\n",
        "    self.fc1 = nn.Linear(784,10)\n",
        "\n",
        "  def forward(self,x,beta):\n",
        "    #flattening the input tensor\n",
        "    x=x.view(x.shape[0],-1)\n",
        "    x=self.fc1(x)\n",
        "    x=F.log_softmax(x,dim=1)\n",
        "\n",
        "    return x"
      ],
      "metadata": {
        "id": "Tkzef7gqK8X0"
      },
      "execution_count": null,
      "outputs": []
    },
    {
      "cell_type": "code",
      "source": [
        "class ShLi_Model(nn.Module):\n",
        "  def __init__(self):\n",
        "    super().__init__()\n",
        "    self.fc1 = nn.Linear(784,256)\n",
        "    self.fc2 = nn.Linear(256,10)\n",
        "\n",
        "  def forward(self,x,beta):\n",
        "    #flattening the input tensor\n",
        "    x=x.view(x.shape[0],-1)\n",
        "    x=self.fc1(x)\n",
        "    x=F.log_softmax(self.fc2(x),dim=1)\n",
        "\n",
        "    return x\n"
      ],
      "metadata": {
        "id": "HaP2NJQTBNNf"
      },
      "execution_count": null,
      "outputs": []
    },
    {
      "cell_type": "code",
      "source": [
        "class ShNLi_Model(nn.Module):\n",
        "  def __init__(self):\n",
        "    super().__init__()\n",
        "    self.fc1 = nn.Linear(784,256)\n",
        "    self.fc2 = nn.Linear(256,10)\n",
        "\n",
        "  def forward(self,x,beta):\n",
        "    #flattening the input tensor\n",
        "    x=x.view(x.shape[0],-1)\n",
        "    x=F.relu(self.fc1(x))\n",
        "    x=F.log_softmax(self.fc2(x),dim=1)\n",
        "\n",
        "    return x\n"
      ],
      "metadata": {
        "id": "btztsQDQNoA1"
      },
      "execution_count": null,
      "outputs": []
    },
    {
      "cell_type": "code",
      "source": [
        "class DeLi_Model(nn.Module):\n",
        "  def __init__(self):\n",
        "    super().__init__()\n",
        "    self.fc1 = nn.Linear(784,256)\n",
        "    self.fc2 = nn.Linear(256,128)\n",
        "    self.fc3 = nn.Linear(128,64)\n",
        "    self.fc4 = nn.Linear(64,10)\n",
        "\n",
        "  def forward(self,x,beta):\n",
        "    #flattening the input tensor\n",
        "    x=x.view(x.shape[0],-1)\n",
        "    x=self.fc1(x)\n",
        "    x=self.fc2(x)\n",
        "    x=self.fc3(x)\n",
        "    x=F.log_softmax(self.fc4(x),dim=1)\n",
        "\n",
        "    return x\n"
      ],
      "metadata": {
        "id": "ATOZUwXpQ3r4"
      },
      "execution_count": null,
      "outputs": []
    },
    {
      "cell_type": "code",
      "source": [
        "# #@title NTK\n",
        "# #install JAX on CPU by running\n",
        "# !pip install jax jaxlib --upgrade\n",
        "# #Once JAX is installed install Neural Tangents by running\n",
        "# !pip install neural-tangents"
      ],
      "metadata": {
        "id": "RjRq_pIkgdsJ"
      },
      "execution_count": null,
      "outputs": []
    },
    {
      "cell_type": "code",
      "source": [
        "class DLGN_Model(nn.Module):\n",
        "  def __init__(self):\n",
        "    super().__init__()\n",
        "    self.fc1_gt = nn.Linear(784,256)\n",
        "    self.fc2_gt = nn.Linear(256,128)\n",
        "    self.fc3_gt = nn.Linear(128,64)\n",
        "    self.fc4_gt = nn.Linear(64,10)\n",
        "\n",
        "    self.fc1_wt = nn.Linear(784,256)\n",
        "    self.fc2_wt = nn.Linear(256,128)\n",
        "    self.fc3_wt = nn.Linear(128,64)\n",
        "    self.fc4_wt = nn.Linear(64,10)\n",
        "\n",
        "   \n",
        "    self.galu = nn.Sigmoid()\n",
        "\n",
        "\n",
        "  def forward(self, x, beta):\n",
        "    import numpy as np\n",
        "    x_gt=x.view(x.shape[0],-1)\n",
        "    x_wt = torch.ones(x_gt.shape).float()  #x_wt = 1 is the input for bottom weight network\n",
        "    ## 1st Block\n",
        "    x_gt=self.fc1_gt(x_gt)  #x_gt is for top gate network\n",
        "    g1=self.galu(beta*x_gt)\n",
        "    x_wt=self.fc1_wt(x_wt)\n",
        "    x_wt=g1*x_wt\n",
        "\n",
        "    ## 2nd Block\n",
        "    x_gt=self.fc2_gt(x_gt)\n",
        "    g2=self.galu(beta*x_gt)\n",
        "    x_wt=self.fc2_wt(x_wt)\n",
        "    x_wt=g2*x_wt\n",
        "\n",
        "    ## 3rd Block\n",
        "    x_gt=self.fc3_gt(x_gt)\n",
        "    g3=self.galu(beta*x_gt)\n",
        "    x_wt=self.fc3_wt(x_wt)\n",
        "    x_wt=g3*x_wt\n",
        "    \n",
        "    ## 4th Block\n",
        "    x_wt=self.fc4_wt(x_wt)\n",
        "    x_wt=F.log_softmax(x_wt,dim=1)\n",
        "\n",
        "\n",
        "\n",
        "    return x_wt"
      ],
      "metadata": {
        "id": "-_sBFnkNS4aS"
      },
      "execution_count": null,
      "outputs": []
    },
    {
      "cell_type": "markdown",
      "source": [
        "**DNN Architecture**"
      ],
      "metadata": {
        "id": "g_Z7odtLtIYW"
      }
    },
    {
      "cell_type": "code",
      "source": [
        "#Class for the model and subclassing nn.Module to use the layers available\n",
        "class DeNLi_Model(nn.Module):\n",
        "  def __init__(self):\n",
        "    super().__init__()\n",
        "    self.fc1 = nn.Linear(784,256)\n",
        "    self.fc2 = nn.Linear(256,128)\n",
        "    self.fc3 = nn.Linear(128,64)\n",
        "    self.fc4 = nn.Linear(64,10)\n",
        "\n",
        "  def forward(self,x,beta):\n",
        "    #flattening the input tensor\n",
        "    x=x.view(x.shape[0],-1)\n",
        "    x=F.relu(self.fc1(x))\n",
        "    x=F.relu(self.fc2(x))\n",
        "    x=F.relu(self.fc3(x))\n",
        "    x=F.log_softmax(self.fc4(x),dim=1)\n",
        "\n",
        "    return x\n"
      ],
      "metadata": {
        "id": "GJ0g5O8qkOw_"
      },
      "execution_count": null,
      "outputs": []
    },
    {
      "cell_type": "code",
      "source": [
        "if model_name == 'LinearModel':\n",
        "  model = Li_Model().to(device)\n",
        "if model_name == 'ShallowLinearModel':\n",
        "  model = ShLi_Model().to(device)  \n",
        "if model_name == 'ShallownonLinearModel':\n",
        "  model = ShNLi_Model().to(device)\n",
        "if model_name == 'DeepLinearModel':\n",
        "  model = DeLi_Model().to(device)\n",
        "if model_name == 'DLGN':\n",
        "  model = DLGN_Model().to(device)\n",
        "if model_name == 'DeepnonLinearModel':\n",
        "  model = DeNLi_Model().to(device) "
      ],
      "metadata": {
        "id": "68hHhPKfF4o3"
      },
      "execution_count": null,
      "outputs": []
    },
    {
      "cell_type": "markdown",
      "source": [
        "**Loss function and optimizer**"
      ],
      "metadata": {
        "id": "8PT2DsssxB-3"
      }
    },
    {
      "cell_type": "code",
      "source": [
        "#metric for loss function\n",
        "criterion = nn.NLLLoss()\n",
        "#selecting optimizer\n",
        "if optimizer_name == 'SGD':\n",
        "  optimizer = optim.SGD(model.parameters(), lr=learning_rate)\n",
        "if optimizer_name == 'Adam':\n",
        "  optimizer = optim.Adam(model.parameters(), lr=learning_rate)"
      ],
      "metadata": {
        "id": "w4stQcIZxOVp"
      },
      "execution_count": null,
      "outputs": []
    },
    {
      "cell_type": "markdown",
      "source": [
        "Gradient computation(optional)"
      ],
      "metadata": {
        "id": "1bWcnRZpy8mk"
      }
    },
    {
      "cell_type": "code",
      "source": [
        "# images,labels = iter(trainloader).next()\n",
        "# log_ps = model(images.to(device))\n",
        "# loss = criterion(log_ps,labels.to(device))\n",
        "# loss.backward()\n",
        "# print(model.fc1.weight.grad)"
      ],
      "metadata": {
        "id": "DfKuL4udy4te"
      },
      "execution_count": null,
      "outputs": []
    },
    {
      "cell_type": "markdown",
      "source": [
        "**Training Loop**"
      ],
      "metadata": {
        "id": "yNFSFKZr6k8i"
      }
    },
    {
      "cell_type": "code",
      "source": [
        "max_epoch =0\n",
        "max_acc =0\n",
        "for e in range(epochs):\n",
        "  running_loss = 0\n",
        "  model.train()\n",
        "  for images,labels in trainloader:\n",
        "    log_ps = model(images.to(device),beta)\n",
        "    loss = criterion(log_ps,labels.to(device))\n",
        "\n",
        "    optimizer.zero_grad()\n",
        "    loss.backward()\n",
        "    optimizer.step()\n",
        "    running_loss+=loss.item()\n",
        "  else:\n",
        "    print(f\"Epoch[{e+1}/{epochs}]: Training loss:{running_loss/1000}\",end=\" \")\n",
        "\n",
        "    #evaluation\n",
        "    model.eval()\n",
        "    with torch.no_grad():\n",
        "      total = 0\n",
        "      correct = 0\n",
        "      for images,labels in testloader:\n",
        "        log_ps = model(images.to(device),beta).cpu()\n",
        "        max_index = torch.argmax(log_ps,dim=1)\n",
        "        total+=labels.numel()\n",
        "        correct+=sum(max_index==labels).item()\n",
        "      print(f\"Test Accuracy {correct/total*100:.2f}\")\n",
        "      if((correct/total*100)>max_acc):\n",
        "        max_acc = (correct/total*100)\n",
        "        max_epoch = e+1"
      ],
      "metadata": {
        "id": "8xrrzYoe0oAV",
        "colab": {
          "base_uri": "https://localhost:8080/"
        },
        "outputId": "77c095a8-5403-42c6-cd4f-480f007885d3"
      },
      "execution_count": null,
      "outputs": [
        {
          "output_type": "stream",
          "name": "stdout",
          "text": [
            "Epoch[1/100]: Training loss:0.053640256466344 Test Accuracy 98.05\n",
            "Epoch[2/100]: Training loss:0.008275335708633065 Test Accuracy 98.45\n",
            "Epoch[3/100]: Training loss:0.006205658453982323 Test Accuracy 98.65\n",
            "Epoch[4/100]: Training loss:0.005400020991452039 Test Accuracy 98.65\n",
            "Epoch[5/100]: Training loss:0.004974068391486071 Test Accuracy 98.80\n",
            "Epoch[6/100]: Training loss:0.004704948373138905 Test Accuracy 98.85\n",
            "Epoch[7/100]: Training loss:0.004433169997180812 Test Accuracy 98.85\n",
            "Epoch[8/100]: Training loss:0.004248120262927841 Test Accuracy 98.80\n",
            "Epoch[9/100]: Training loss:0.00402999963669572 Test Accuracy 98.95\n",
            "Epoch[10/100]: Training loss:0.003878624402685091 Test Accuracy 99.00\n",
            "Epoch[11/100]: Training loss:0.0037961686748603824 Test Accuracy 99.10\n",
            "Epoch[12/100]: Training loss:0.0037383549432852305 Test Accuracy 99.05\n",
            "Epoch[13/100]: Training loss:0.003620531680411659 Test Accuracy 99.15\n",
            "Epoch[14/100]: Training loss:0.0035272191133117305 Test Accuracy 99.00\n",
            "Epoch[15/100]: Training loss:0.003526518513215706 Test Accuracy 99.05\n",
            "Epoch[16/100]: Training loss:0.00343653229548363 Test Accuracy 99.15\n",
            "Epoch[17/100]: Training loss:0.003325840317949769 Test Accuracy 99.05\n",
            "Epoch[18/100]: Training loss:0.0032954568042914615 Test Accuracy 98.90\n",
            "Epoch[19/100]: Training loss:0.003245830069761723 Test Accuracy 99.15\n",
            "Epoch[20/100]: Training loss:0.003222369605093263 Test Accuracy 99.10\n",
            "Epoch[21/100]: Training loss:0.003124637843677192 Test Accuracy 99.15\n",
            "Epoch[22/100]: Training loss:0.0030727046729880384 Test Accuracy 99.10\n",
            "Epoch[23/100]: Training loss:0.0030621787912532453 Test Accuracy 99.20\n",
            "Epoch[24/100]: Training loss:0.0029580080013111 Test Accuracy 99.10\n",
            "Epoch[25/100]: Training loss:0.0029612278843851527 Test Accuracy 99.15\n",
            "Epoch[26/100]: Training loss:0.0028897152913050375 Test Accuracy 99.05\n",
            "Epoch[27/100]: Training loss:0.0028478782515448985 Test Accuracy 99.25\n",
            "Epoch[28/100]: Training loss:0.0028188393999880644 Test Accuracy 99.05\n",
            "Epoch[29/100]: Training loss:0.0027547564812994097 Test Accuracy 99.10\n",
            "Epoch[30/100]: Training loss:0.0027476362328161487 Test Accuracy 99.15\n",
            "Epoch[31/100]: Training loss:0.0027068467729259283 Test Accuracy 99.10\n",
            "Epoch[32/100]: Training loss:0.0025886589485016884 Test Accuracy 99.15\n",
            "Epoch[33/100]: Training loss:0.0026391973267600407 Test Accuracy 99.05\n",
            "Epoch[34/100]: Training loss:0.0025338780631573173 Test Accuracy 99.15\n",
            "Epoch[35/100]: Training loss:0.00258764671679819 Test Accuracy 99.05\n",
            "Epoch[36/100]: Training loss:0.002502339449536521 Test Accuracy 99.15\n",
            "Epoch[37/100]: Training loss:0.002491631926211994 Test Accuracy 99.10\n",
            "Epoch[38/100]: Training loss:0.002434708324792155 Test Accuracy 99.10\n",
            "Epoch[39/100]: Training loss:0.00239407303056214 Test Accuracy 99.20\n",
            "Epoch[40/100]: Training loss:0.0023947862875356805 Test Accuracy 99.00\n",
            "Epoch[41/100]: Training loss:0.0023428493769752094 Test Accuracy 99.10\n",
            "Epoch[42/100]: Training loss:0.0022599923946254423 Test Accuracy 98.80\n",
            "Epoch[43/100]: Training loss:0.0022555079334124458 Test Accuracy 99.05\n",
            "Epoch[44/100]: Training loss:0.0022790926699963166 Test Accuracy 99.15\n",
            "Epoch[45/100]: Training loss:0.002230126573500456 Test Accuracy 99.10\n",
            "Epoch[46/100]: Training loss:0.002202547801025503 Test Accuracy 98.70\n",
            "Epoch[47/100]: Training loss:0.0021923779205535537 Test Accuracy 99.10\n",
            "Epoch[48/100]: Training loss:0.002080130892813031 Test Accuracy 99.10\n",
            "Epoch[49/100]: Training loss:0.0021562197282692067 Test Accuracy 99.00\n",
            "Epoch[50/100]: Training loss:0.0019793554960051553 Test Accuracy 99.15\n",
            "Epoch[51/100]: Training loss:0.0020242759920001845 Test Accuracy 99.10\n",
            "Epoch[52/100]: Training loss:0.0019614217754860873 Test Accuracy 99.15\n",
            "Epoch[53/100]: Training loss:0.001963508706074208 Test Accuracy 99.00\n",
            "Epoch[54/100]: Training loss:0.0018843680851277896 Test Accuracy 99.10\n",
            "Epoch[55/100]: Training loss:0.0019190313608778524 Test Accuracy 99.25\n",
            "Epoch[56/100]: Training loss:0.0018336725864246547 Test Accuracy 99.10\n",
            "Epoch[57/100]: Training loss:0.0018253029251573025 Test Accuracy 99.15\n",
            "Epoch[58/100]: Training loss:0.0018599652635821258 Test Accuracy 99.20\n",
            "Epoch[59/100]: Training loss:0.001765681407901866 Test Accuracy 99.15\n",
            "Epoch[60/100]: Training loss:0.0017513455207590596 Test Accuracy 99.25\n",
            "Epoch[61/100]: Training loss:0.0017906013325118693 Test Accuracy 99.00\n",
            "Epoch[62/100]: Training loss:0.0017262819525349186 Test Accuracy 99.25\n",
            "Epoch[63/100]: Training loss:0.0016602388546634757 Test Accuracy 99.25\n",
            "Epoch[64/100]: Training loss:0.0016122388086369029 Test Accuracy 99.25\n",
            "Epoch[65/100]: Training loss:0.0016503420969092985 Test Accuracy 99.10\n",
            "Epoch[66/100]: Training loss:0.0015695578544991805 Test Accuracy 99.25\n",
            "Epoch[67/100]: Training loss:0.0015961484258878045 Test Accuracy 99.10\n",
            "Epoch[68/100]: Training loss:0.0015436532901294414 Test Accuracy 99.20\n",
            "Epoch[69/100]: Training loss:0.0016165219992999482 Test Accuracy 99.00\n",
            "Epoch[70/100]: Training loss:0.0014743771542271133 Test Accuracy 99.20\n",
            "Epoch[71/100]: Training loss:0.0014676444145316054 Test Accuracy 99.20\n",
            "Epoch[72/100]: Training loss:0.0014774210522373323 Test Accuracy 99.10\n",
            "Epoch[73/100]: Training loss:0.001499522912388784 Test Accuracy 99.10\n",
            "Epoch[74/100]: Training loss:0.0014010492805027752 Test Accuracy 99.20\n",
            "Epoch[75/100]: Training loss:0.001547519779740469 Test Accuracy 99.15\n",
            "Epoch[76/100]: Training loss:0.001381964376072574 Test Accuracy 99.15\n",
            "Epoch[77/100]: Training loss:0.0013381340685045871 Test Accuracy 99.20\n",
            "Epoch[78/100]: Training loss:0.0013237698375269246 Test Accuracy 99.30\n",
            "Epoch[79/100]: Training loss:0.001378660472761112 Test Accuracy 99.15\n",
            "Epoch[80/100]: Training loss:0.0013383694248332177 Test Accuracy 99.20\n",
            "Epoch[81/100]: Training loss:0.0012935135574152809 Test Accuracy 99.25\n",
            "Epoch[82/100]: Training loss:0.0012747768805475063 Test Accuracy 99.10\n",
            "Epoch[83/100]: Training loss:0.00124635774928538 Test Accuracy 98.95\n",
            "Epoch[84/100]: Training loss:0.0012164711216028081 Test Accuracy 99.10\n",
            "Epoch[85/100]: Training loss:0.001242465049808743 Test Accuracy 99.30\n",
            "Epoch[86/100]: Training loss:0.001307276638296571 Test Accuracy 99.20\n",
            "Epoch[87/100]: Training loss:0.0011168737723687627 Test Accuracy 99.25\n",
            "Epoch[88/100]: Training loss:0.001167367390360596 Test Accuracy 98.90\n",
            "Epoch[89/100]: Training loss:0.001165657387025931 Test Accuracy 99.15\n",
            "Epoch[90/100]: Training loss:0.001137426883524313 Test Accuracy 99.20\n",
            "Epoch[91/100]: Training loss:0.0011609722300272552 Test Accuracy 99.30\n",
            "Epoch[92/100]: Training loss:0.0010730813714089535 Test Accuracy 99.05\n",
            "Epoch[93/100]: Training loss:0.0010843295513959675 Test Accuracy 99.00\n",
            "Epoch[94/100]: Training loss:0.0011227608338795108 Test Accuracy 99.10\n",
            "Epoch[95/100]: Training loss:0.001030833851056741 Test Accuracy 99.20\n",
            "Epoch[96/100]: Training loss:0.0009845232324587414 Test Accuracy 99.20\n",
            "Epoch[97/100]: Training loss:0.0011033733128087988 Test Accuracy 98.85\n",
            "Epoch[98/100]: Training loss:0.0010829190777694748 Test Accuracy 99.25\n",
            "Epoch[99/100]: Training loss:0.000981816212530248 Test Accuracy 99.15\n",
            "Epoch[100/100]: Training loss:0.0009036654402725617 Test Accuracy 98.85\n"
          ]
        }
      ]
    },
    {
      "cell_type": "code",
      "source": [
        "print(max_acc)\n",
        "print(max_epoch)"
      ],
      "metadata": {
        "colab": {
          "base_uri": "https://localhost:8080/"
        },
        "id": "TFntxAmv_3J_",
        "outputId": "109cc49d-9a1a-4152-eb21-1f2ee2cd9fa8"
      },
      "execution_count": null,
      "outputs": [
        {
          "output_type": "stream",
          "name": "stdout",
          "text": [
            "99.3\n",
            "78\n"
          ]
        }
      ]
    },
    {
      "cell_type": "code",
      "source": [
        "##RESULTS\n",
        "#30 Epochs\n",
        "#ShallowLinearModel(Model with only 1 linear layer containing 256 hidden nodes): 84.59 (20)\n",
        "#ShallownonLinearModel(Model with only 1 non linear layer containing 256 hidden nodes): 87.67 (30)\n",
        "#DeepLinearModel(Model with only 3 linear layer containing 256,128,64 hidden nodes): 84.73 (19)\n",
        "#DeepnonLinearModel(Model with only 3 non linear layer containing 256,128,64 hidden nodes): 88.10(27)\n",
        "\n",
        "#100 Epochs\n",
        "#LinearModel(Model with only input and output): 84.64 (91)\n",
        "#ShallowLinearModel(Model with only 1 linear layer containing 256 hidden nodes): 84.73 (87)\n",
        "#ShallownonLinearModel(Model with only 1 non linear layer containing 256 hidden nodes): 89.32 (87)\n",
        "#DeepLinearModel(Model with only 3 linear layer containing 256,128,64 hidden nodes): 84.42(79)\n",
        "#DLGN(DLGN Model with only 3 linear layer containing 256,128,64 hidden nodes) 89.15(97)\n",
        "#DeepnonLinearModel(Model with only 3 non linear layer containing 256,128,64 hidden nodes): 89.21(91)"
      ],
      "metadata": {
        "id": "K5x6Y0ZWKGxq"
      },
      "execution_count": null,
      "outputs": []
    },
    {
      "cell_type": "code",
      "source": [
        "#run for DLGN and Linear models\n",
        "#2 classes\n",
        "#'T-shirt/top' --> top 4x4 50% data,'Trouser' --> bottom 4x4 50% data"
      ],
      "metadata": {
        "id": "1F5R6eogkJHM"
      },
      "execution_count": null,
      "outputs": []
    },
    {
      "cell_type": "code",
      "source": [
        "#100 Epochs\n",
        "#2 Classes\n",
        "#LinearModel(Model with only input and output):  98.80(96)\n",
        "#ShallowLinearModel(Model with only 1 linear layer containing 256 hidden nodes):  98.90(63)\n",
        "#ShallownonLinearModel(Model with only 1 non linear layer containing 256 hidden nodes):  99.10(71)\n",
        "#DeepLinearModel(Model with only 3 linear layer containing 256,128,64 hidden nodes): 98.85(33)\n",
        "#DLGN(DLGN Model with only 3 linear layer containing 256,128,64 hidden nodes) 99.30(35)\n",
        "#DeepnonLinearModel(Model with only 3 non linear layer containing 256,128,64 hidden nodes): 99.10(54)"
      ],
      "metadata": {
        "id": "V3UAnUqc71Lj"
      },
      "execution_count": null,
      "outputs": []
    },
    {
      "cell_type": "code",
      "source": [
        "#100 Epochs\n",
        "#'T-shirt/top' --> top 4x4 50% data,'Trouser' --> bottom 4x4 50% data\n",
        "#only train\n",
        "#2 Classes\n",
        "#LinearModel(Model with only input and output):  98.75(42)\n",
        "#ShallowLinearModel(Model with only 1 linear layer containing 256 hidden nodes):  98.65(28)\n",
        "#ShallownonLinearModel(Model with only 1 non linear layer containing 256 hidden nodes):  98.75(71)\n",
        "#DeepLinearModel(Model with only 3 linear layer containing 256,128,64 hidden nodes): 98.60(35)\n",
        "#DLGN(DLGN Model with only 3 linear layer containing 256,128,64 hidden nodes) 99.05(39)\n",
        "#DeepnonLinearModel(Model with only 3 non linear layer containing 256,128,64 hidden nodes): 99.00(81)"
      ],
      "metadata": {
        "id": "dviNWWsJpRaV"
      },
      "execution_count": null,
      "outputs": []
    },
    {
      "cell_type": "code",
      "source": [
        "#100 Epochs\n",
        "#'T-shirt/top' --> top 4x4 50% data,'Trouser' --> bottom 4x4 50% data\n",
        "#both train and test\n",
        "#2 Classes\n",
        "#LinearModel(Model with only input and output):  99.30(83)\n",
        "#ShallowLinearModel(Model with only 1 linear layer containing 256 hidden nodes):  99.20(29)\n",
        "#ShallownonLinearModel(Model with only 1 non linear layer containing 256 hidden nodes):  99.30(84)\n",
        "#DeepLinearModel(Model with only 3 linear layer containing 256,128,64 hidden nodes): 99.2(13)\n",
        "#DLGN(DLGN Model with only 3 linear layer containing 256,128,64 hidden nodes) 99.45(50)\n",
        "#DeepnonLinearModel(Model with only 3 non linear layer containing 256,128,64 hidden nodes): 99.3(78)"
      ],
      "metadata": {
        "id": "TLvZRnx1wz-J"
      },
      "execution_count": null,
      "outputs": []
    },
    {
      "cell_type": "code",
      "source": [],
      "metadata": {
        "id": "HXvT8giXB5pV"
      },
      "execution_count": null,
      "outputs": []
    }
  ]
}