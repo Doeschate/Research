{
  "nbformat": 4,
  "nbformat_minor": 0,
  "metadata": {
    "colab": {
      "provenance": []
    },
    "kernelspec": {
      "name": "python3",
      "display_name": "Python 3"
    },
    "language_info": {
      "name": "python"
    },
    "gpuClass": "standard"
  },
  "cells": [
    {
      "cell_type": "code",
      "execution_count": 1,
      "metadata": {
        "id": "ld8fEDAWy3O2"
      },
      "outputs": [],
      "source": [
        "#@title Importing Packages\n",
        "import random\n",
        "import matplotlib.pyplot as plt\n",
        "import numpy as np\n",
        "import torch\n",
        "import torch.nn as nn\n",
        "import torchvision\n",
        "import torchvision.transforms as transforms\n",
        "import torch.nn.functional as F\n",
        "import torch.optim as optim\n",
        "\n",
        "#save numpy array as npz file\n",
        "from numpy import asarray\n",
        "from numpy import savez_compressed\n",
        "# load numpy array from npz file\n",
        "from numpy import load\n",
        "\n",
        "from tqdm import tqdm as tqdm"
      ]
    },
    {
      "cell_type": "code",
      "source": [
        "#@title Device configuration\n",
        "device = torch.device(\"cuda:0\" if torch.cuda.is_available() else \"cpu\")"
      ],
      "metadata": {
        "id": "iA-2mvB_xYpk"
      },
      "execution_count": 2,
      "outputs": []
    },
    {
      "cell_type": "code",
      "source": [
        "from google.colab import drive\n",
        "drive.mount('/content/drive')"
      ],
      "metadata": {
        "id": "Z0EHnRI9kzlW",
        "colab": {
          "base_uri": "https://localhost:8080/"
        },
        "outputId": "1aef3490-a1a7-4872-c5c2-11fcc9754db4"
      },
      "execution_count": 3,
      "outputs": [
        {
          "output_type": "stream",
          "name": "stdout",
          "text": [
            "Mounted at /content/drive\n"
          ]
        }
      ]
    },
    {
      "cell_type": "code",
      "source": [
        "#@title Fashion MNIST"
      ],
      "metadata": {
        "id": "QI2VEqcb4E3_"
      },
      "execution_count": null,
      "outputs": []
    },
    {
      "cell_type": "code",
      "source": [
        "#@title Parameters\n",
        "\n",
        "#DLGN(DLGN Model with only 3 linear layer containing 10,10,10 hidden nodes)\n",
        "#DeepnonLinearModel(Model with only 3 non linear layer containing 10,10,10 hidden nodes)\n",
        "\n",
        "#Replace any of the following in model_name to run that mode\n",
        "#DLGN/DeepnonLinearModel\n",
        "file_path = \"/content/drive/MyDrive/Research/DLGN_Fashion_MNIST/Saved_models/\"\n",
        "file_name1 = \"DLGN_95_full_black_patch_no_extra_data_lr_.001.npz\"\n",
        "error_file = \"Error_DLGN_95_full_black_patch_no_extra_data_train_test_lr_.001.npz\"\n",
        "\n",
        "num_hidden_layers=3\n",
        "input_dim=784\n",
        "output_dim=10\n",
        "num_hidden_nodes=[10,10,10]\n",
        "modep='pwc'\n",
        "model_name = 'DLGN' #@param {'type': 'string'}\n",
        "batch_size = 64\n",
        "beta = 20\n",
        "epochs = 100\n",
        "learning_rate = 0.001\n",
        "optimizer_name ='SGD'\n",
        "num_of_classes = 10 #10 -> using all 10 classes of FMNIST\n",
        "n_corr_data = 95/100 #fraction of the data that is made corrupted\n",
        "corrupted_train = True #True - fraction of the data is corrupted, False- expt on real data w.o corruption\n",
        "corrupted_test = True\n",
        "extra_data_train = False #True - Adding additional real data corresponding to the corrupted data, False- no addition\n",
        "extra_data_test = False\n",
        "simplified_patch_train = True #white patch and rest full black on train corrupted portion of the data\n",
        "simplified_patch_test = True #white patch and rest full black on test corrupted portion of the data\n",
        "model_training = True\n",
        "model_inference = True\n",
        "seed = 365"
      ],
      "metadata": {
        "id": "0aw3Xyh7_njh"
      },
      "execution_count": 4,
      "outputs": []
    },
    {
      "cell_type": "code",
      "source": [
        "def set_npseed(seed):\n",
        "  np.random.seed(seed)\n",
        "  random.seed(seed)\n",
        "\n",
        "def set_torchseed(seed):\n",
        "  torch.manual_seed(seed)\n",
        "  torch.cuda.manual_seed(seed)\n",
        "  torch.cuda.manual_seed_all(seed)\n",
        "  torch.backends.cudnn.deterministic = True\n",
        "  torch.backends.cudnn.benchmark = False"
      ],
      "metadata": {
        "id": "we2FnxvM-ahu"
      },
      "execution_count": null,
      "outputs": []
    },
    {
      "cell_type": "code",
      "source": [
        "set_npseed(seed)"
      ],
      "metadata": {
        "id": "VQliknAV_XGa"
      },
      "execution_count": null,
      "outputs": []
    },
    {
      "cell_type": "markdown",
      "source": [
        "**Load Dataset**"
      ],
      "metadata": {
        "id": "7nid_h-f7BDo"
      }
    },
    {
      "cell_type": "code",
      "source": [
        "#image transform and normalization\n",
        "transform = transforms.Compose(\n",
        "    [transforms.ToTensor(),\n",
        "     transforms.Normalize((0.5,),(0.5,))])\n",
        "\n",
        "\n",
        "#defining train and test sets.\n",
        "trainset = torchvision.datasets.FashionMNIST('data',\n",
        "                                             download=True,\n",
        "                                             train=True,\n",
        "                                             transform=transform)\n",
        "testset = torchvision.datasets.FashionMNIST('data',\n",
        "                                            download=True,\n",
        "                                            train=False,\n",
        "                                            transform=transform)\n"
      ],
      "metadata": {
        "id": "C-o9oRKv6nFH"
      },
      "execution_count": null,
      "outputs": []
    },
    {
      "cell_type": "markdown",
      "source": [
        "**Important**"
      ],
      "metadata": {
        "id": "hOUq6PmbMxFs"
      }
    },
    {
      "cell_type": "code",
      "source": [
        "# trainset.data[1][:4,:4]=0 can be used to access and modify the data from actual dataset downloaded in __init__"
      ],
      "metadata": {
        "id": "dqTmQZnIKasj"
      },
      "execution_count": null,
      "outputs": []
    },
    {
      "cell_type": "code",
      "source": [
        "# trainset[1][0][0][:4,:4] this is the data after transform that is used in training after taking index by index using __get_item()__ function and it is non-editable"
      ],
      "metadata": {
        "id": "7_meu0PrmNCn"
      },
      "execution_count": null,
      "outputs": []
    },
    {
      "cell_type": "code",
      "source": [
        "#@title 100% data + n_corr_data% corrupted data\n",
        "#trainset\n",
        "if extra_data_train:\n",
        "  extra_train_data = torch.zeros(int(trainset.data.shape[0]*n_corr_data),trainset.data.shape[1],trainset.data.shape[2],dtype=torch.uint8)\n",
        "  extra_train_target = torch.zeros(int(trainset.targets.shape[0]*n_corr_data),dtype=torch.int64)\n",
        "\n",
        "  #testset\n",
        "if extra_data_test:\n",
        "  extra_test_data = torch.zeros(int(testset.data.shape[0]*n_corr_data),testset.data.shape[1],testset.data.shape[2],dtype=torch.uint8)\n",
        "  extra_test_target = torch.zeros(int(testset.targets.shape[0]*n_corr_data),dtype=torch.int64)"
      ],
      "metadata": {
        "id": "33zXbXt5xXsk"
      },
      "execution_count": null,
      "outputs": []
    },
    {
      "cell_type": "code",
      "source": [
        "#@title **Left 4x4 n_corr_data% data 5 classes, right 4x4 n_corr_data% data for 5 classes**\n",
        "if num_of_classes==10:\n",
        "  if corrupted_train:\n",
        "    #train_set\n",
        "    count_corrupt = 0\n",
        "    count = len(trainset)//10\n",
        "    count_class= [0,0,0,0,0,0,0,0,0,0]\n",
        "    for i in range(len(trainset)):\n",
        "      data_class = trainset.targets[i].item()\n",
        "      if((data_class<5)&(count_class[data_class]<count*n_corr_data)):\n",
        "        if extra_data_train:\n",
        "          extra_train_data[count_corrupt]=trainset.data[i].detach().clone()\n",
        "          extra_train_target[count_corrupt]=trainset.targets[i].detach().clone()\n",
        "          \n",
        "          # print(extra_train_target[count_corrupt])\n",
        "          count_corrupt=count_corrupt+1\n",
        "        trainset.data[i][0+6*data_class:4+6*data_class,0:4]=255\n",
        "        if simplified_patch_train:\n",
        "          rest_black = torch.zeros(trainset.data[i].shape)\n",
        "          rest_black[0+6*data_class:4+6*data_class,0:4]=255\n",
        "          trainset.data[i] = rest_black\n",
        "        trainset.targets[i]=(trainset.targets[i]+10) #added to differentiate the corrupted data from the uncorrupted data, corrupted data will have target value as target value+10\n",
        "        count_class[data_class]+=1\n",
        "      if((data_class>=5)&(count_class[data_class]<count*n_corr_data)):\n",
        "        if extra_data_train:\n",
        "          extra_train_data[count_corrupt]=trainset.data[i].detach().clone()\n",
        "          extra_train_target[count_corrupt]=trainset.targets[i].detach().clone()\n",
        "          count_corrupt=count_corrupt+1\n",
        "        trainset.data[i][0+6*(data_class-5):4+6*(data_class-5),-4:]=255\n",
        "        if simplified_patch_train:\n",
        "          rest_black = torch.zeros(trainset.data[i].shape)\n",
        "          rest_black[0+6*(data_class-5):4+6*(data_class-5),-4:]=255\n",
        "          trainset.data[i] = rest_black\n",
        "        trainset.targets[i]=(trainset.targets[i]+10)\n",
        "        count_class[data_class]+=1\n",
        "\n",
        "    #test_set\n",
        "  if corrupted_test:\n",
        "    count_corrupt_test = 0\n",
        "    count_test = len(testset)//10\n",
        "    count_class_test= [0,0,0,0,0,0,0,0,0,0]\n",
        "    for i in range(len(testset)):\n",
        "      data_class_test = testset.targets[i].item()\n",
        "      if((data_class_test<5)&(count_class_test[data_class_test]<count_test*n_corr_data)):\n",
        "        if extra_data_test:\n",
        "          extra_test_data[count_corrupt_test]=testset.data[i].detach().clone()\n",
        "          extra_test_target[count_corrupt_test]=testset.targets[i].detach().clone()\n",
        "          count_corrupt_test=count_corrupt_test+1\n",
        "        testset.data[i][0+6*data_class_test:4+6*data_class_test,0:4]=255\n",
        "        if simplified_patch_test:\n",
        "          rest_black = torch.zeros(testset.data[i].shape)\n",
        "          rest_black[0+6*data_class_test:4+6*data_class_test,0:4]=255\n",
        "          testset.data[i] = rest_black\n",
        "        testset.targets[i]=(testset.targets[i]+10)\n",
        "        count_class_test[data_class_test]+=1\n",
        "      if((data_class_test>=5)&(count_class_test[data_class_test]<count_test*n_corr_data)):\n",
        "        if extra_data_test:\n",
        "          extra_test_data[count_corrupt_test]=testset.data[i].detach().clone()\n",
        "          extra_test_target[count_corrupt_test]=testset.targets[i].detach().clone()\n",
        "          count_corrupt_test=count_corrupt_test+1\n",
        "        testset.data[i][0+6*(data_class_test-5):4+6*(data_class_test-5),-4:]=255\n",
        "        if simplified_patch_test:\n",
        "          rest_black = torch.zeros(testset.data[i].shape)\n",
        "          rest_black[0+6*(data_class_test-5):4+6*(data_class_test-5),-4:]=255\n",
        "          testset.data[i] = rest_black\n",
        "        testset.targets[i]=(testset.targets[i]+10)\n",
        "        count_class_test[data_class_test]+=1"
      ],
      "metadata": {
        "id": "qLjHcINrEbDo"
      },
      "execution_count": null,
      "outputs": []
    },
    {
      "cell_type": "code",
      "source": [
        "#@title Custom Dataset\n",
        "class CustomDataset:\n",
        "  def __init__(self,data,targets):\n",
        "    self.data = data\n",
        "    self.targets = targets\n",
        "  def __len__(self):\n",
        "    return self.data.shape[0]\n",
        "  def __getitem__(self,idx):\n",
        "    current_sample = self.data[idx,:,:]\n",
        "    current_target = self.targets[idx]\n",
        "    return current_sample,current_target"
      ],
      "metadata": {
        "id": "5d0m4jSovZXn"
      },
      "execution_count": null,
      "outputs": []
    },
    {
      "cell_type": "code",
      "source": [
        "if extra_data_train:\n",
        "  train_dataset_extra = CustomDataset(data=extra_train_data, targets= extra_train_target)\n",
        "  trainset.data = torch.vstack([trainset.data,train_dataset_extra.data])\n",
        "  trainset.targets = torch.cat([trainset.targets,train_dataset_extra.targets])\n",
        "\n",
        "if extra_data_test:\n",
        "  test_dataset_extra = CustomDataset(data=extra_test_data, targets= extra_test_target)\n",
        "  testset.data = torch.vstack([testset.data,test_dataset_extra.data])\n",
        "  testset.targets = torch.cat([testset.targets,test_dataset_extra.targets])"
      ],
      "metadata": {
        "id": "4A7jHoz0Jx8h"
      },
      "execution_count": null,
      "outputs": []
    },
    {
      "cell_type": "code",
      "source": [
        "#Creating dataloaders for both training and testing\n",
        "trainloader = torch.utils.data.DataLoader(trainset,batch_size = batch_size,\n",
        "                                        shuffle=True)\n",
        "testloader = torch.utils.data.DataLoader(testset,batch_size = batch_size,\n",
        "                                      shuffle=False)\n"
      ],
      "metadata": {
        "id": "AKmmri2_bUpt"
      },
      "execution_count": null,
      "outputs": []
    },
    {
      "cell_type": "code",
      "source": [
        "# #constant for different classes in the dataset\n",
        "# classes = ('T-shirt/top','Trouser','Pullover','Dress','Coat'\n",
        "#       ,'Sandal','Shirt','Sneaker','Bag','Ankle Boot')\n",
        "\n",
        "#function to show an image\n",
        "def matplotlib_imshow(img, one_channel=False):\n",
        "  if one_channel:\n",
        "    img=img.mean(dim=0)\n",
        "  img = img/2 + 0.5 #unnormalize\n",
        "  npimg = img.numpy()\n",
        "  if one_channel:\n",
        "    plt.imshow(npimg, cmap=\"Greys\")\n",
        "  else:\n",
        "    plt.imshow(np.transpose(npimg, (1,2,0)))"
      ],
      "metadata": {
        "id": "VEQDjTpmbiwq"
      },
      "execution_count": null,
      "outputs": []
    },
    {
      "cell_type": "code",
      "source": [
        "dataiter = iter(trainloader)\n",
        "images,labels = next(dataiter)"
      ],
      "metadata": {
        "id": "BWO8zzwP9xdP"
      },
      "execution_count": null,
      "outputs": []
    },
    {
      "cell_type": "markdown",
      "source": [
        "**Visualizing Training Examples**"
      ],
      "metadata": {
        "id": "BeDwetM5jWQZ"
      }
    },
    {
      "cell_type": "code",
      "source": [
        "dataiter = iter(trainloader)\n",
        "images,labels = next(dataiter)\n",
        "matplotlib_imshow(torchvision.utils.make_grid(images))"
      ],
      "metadata": {
        "id": "SgvkiFI760n-"
      },
      "execution_count": null,
      "outputs": []
    },
    {
      "cell_type": "code",
      "source": [
        "print(labels)"
      ],
      "metadata": {
        "id": "hQOmqqGo26Vt"
      },
      "execution_count": null,
      "outputs": []
    },
    {
      "cell_type": "code",
      "source": [
        "#@title **DLGN_FC**\n",
        "# device = \"cuda\" if torch.cuda.is_available() else \"cpu\"\n",
        "print(\"Using {} device\".format(device))\n",
        "\n",
        "class DLGN_FC(nn.Module):\n",
        "  def __init__(self, to_copy=None, num_hidden_layers=0, input_dim=784, output_dim=10, num_hidden_nodes=[], beta=20, mode='pwc'):\n",
        "    super(DLGN_FC, self).__init__()\n",
        "    if to_copy==None:\n",
        "      self.gating_layers=[]\n",
        "      self.value_layers=[]\n",
        "      self.num_hidden_layers = num_hidden_layers\n",
        "      self.beta=beta  # Soft gating parameter\n",
        "      self.mode = mode\n",
        "      self.num_nodes=[input_dim]+num_hidden_nodes+[output_dim]\n",
        "      for i in range(num_hidden_layers+1):\n",
        "        self.gating_layers.append(nn.Linear(self.num_nodes[i], self.num_nodes[i+1],device=device).to(device))\n",
        "        self.value_layers.append(nn.Linear(self.num_nodes[i], self.num_nodes[i+1], bias=False,device=device).to(device))\n",
        "    else:\n",
        "      self.gating_layers=[]\n",
        "      self.value_layers=[]\n",
        "      self.num_hidden_layers = to_copy.num_hidden_layers\n",
        "      self.beta=to_copy.beta  # Soft gating parameter\n",
        "      self.mode = to_copy.mode\n",
        "      self.num_nodes=list(to_copy.num_nodes)\n",
        "      for i in range(self.num_hidden_layers+1):\n",
        "        self.gating_layers.append(nn.Linear(self.num_nodes[i], self.num_nodes[i+1]))\n",
        "        self.value_layers.append(nn.Linear(self.num_nodes[i], self.num_nodes[i+1], bias=False))\n",
        "        self.gating_layers[i].weight.data =  torch.Tensor(np.array(to_copy.gating_layers[i].cpu().weight.detach().numpy()))\n",
        "        self.gating_layers[i].bias.data = torch.Tensor(np.array(to_copy.gating_layers[i].cpu().bias.detach().numpy()))\n",
        "        self.value_layers[i].weight.data = torch.Tensor(np.array(to_copy.value_layers[i].cpu().weight.detach().numpy()))\n",
        "\n",
        "                \n",
        "\n",
        "  def return_gating_functions(self):\n",
        "    effective_weights = []\n",
        "    effective_biases =[]\n",
        "    for i in range(self.num_hidden_layers):\n",
        "      curr_weight = self.gating_layers[i].weight\n",
        "      curr_bias = self.gating_layers[i].bias\n",
        "      if i==0:\n",
        "        effective_weights.append(curr_weight)\n",
        "        effective_biases.append(curr_bias)\n",
        "      else:\n",
        "        effective_biases.append(torch.matmul(curr_weight,effective_biases[-1])+curr_bias)\n",
        "        effective_weights.append(torch.matmul(curr_weight,effective_weights[-1]))\n",
        "    return effective_weights, effective_biases\n",
        "    # effective_weights (and effective biases) is a list of size num_hidden_layers\n",
        "              \n",
        "\n",
        "  def forward(self, x):\n",
        "    x=x.view(x.shape[0],-1)\n",
        "    gate_scores=[x]\n",
        "    if self.mode=='pwc':\n",
        "      values=[torch.ones(x.shape).to(device)]\n",
        "    else:\n",
        "      values=[x]\n",
        "    for i in range(self.num_hidden_layers):\n",
        "      gate_scores.append(self.gating_layers[i].to(device)(gate_scores[-1].to(device)).to(device))\n",
        "      curr_gate_on_off = torch.sigmoid(beta*gate_scores[-1].to(device)).to(device)\n",
        "      values.append(self.value_layers[i].to(device)(values[-1].to(device)).to(device)*curr_gate_on_off.to(device))\n",
        "    values.append(self.value_layers[self.num_hidden_layers].to(device)(values[-1].to(device)).to(device))\n",
        "    # Values is a list of size 1+num_hidden_layers+1\n",
        "    #gate_scores is a list of size 1+num_hidden_layers\n",
        "    return values,gate_scores"
      ],
      "metadata": {
        "id": "KmqBpq3mmZFL"
      },
      "execution_count": null,
      "outputs": []
    },
    {
      "cell_type": "markdown",
      "source": [
        "**DNN Architecture**"
      ],
      "metadata": {
        "id": "g_Z7odtLtIYW"
      }
    },
    {
      "cell_type": "code",
      "source": [
        "#@title **DNL_FC**\n",
        "# device = \"cuda\" if torch.cuda.is_available() else \"cpu\"\n",
        "print(\"Using {} device\".format(device))\n",
        "\n",
        "class DNL_FC(nn.Module):\n",
        "  def __init__(self, to_copy=None, num_hidden_layers=0, input_dim=784, output_dim=10, num_hidden_nodes=[]):\n",
        "    super(DNL_FC, self).__init__()\n",
        "    if to_copy==None:\n",
        "      self.gating_layers=[]\n",
        "      self.num_hidden_layers = num_hidden_layers\n",
        "      self.num_nodes=[input_dim]+num_hidden_nodes+[output_dim]\n",
        "      for i in range(num_hidden_layers+1):\n",
        "        self.gating_layers.append(nn.Linear(self.num_nodes[i], self.num_nodes[i+1],device=device).to(device))\n",
        "    else:\n",
        "      self.gating_layers=[]\n",
        "      self.num_hidden_layers = to_copy.num_hidden_layers\n",
        "      self.num_nodes=list(to_copy.num_nodes)\n",
        "      for i in range(self.num_hidden_layers+1):\n",
        "        self.gating_layers.append(nn.Linear(self.num_nodes[i], self.num_nodes[i+1],device=device).to(device))\n",
        "        self.gating_layers[i].weight.data =  torch.Tensor(np.array(to_copy.gating_layers[i].cpu().weight.detach().numpy()))\n",
        "        self.gating_layers[i].bias.data = torch.Tensor(np.array(to_copy.gating_layers[i].cpu().bias.detach().numpy()))\n",
        "\n",
        "                \n",
        "\n",
        "  def return_gating_functions(self):\n",
        "    effective_weights = []\n",
        "    effective_biases =[]\n",
        "    for i in range(self.num_hidden_layers):\n",
        "      curr_weight = self.gating_layers[i].weight\n",
        "      curr_bias = self.gating_layers[i].bias\n",
        "      if i==0:\n",
        "        effective_weights.append(curr_weight)\n",
        "        effective_biases.append(curr_bias)\n",
        "      else:\n",
        "        effective_biases.append(torch.matmul(curr_weight,effective_biases[-1])+curr_bias)\n",
        "        effective_weights.append(torch.matmul(curr_weight,effective_weights[-1]))\n",
        "    return effective_weights, effective_biases\n",
        "    # effective_weights (and effective biases) is a list of size num_hidden_layers\n",
        "              \n",
        "\n",
        "  def forward(self, x):\n",
        "    x=x.view(x.shape[0],-1)\n",
        "    gate_scores=[x]\n",
        "    \n",
        "    for i in range(self.num_hidden_layers):\n",
        "      gate_scores.append(F.relu(self.gating_layers[i].to(device)(gate_scores[-1].to(device)).to(device)))\n",
        "    gate_scores.append(F.log_softmax(self.gating_layers[self.num_hidden_layers].to(device)(gate_scores[-1].to(device)).to(device),dim=1))\n",
        "    return gate_scores"
      ],
      "metadata": {
        "id": "PHyLivy_Ujg8"
      },
      "execution_count": null,
      "outputs": []
    },
    {
      "cell_type": "code",
      "source": [
        "#@title **Train model**\n",
        "def train_model(seed,num_hidden_layers,input_dim,output_dim,num_hidden_nodes,beta,batch_size,mode,num_epoch):\n",
        "  set_torchseed(seed)\n",
        "  Model_obj = None\n",
        "  \n",
        "  if model_name == 'DLGN':\n",
        "    Model_obj = DLGN_FC(num_hidden_layers=num_hidden_layers, input_dim=input_dim, output_dim=output_dim, \n",
        "                        num_hidden_nodes=num_hidden_nodes, beta=beta, mode=mode)     \n",
        "    \n",
        " \n",
        "  if model_name == 'DeepnonLinearModel':\n",
        "    Model_obj = DNL_FC(num_hidden_layers=num_hidden_layers, input_dim=input_dim, output_dim=output_dim, \n",
        "                        num_hidden_nodes=num_hidden_nodes)    \n",
        "  \n",
        "  Model_obj=Model_obj.to(device) \n",
        "\n",
        "  \n",
        "  Model_params = []\n",
        "  Model_params += [item.weight for item in Model_obj.gating_layers]\n",
        "  Model_params += [item.bias for item in Model_obj.gating_layers]\n",
        "  if model_name == 'DLGN':\n",
        "    Model_params += [item.weight for item in Model_obj.value_layers]\n",
        "\n",
        "  \n",
        " \n",
        "  if optimizer_name == 'SGD':\n",
        "    optimizer = optim.SGD(Model_params, lr=learning_rate)\n",
        "  if optimizer_name == 'Adam':\n",
        "    optimizer = optim.Adam(Model_params, lr=learning_rate)\n",
        "\n",
        "  criterion = nn.NLLLoss()\n",
        " \n",
        "  losses=[]\n",
        "  Model_obj_store = []\n",
        "  for epoch in tqdm(range(epochs)):  # loop over the dataset multiple times\n",
        "    running_loss = 0.0\n",
        "    if model_name == 'DLGN':\n",
        "      Model_obj_store.append(DLGN_FC(to_copy=Model_obj))\n",
        "    if model_name == 'DeepnonLinearModel':\n",
        "      Model_obj_store.append(DNL_FC(to_copy=Model_obj))\n",
        "    \n",
        "    for images,labels in trainloader:\n",
        "      optimizer.zero_grad()\n",
        "      images = images.to(device)\n",
        "      labels = labels.to(device)\n",
        "      \n",
        "      if model_name == 'DLGN':\n",
        "        values,gate_scores = Model_obj(images)\n",
        "        loss = criterion(F.log_softmax(values[-1],dim=1),labels%10)\n",
        "      if model_name == 'DeepnonLinearModel':\n",
        "        gate_scores = Model_obj(images)\n",
        "        loss = criterion(gate_scores[-1],labels%10)\n",
        "      \n",
        "      loss.backward()\n",
        "      optimizer.step()\n",
        "      running_loss += loss.item()    \n",
        "    losses.append(running_loss/len(trainloader))\n",
        "\n",
        "  return losses, Model_obj_store"
      ],
      "metadata": {
        "id": "lp4tox4nnNEm"
      },
      "execution_count": null,
      "outputs": []
    },
    {
      "cell_type": "code",
      "source": [
        "if model_training:\n",
        "  losses, model_store = train_model(seed,num_hidden_layers,input_dim,output_dim,num_hidden_nodes,beta,batch_size,\n",
        "                  modep,epochs)\n",
        "\n",
        "  # save to npy file\n",
        "  file_name=file_path+file_name1\n",
        "  savez_compressed(file_name, losses, model_store)"
      ],
      "metadata": {
        "id": "IE6-05HMbGsZ"
      },
      "execution_count": null,
      "outputs": []
    },
    {
      "cell_type": "code",
      "source": [
        "#@title Inference Loop\n",
        "def eval_fun(corrupted,data_loader,model):\n",
        "  total = 0\n",
        "  correct = 0\n",
        "\n",
        "  if corrupted:\n",
        "    total_corrupted = 0\n",
        "    correct_corrupted = 0\n",
        "    total_real = 0\n",
        "    correct_real = 0\n",
        "\n",
        "  #evaluation\n",
        "  model.eval()\n",
        "  with torch.no_grad():\n",
        "    for images,labels in data_loader:\n",
        "      images = images.to(device)\n",
        "      labels = labels.to(device)\n",
        "      if model_name == 'DLGN':\n",
        "        values,gate_scores = model(images)\n",
        "        max_index = torch.argmax(F.log_softmax(values[-1],dim=1),dim=1)\n",
        "      if model_name == 'DeepnonLinearModel':\n",
        "        gate_scores = model(images)\n",
        "        max_index = torch.argmax(gate_scores[-1],dim=1)\n",
        "      total+=labels.numel()\n",
        "      correct+=sum(max_index==(labels%10)).item()\n",
        "\n",
        "    #For separate corrupted and real train images\n",
        "      if corrupted:\n",
        "        idx_corr=labels>9\n",
        "        total_corrupted += idx_corr.sum().item()\n",
        "        correct_corrupted+=(sum((labels[idx_corr]%10)==max_index[idx_corr]))\n",
        "        idx_real=labels<=9\n",
        "        total_real+=idx_real.sum().item()\n",
        "        correct_real+=sum((labels[idx_real]%10)==max_index[idx_real])\n",
        "        # for lb in range(len(labels)):\n",
        "        #   if(labels[lb]>9):\n",
        "        #     total_corrupted+=1\n",
        "        #     correct_corrupted+=((labels[lb]%10)==max_index[lb]).item()\n",
        "        #   else:\n",
        "        #     total_real+=1\n",
        "        #     correct_real+=((labels[lb]%10)==max_index[lb]).item()\n",
        "    loss_z_o = (total-correct)/(total)\n",
        "    if corrupted:\n",
        "      loss_z_o_corrupted = (total_corrupted-correct_corrupted)/(total_corrupted)\n",
        "      loss_z_o_real = (total_real-correct_real)/(total_real)\n",
        "      # print(total,total_corrupted,total_real)\n",
        "      # print(correct,correct_corrupted,correct_real)\n",
        "    acc=(correct/total*100)\n",
        "  if corrupted:\n",
        "    return acc,loss_z_o,loss_z_o_corrupted,loss_z_o_real\n",
        "  else:\n",
        "    return acc,loss_z_o\n"
      ],
      "metadata": {
        "id": "g3sbRcj-_Saf"
      },
      "execution_count": null,
      "outputs": []
    },
    {
      "cell_type": "code",
      "source": [
        "if model_inference:\n",
        "  max_epoch=0\n",
        "  max_acc=0\n",
        "  epoch_count = []\n",
        "  train_error = []\n",
        "  test_error = []\n",
        "\n",
        "  if corrupted_train:\n",
        "    train_corrupted_error = []\n",
        "    train_real_error = []\n",
        "  if corrupted_test:\n",
        "    test_corrupted_error = []\n",
        "    test_real_error = []\n",
        "\n",
        "\n",
        "  file_name_load  = file_path + file_name1\n",
        "  # load numpy array from npz file\n",
        "  from numpy import load\n",
        "  # load dict of arrays\n",
        "  dict_data = load(file_name_load,allow_pickle=True)\n",
        "  losses=dict_data['arr_0']\n",
        "  model_store=dict_data['arr_1']\n",
        "  \n",
        "  for index in range(len(model_store)):\n",
        "    model=model_store[index]\n",
        "    #Calculating the error for training data\n",
        "    if corrupted_train:\n",
        "      acc,loss_z_o_train,loss_z_o_corrupted_train,loss_z_o_real_train = eval_fun(corrupted_train,trainloader,model)\n",
        "    else:\n",
        "      acc,loss_z_o_train = eval_fun(corrupted_train,trainloader,model)\n",
        "    train_error.append(loss_z_o_train)\n",
        "    if corrupted_train:\n",
        "      train_corrupted_error.append(loss_z_o_corrupted_train)\n",
        "      train_real_error.append(loss_z_o_real_train)\n",
        "\n",
        "    # print(f\"Epoch[{e}/{epochs}]: Training loss:{running_loss/1000}\",end=\" \")\n",
        "    print(f\"Epoch[{index}/{epochs}]: Training zero_one loss:{loss_z_o_train}\")\n",
        "    # print(f\"Epoch[{e}/{epochs}]: Training zero_one corrupted image loss:{loss_z_o_corrupted_train}\",end=\" \")\n",
        "    # print(f\"Epoch[{e}/{epochs}]: Training zero_one real image loss:{loss_z_o_real_train}\",end=\" \")\n",
        "\n",
        "\n",
        "    #Calculating the error for test data\n",
        "    if corrupted_test:\n",
        "      acc,loss_z_o_test,loss_z_o_corrupted_test,loss_z_o_real_test = eval_fun(corrupted_test,testloader,model)\n",
        "    else:\n",
        "      acc,loss_z_o_test = eval_fun(corrupted_test,testloader,model)\n",
        "    test_error.append(loss_z_o_test)\n",
        "    if corrupted_test:\n",
        "      test_corrupted_error.append(loss_z_o_corrupted_test)\n",
        "      test_real_error.append(loss_z_o_real_test)\n",
        "\n",
        "    # print(f\"Test Accuracy {acc:.2f}\",end=\" \")\n",
        "    print(f\"Test Error {loss_z_o_test}\")\n",
        "    # print(f\"Test Error corrupted images {loss_z_o_corrupted_test}\",end=\" \")\n",
        "    # print(f\"Test Error real images {loss_z_o_real_test}\")\n",
        "\n",
        "    epoch_count.append(index)\n",
        "\n",
        "    if(acc>max_acc):\n",
        "      max_acc = acc\n",
        "      max_epoch = index\n",
        "\n",
        "  file_name_error=file_path+error_file\n",
        "  if(corrupted_train and corrupted_test):\n",
        "    savez_compressed(file_name_error, max_epoch,max_acc,epoch_count,train_error,test_error,train_corrupted_error,train_real_error,test_corrupted_error,test_real_error)\n",
        "  elif(corrupted_train):\n",
        "    savez_compressed(file_name_error, max_epoch,max_acc,epoch_count,train_error,test_error,train_corrupted_error,train_real_error)\n",
        "  elif(corrupted_test):\n",
        "    savez_compressed(file_name_error, max_epoch,max_acc,epoch_count,train_error,test_error,test_corrupted_error,test_real_error)\n",
        "  else:\n",
        "    savez_compressed(file_name_error, max_epoch,max_acc,epoch_count,train_error,test_error)\n",
        "\n"
      ],
      "metadata": {
        "id": "9sa-TjaWFPkt"
      },
      "execution_count": null,
      "outputs": []
    },
    {
      "cell_type": "markdown",
      "source": [
        "**RESULTS**"
      ],
      "metadata": {
        "id": "ILVbj5xZNvXA"
      }
    },
    {
      "cell_type": "code",
      "source": [
        "error1=\"Error_DLGN_no_patch_no_extra_data_train_test_lr_.001.npz\"\n",
        "\n",
        "error2=\"Error_DLGN_50_white_patch_no_extra_data_train_test_lr_.001.npz\"\n",
        "error3=\"Error_DLGN_50_white_patch_no_extra_data_train_lr_.001.npz\"\n",
        "error4=\"Error_DLGN_50_white_patch_extra_data_train_test_lr_.001.npz\"\n",
        "error41=\"Error_DLGN_50_white_patch_extra_data_train_test_lr_.0001.npz\"\n",
        "\n",
        "error5=\"Error_DLGN_50_full_black_patch_no_extra_data_train_test_lr_.001.npz\"\n",
        "error6=\"Error_DLGN_50_full_black_patch_no_extra_data_train_lr_.001.npz\"\n",
        "\n",
        "error7=\"Error_DLGN_95_white_patch_no_extra_data_train_test_lr_.001.npz\"\n",
        "error8=\"Error_DLGN_95_white_patch_extra_data_train_test_lr_.001.npz\"\n",
        "error81=\"Error_DLGN_95_white_patch_extra_data_train_test_lr_.0001.npz\"\n",
        "\n",
        "error9=\"Error_DLGN_95_full_black_patch_no_extra_data_train_test_lr_.001.npz\"\n",
        "error91=\"Error_DLGN_95_full_black_patch_no_extra_data_train_test_lr_.0001.npz\"\n",
        "error10=\"Error_DLGN_95_full_black_patch_no_extra_data_train_lr_.001.npz\"\n"
      ],
      "metadata": {
        "id": "He-vSTORfOcf"
      },
      "execution_count": 5,
      "outputs": []
    },
    {
      "cell_type": "code",
      "source": [
        "#@title load error file\n",
        "def load_error_file(error_file):\n",
        "  file_name_load_error = file_path+error_file\n",
        "  dict_data_error = load(file_name_load_error,allow_pickle=True)\n",
        "\n",
        "  if(corrupted_train and corrupted_test):\n",
        "    max_epoch=dict_data_error['arr_0'].item()\n",
        "    max_acc=dict_data_error['arr_1'].item()\n",
        "    epoch_count=dict_data_error['arr_2']\n",
        "    train_error=dict_data_error['arr_3']\n",
        "    test_error=dict_data_error['arr_4']\n",
        "    train_corrupted_error=dict_data_error['arr_5']\n",
        "    train_real_error=dict_data_error['arr_6']\n",
        "    test_corrupted_error=dict_data_error['arr_7']\n",
        "    test_real_error=dict_data_error['arr_8']\n",
        "    return max_epoch,max_acc,epoch_count,train_error,test_error,train_corrupted_error,train_real_error,test_corrupted_error,test_real_error\n",
        "\n",
        "  elif(corrupted_train):\n",
        "    max_epoch=dict_data_error['arr_0'].item()\n",
        "    max_acc=dict_data_error['arr_1'].item()\n",
        "    epoch_count=dict_data_error['arr_2']\n",
        "    train_error=dict_data_error['arr_3']\n",
        "    test_error=dict_data_error['arr_4']\n",
        "    train_corrupted_error=dict_data_error['arr_5']\n",
        "    train_real_error=dict_data_error['arr_6']\n",
        "    return max_epoch,max_acc,epoch_count,train_error,test_error,train_corrupted_error,train_real_error\n",
        "\n",
        "  elif(corrupted_test):\n",
        "    max_epoch=dict_data_error['arr_0'].item()\n",
        "    max_acc=dict_data_error['arr_1'].item()\n",
        "    epoch_count=dict_data_error['arr_2']\n",
        "    train_error=dict_data_error['arr_3']\n",
        "    test_error=dict_data_error['arr_4']\n",
        "    test_corrupted_error=dict_data_error['arr_5']\n",
        "    test_real_error=dict_data_error['arr_6']\n",
        "    return max_epoch,max_acc,epoch_count,train_error,test_error,test_corrupted_error,test_real_error\n",
        "\n",
        "  else:\n",
        "    max_epoch=dict_data_error['arr_0'].item()\n",
        "    max_acc=dict_data_error['arr_1'].item()\n",
        "    epoch_count=dict_data_error['arr_2']\n",
        "    train_error=dict_data_error['arr_3']\n",
        "    test_error=dict_data_error['arr_4']\n",
        "    return max_epoch,max_acc,epoch_count,train_error,test_error\n",
        "\n"
      ],
      "metadata": {
        "id": "uFCwAyW_un4I"
      },
      "execution_count": 8,
      "outputs": []
    },
    {
      "cell_type": "code",
      "source": [
        "corrupted_train = False \n",
        "corrupted_test = False"
      ],
      "metadata": {
        "id": "NqiLBR5tJITl"
      },
      "execution_count": 9,
      "outputs": []
    },
    {
      "cell_type": "code",
      "source": [
        "max_epoch1,max_acc1,epoch_count1,train_error1,test_error1=load_error_file(error1)"
      ],
      "metadata": {
        "id": "7KXenPiHI0mV"
      },
      "execution_count": 10,
      "outputs": []
    },
    {
      "cell_type": "code",
      "source": [
        "corrupted_train = True \n",
        "corrupted_test = True  #False -> 3,6,10\n",
        "error_file = error6  #41,81,91,10"
      ],
      "metadata": {
        "id": "nogut9aeJZjQ"
      },
      "execution_count": 71,
      "outputs": []
    },
    {
      "cell_type": "code",
      "source": [
        "if(corrupted_train and corrupted_test):\n",
        "  max_epoch,max_acc,epoch_count,train_error,test_error,train_corrupted_error,train_real_error,test_corrupted_error,test_real_error=load_error_file(error_file)\n",
        "\n",
        "elif(corrupted_train):\n",
        "  max_epoch,max_acc,epoch_count,train_error,test_error,train_corrupted_error,train_real_error=load_error_file(error_file)\n",
        "\n",
        "elif(corrupted_test):\n",
        "  max_epoch,max_acc,epoch_count,train_error,test_error,test_corrupted_error,test_real_error=load_error_file(error_file)\n",
        "\n",
        "else:\n",
        "  max_epoch,max_acc,epoch_count,train_error,test_error=load_error_file(error_file)\n",
        "\n"
      ],
      "metadata": {
        "id": "SW4meF9S8NMX"
      },
      "execution_count": 72,
      "outputs": []
    },
    {
      "cell_type": "code",
      "source": [
        "print(max_acc)\n",
        "print(max_epoch)"
      ],
      "metadata": {
        "id": "GNFGMJhySV9y",
        "colab": {
          "base_uri": "https://localhost:8080/"
        },
        "outputId": "33c9cd42-7dea-48d2-f1a8-da439188dd14"
      },
      "execution_count": 73,
      "outputs": [
        {
          "output_type": "stream",
          "name": "stdout",
          "text": [
            "84.49\n",
            "81\n"
          ]
        }
      ]
    },
    {
      "cell_type": "code",
      "source": [
        "plt.figure()\n",
        "plt.plot(train_error1[:],label=\"train_error\")\n",
        "if corrupted_train:\n",
        "  plt.plot(train_real_error[:],label=\"train_real_error\")\n",
        "  plt.plot(train_corrupted_error[:],label=\"train_corrupted_error\")\n",
        "plt.xlabel('Epoch')\n",
        "plt.ylabel('Train Error')\n",
        "plt.title('Train error plot')\n",
        "plt.legend()\n",
        "plt.show()"
      ],
      "metadata": {
        "id": "My3JoKG-0p15",
        "colab": {
          "base_uri": "https://localhost:8080/",
          "height": 472
        },
        "outputId": "a9ed78bc-8257-4d03-baea-f316fed3caf6"
      },
      "execution_count": 74,
      "outputs": [
        {
          "output_type": "display_data",
          "data": {
            "text/plain": [
              "<Figure size 640x480 with 1 Axes>"
            ],
            "image/png": "[encoded data removed]"
          },
          "metadata": {}
        }
      ]
    },
    {
      "cell_type": "code",
      "source": [
        "plt.figure()\n",
        "plt.plot(test_error1[:],label=\"test_error\")\n",
        "if corrupted_test:\n",
        "  plt.plot(test_real_error[:],label=\"test_real_error\")\n",
        "  plt.plot(test_corrupted_error[:],label=\"test_corrupted_error\")\n",
        "else:\n",
        "  plt.plot(test_error[:],label=\"test_real_error\")\n",
        "plt.xlabel('Epoch')\n",
        "plt.ylabel('Test Error')\n",
        "plt.title('Test error plot')\n",
        "plt.legend()\n",
        "plt.show()"
      ],
      "metadata": {
        "id": "OthaWei32kOQ",
        "colab": {
          "base_uri": "https://localhost:8080/",
          "height": 472
        },
        "outputId": "053ed6d2-0f5b-4827-d768-bee34a9edfc8"
      },
      "execution_count": 75,
      "outputs": [
        {
          "output_type": "display_data",
          "data": {
            "text/plain": [
              "<Figure size 640x480 with 1 Axes>"
            ],
            "image/png": "[encoded data removed]"
          },
          "metadata": {}
        }
      ]
    },
    {
      "cell_type": "code",
      "source": [],
      "metadata": {
        "id": "Ed8ACqd33wf7"
      },
      "execution_count": null,
      "outputs": []
    },
    {
      "cell_type": "markdown",
      "source": [
        "**ROUGH**"
      ],
      "metadata": {
        "id": "OGIF3w4ZmDgZ"
      }
    },
    {
      "cell_type": "code",
      "source": [],
      "metadata": {
        "id": "n9L2iyZpIDfJ"
      },
      "execution_count": null,
      "outputs": []
    },
    {
      "cell_type": "code",
      "source": [],
      "metadata": {
        "id": "5eUcG7a1bi98"
      },
      "execution_count": null,
      "outputs": []
    },
    {
      "cell_type": "code",
      "source": [],
      "metadata": {
        "id": "Wz1AjU--gLmf"
      },
      "execution_count": null,
      "outputs": []
    },
    {
      "cell_type": "code",
      "source": [],
      "metadata": {
        "id": "PwraLub5qroY"
      },
      "execution_count": null,
      "outputs": []
    },
    {
      "cell_type": "code",
      "source": [],
      "metadata": {
        "id": "IABcG3GH3emU"
      },
      "execution_count": null,
      "outputs": []
    },
    {
      "cell_type": "code",
      "source": [],
      "metadata": {
        "id": "ZJ-B3oSytbCE"
      },
      "execution_count": null,
      "outputs": []
    },
    {
      "cell_type": "code",
      "source": [],
      "metadata": {
        "id": "Z4aiQlnFTVhm"
      },
      "execution_count": null,
      "outputs": []
    }
  ]
}