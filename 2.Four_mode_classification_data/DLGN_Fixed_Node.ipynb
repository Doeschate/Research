{
  "nbformat": 4,
  "nbformat_minor": 0,
  "metadata": {
    "colab": {
      "provenance": []
    },
    "kernelspec": {
      "name": "python3",
      "display_name": "Python 3"
    },
    "language_info": {
      "name": "python"
    },
    "gpuClass": "standard"
  },
  "cells": [
    {
      "cell_type": "code",
      "execution_count": 1,
      "metadata": {
        "id": "kjNxUX51Lh0k"
      },
      "outputs": [],
      "source": [
        "#@title Imports\n",
        "import torch\n",
        "import torch.nn as nn\n",
        "import torch.nn.functional as F\n",
        "import torch.optim as optim\n",
        "from tqdm import tqdm\n",
        "import random\n",
        "import numpy as np\n",
        "import matplotlib.pyplot as plt\n",
        "from sklearn.metrics import pairwise_distances\n",
        "from mpl_toolkits.axes_grid1 import make_axes_locatable\n",
        "from itertools import product as cartesian_prod"
      ]
    },
    {
      "cell_type": "markdown",
      "source": [
        "**Variable parameters**"
      ],
      "metadata": {
        "id": "HDx4xoSOFzR2"
      }
    },
    {
      "cell_type": "code",
      "source": [
        "num_train_data=3000\n",
        "num_vali_data=3000\n",
        "num_test_data=3000\n",
        "dim=2\n",
        "num_modes=2*dim\n",
        "model_type = \"Classification\" #\"Regression\" #for four mode classification data use Classification and for square decision tree data use Regression\n",
        "\n",
        "seed=0\n",
        "num_hidden_layers=3\n",
        "input_dim=dim\n",
        "output_dim=1\n",
        "num_hidden_nodes=[3,3,3]\n",
        "beta=[20,10000] #When freeze is true then the layer corr to unfreeze node beta value is 20 rest 10k, for freeze false every layer beta is 20.\n",
        "no_of_batches=1 #[1,10,100]\n",
        "modep='pwc' #piece wise constant means all 1's will be given as input to NPV.\n",
        "\n",
        "freeze = True #True - when freeze weights of all nodes except one. False- when all nodes weights are varying\n",
        "NPF_freeze = False #Default False, set True - when freeze the whole NPF\n",
        "NPV_freeze = False #Default False, set True - when freeze the whole NPV\n",
        "NPF_pretrained_freezed = False #Default False, set True - when freeze the whole NPF after training it to max and NPV is trained from reinit\n",
        "NPV_pretrained_freezed = False #Default False, set True - when freeze the whole NPV after training it to max and NPF is trained from reinit\n",
        "test_on_train_data = False #Default False, set True when generate node hyperplanes on training data\n",
        "\n",
        "layer_num = 3 #Layer number whose node is only varying and rest are freezed\n",
        "node_num = 3 #Node number of the above layer which is only varying rest are freeze\n",
        "\n",
        "num_epoch=100000\n",
        "lr=0.00005\n",
        "weight_decay=0.0\n",
        "\n",
        "max_no_of_nodes=max(num_hidden_nodes)"
      ],
      "metadata": {
        "id": "8KLhoBZzFxNb"
      },
      "execution_count": 2,
      "outputs": []
    },
    {
      "cell_type": "code",
      "source": [
        "#@title Synthetic data\n",
        "def set_npseed(seed):\n",
        "  np.random.seed(seed)\n",
        "  random.seed(seed)\n",
        "\n",
        "def set_torchseed(seed):\n",
        "  torch.manual_seed(seed)\n",
        "  torch.cuda.manual_seed(seed)\n",
        "  torch.cuda.manual_seed_all(seed)\n",
        "  torch.backends.cudnn.deterministic = True\n",
        "  torch.backends.cudnn.benchmark = False\n",
        "  \n",
        "#Four mode classification data\n",
        "def data_gen1(num_train_data,num_vali_data,num_test_data,dim=2,seed=0):\n",
        "  # np.random.seed(6790)\n",
        "  set_npseed(seed = seed)\n",
        "  d=dim\n",
        "  num_modes=2*d\n",
        "  centers = np.concatenate((np.eye(d), -1*np.eye(d)), axis=0)\n",
        "  np.random.shuffle(centers)\n",
        "  # np.random.seed(475)\n",
        "  hard=num_modes//2\n",
        "\n",
        "  a=[4]* hard + [1]*(num_modes - hard)\n",
        "  mode_frac = np.array([1./num_modes]*num_modes)\n",
        "  b=1.\n",
        "  num_train_data = num_train_data \n",
        "  num_vali_data=num_vali_data\n",
        "  num_test_data=num_test_data\n",
        "  num_data = num_train_data + num_vali_data + num_test_data\n",
        "\n",
        "  num_data_per_mode = np.int32(num_data*mode_frac)\n",
        "  num_data_per_mode = np.concatenate((num_data_per_mode,[np.sum(num_data_per_mode)]))\n",
        "\n",
        "  landmarks=[-1]*num_modes\n",
        "  labels=[-1]*num_modes\n",
        "  for i in range(num_modes):\n",
        "    landmarks[i] = 0.05*np.random.randn(a[i],d)\n",
        "    landmarks[i]+=centers[i]\n",
        "    labels[i] = (i - np.arange(len(landmarks[i])))%2\n",
        "      \n",
        "  data=[-1]*num_modes\n",
        "  data_labels=[-1]*num_modes\n",
        "\n",
        "  train_data=[-1]*num_modes\n",
        "  train_data_labels=[-1]*num_modes\n",
        "\n",
        "  test_data=[-1]*num_modes\n",
        "  test_data_labels=[-1]*num_modes\n",
        "\n",
        "  vali_data=[-1]*num_modes\n",
        "  vali_data_labels=[-1]*num_modes\n",
        "\n",
        "\n",
        "  modes_data=[]\n",
        "  # np.random.seed(12345)\n",
        "\n",
        "  for i in range(num_modes):\n",
        "    data[i] = 0.1*np.random.randn(num_data_per_mode[i],d)\n",
        "    data[i] += centers[i]\n",
        "    data_labels[i] = np.zeros(num_data_per_mode[i])\n",
        "    for j in range(len(data_labels[i])):\n",
        "      dists = pairwise_distances(data[i][j:j+1,:],landmarks[i])                                   \n",
        "      j_star = np.argmin(dists[0])\n",
        "      data_labels[i][j]=labels[i][j_star]\n",
        "      \n",
        "      train_data[i] = np.array(data[i][:int(mode_frac[i]*num_train_data)])\n",
        "      train_data_labels[i] = np.array(data_labels[i][:int(mode_frac[i]*num_train_data)])\n",
        "\n",
        "      vali_data[i] = np.array(data[i][int(mode_frac[i]*num_train_data): \\\n",
        "                                      int(mode_frac[i]*num_train_data)+int(mode_frac[i]*num_vali_data)])\n",
        "      vali_data_labels[i] = np.array(data_labels[i][int(mode_frac[i]*num_train_data): \\\n",
        "                                      int(mode_frac[i]*num_train_data)+int(mode_frac[i]*num_vali_data)])\n",
        "\n",
        "      test_data[i] = np.array(data[i][-int(mode_frac[i]*num_test_data):])\n",
        "      test_data_labels[i] = np.array(data_labels[i][-int(mode_frac[i]*num_test_data):])\n",
        "      \n",
        "  return data,data_labels,train_data,train_data_labels,test_data,test_data_labels,vali_data,vali_data_labels,landmarks,labels,centers,mode_frac\n",
        "\n",
        "def uniform_data_gen(num_data,dim=2):\n",
        "  n=num_data\n",
        "  d=dim\n",
        "  x0x1_min = [-1.0, -1.0]\n",
        "  x0x1_max = [1.0, 1.0]\n",
        "  data = np.random.uniform(low=x0x1_min, high=x0x1_max, size=(n,d))\n",
        "  y=np.zeros(n,dtype=np.float32)\n",
        "  for i,val in enumerate(data):\n",
        "    if(-1<=val[0]<=0 and 0<=val[1]<=1):\n",
        "      y[i]=1\n",
        "    elif (0<=val[0]<=1 and 0.5<=val[1]<=1):\n",
        "      y[i]=0.2\n",
        "    elif(0<=val[0]<=1 and -0.5<=val[1]<=0.5):\n",
        "      y[i]=0.5\n",
        "    else:\n",
        "      y[i]=-1\n",
        "  return data,y\n",
        "\n",
        "#Square decision tree data\n",
        "def data_gen2(num_train_data,num_vali_data,num_test_data,dim=2,seed=0):\n",
        "  set_npseed(seed = seed)\n",
        "  train_data,train_data_labels=uniform_data_gen(num_train_data,dim=dim)\n",
        "  vali_data,vali_data_labels=uniform_data_gen(num_vali_data,dim=dim)\n",
        "  test_data,test_data_labels=uniform_data_gen(num_test_data,dim=dim)\n",
        "  data = np.concatenate((train_data,vali_data),axis=0)\n",
        "  data = np.concatenate((data,test_data),axis=0)\n",
        "  data_labels = np.concatenate((train_data_labels,vali_data_labels),axis=0)\n",
        "  data_labels = np.concatenate((data_labels,test_data_labels),axis=0)\n",
        "  return data,data_labels,train_data,train_data_labels,test_data,test_data_labels,vali_data,vali_data_labels,None,None,None,None"
      ],
      "metadata": {
        "id": "2iXNxcu4L6kT"
      },
      "execution_count": 3,
      "outputs": []
    },
    {
      "cell_type": "code",
      "source": [
        "#@title DLGN_FC\n",
        "device = \"cuda\" if torch.cuda.is_available() else \"cpu\"\n",
        "print(\"Using {} device\".format(device))\n",
        "\n",
        "class DLGN_FC(nn.Module):\n",
        "  def __init__(self, to_copy=None,NPF_pretrained=True,NPV_pretrained=True, num_hidden_layers=0, input_dim=2, output_dim=1, num_hidden_nodes=[], beta=20, mode='pwc'):\n",
        "    super(DLGN_FC, self).__init__()\n",
        "    if to_copy==None:\n",
        "      self.gating_layers=[]\n",
        "      self.value_layers=[]\n",
        "      self.num_hidden_layers = num_hidden_layers\n",
        "      self.beta=beta  # Soft gating parameter\n",
        "      self.mode = mode\n",
        "      self.num_nodes=[input_dim]+num_hidden_nodes+[output_dim]\n",
        "      for i in range(num_hidden_layers+1):\n",
        "        self.gating_layers.append(nn.Linear(self.num_nodes[i], self.num_nodes[i+1]))\n",
        "        self.value_layers.append(nn.Linear(self.num_nodes[i], self.num_nodes[i+1], bias=False))\n",
        "    else:\n",
        "      self.gating_layers=[]\n",
        "      self.value_layers=[]\n",
        "      self.num_hidden_layers = to_copy.num_hidden_layers\n",
        "      self.beta=to_copy.beta  # Soft gating parameter\n",
        "      self.mode = to_copy.mode\n",
        "      self.num_nodes=list(to_copy.num_nodes)\n",
        "      for i in range(self.num_hidden_layers+1):\n",
        "        self.gating_layers.append(nn.Linear(self.num_nodes[i], self.num_nodes[i+1]))\n",
        "        self.value_layers.append(nn.Linear(self.num_nodes[i], self.num_nodes[i+1], bias=False))\n",
        "        if NPF_pretrained:\n",
        "          self.gating_layers[i].weight.data =  torch.Tensor(np.array(to_copy.gating_layers[i].weight.detach().numpy()))\n",
        "          self.gating_layers[i].bias.data = torch.Tensor(np.array(to_copy.gating_layers[i].bias.detach().numpy()))\n",
        "        if NPV_pretrained:\n",
        "          self.value_layers[i].weight.data = torch.Tensor(np.array(to_copy.value_layers[i].weight.detach().numpy()))\n",
        "\n",
        "                \n",
        "\n",
        "  def return_gating_functions(self):\n",
        "    effective_weights = []\n",
        "    effective_biases =[]\n",
        "    for i in range(self.num_hidden_layers):\n",
        "      curr_weight = self.gating_layers[i].weight\n",
        "      curr_bias = self.gating_layers[i].bias\n",
        "      if i==0:\n",
        "        effective_weights.append(curr_weight)\n",
        "        effective_biases.append(curr_bias)\n",
        "      else:\n",
        "        effective_biases.append(torch.matmul(curr_weight,effective_biases[-1])+curr_bias)\n",
        "        effective_weights.append(torch.matmul(curr_weight,effective_weights[-1]))\n",
        "    return effective_weights, effective_biases\n",
        "    # effective_weights (and effective biases) is a list of size num_hidden_layers\n",
        "              \n",
        "\n",
        "  def forward(self, x):\n",
        "    gate_scores=[x]\n",
        "    if self.mode=='pwc':\n",
        "      values=[torch.ones(x.shape)]\n",
        "    else:\n",
        "      values=[x]\n",
        "    \n",
        "    for i in range(self.num_hidden_layers):\n",
        "      beta_used = beta[0]\n",
        "      if ((i!=layer_num-1) and freeze):\n",
        "        beta_used = beta[1]\n",
        "      gate_scores.append(self.gating_layers[i](gate_scores[-1]))\n",
        "      curr_gate_on_off = torch.sigmoid(beta_used*gate_scores[-1])\n",
        "      values.append(self.value_layers[i](values[-1])*curr_gate_on_off)\n",
        "    values.append(self.value_layers[self.num_hidden_layers](values[-1]))\n",
        "    # Values is a list of size 1+num_hidden_layers+1\n",
        "    #gate_scores is a list of size 1+num_hidden_layers\n",
        "    return values,gate_scores"
      ],
      "metadata": {
        "id": "xtzRiptOL_Ug",
        "colab": {
          "base_uri": "https://localhost:8080/"
        },
        "outputId": "7f1101ed-f701-436a-be97-a17a513ecf10"
      },
      "execution_count": 4,
      "outputs": [
        {
          "output_type": "stream",
          "name": "stdout",
          "text": [
            "Using cpu device\n"
          ]
        }
      ]
    },
    {
      "cell_type": "code",
      "source": [
        "# Python program to check whether the given\n",
        "def perfectSq(N) :\n",
        "\tsq_root = round(N**(1/2));\n",
        "\tif sq_root * sq_root == N :\n",
        "\t\treturn True;\n",
        "\telse :\n",
        "\t\treturn False;"
      ],
      "metadata": {
        "id": "lGAfARdaUD3r"
      },
      "execution_count": 5,
      "outputs": []
    },
    {
      "cell_type": "code",
      "source": [
        "#@title Train DLGN model\n",
        "def train_dlgn(seed,num_hidden_layers,input_dim,output_dim,num_hidden_nodes,beta,no_of_batches,\n",
        "               mode,layer_num,node_num,train_data_curr,vali_data_curr,test_data_curr,train_labels_curr,test_labels_curr,vali_labels_curr,num_epoch,freeze,DLGN_obj_pretrained=None,NPF_pretrained = True,NPV_pretrained = True):\n",
        "  # torch.random.manual_seed(1222)\n",
        "  # torch.random.manual_seed(2311)\n",
        "  layer_num=layer_num-1\n",
        "  node_num=node_num-1\n",
        "  set_torchseed(seed)\n",
        "  if freeze:\n",
        "    DLGN_obj_initial = None\n",
        "  DLGN_obj = None\n",
        "  DLGN_obj_return = None\n",
        "  if DLGN_obj_pretrained == None:\n",
        "    DLGN_obj = DLGN_FC(num_hidden_layers=num_hidden_layers, input_dim=input_dim, output_dim=output_dim, \n",
        "                      num_hidden_nodes=num_hidden_nodes, beta=beta, mode=mode)\n",
        "  else:\n",
        "    DLGN_obj = DLGN_FC(to_copy=DLGN_obj_pretrained,NPF_pretrained=NPF_pretrained,NPV_pretrained=NPV_pretrained)\n",
        "\n",
        "  if freeze:\n",
        "    DLGN_obj_initial = DLGN_FC(to_copy=DLGN_obj)\n",
        "  \n",
        "  DLGN_obj_return = DLGN_FC(to_copy=DLGN_obj)\n",
        "\n",
        "  if model_type == \"Classification\":\n",
        "    criterion = nn.CrossEntropyLoss()\n",
        "  if model_type == \"Regression\":\n",
        "    criterion = nn.MSELoss()\n",
        "  \n",
        "  \n",
        "\n",
        "  DLGN_params = []\n",
        "  DLGN_params += [item.weight for item in DLGN_obj.gating_layers]\n",
        "  DLGN_params += [item.bias for item in DLGN_obj.gating_layers]\n",
        "  DLGN_params += [item.weight for item in DLGN_obj.value_layers]\n",
        "#     DLGN_params += [item.bias for item in DLGN_obj.value_layers]\n",
        "\n",
        "  # print(\"H0\")\n",
        "  # print(DLGN_params)\n",
        "\n",
        "  if NPF_freeze:\n",
        "    for index,param in enumerate(DLGN_params):\n",
        "      if(index<2*len(DLGN_obj.gating_layers)):\n",
        "        param.requires_grad=False\n",
        "  if NPV_freeze:\n",
        "    for index,param in enumerate(DLGN_params):\n",
        "      if(index>=2*len(DLGN_obj.gating_layers)):\n",
        "        param.requires_grad=False\n",
        "  if freeze:\n",
        "    for index,param in enumerate(DLGN_params):\n",
        "      if((index != layer_num)):\n",
        "        param.requires_grad=False\n",
        "      if((index==len(DLGN_obj.gating_layers)+layer_num)):\n",
        "        param.requires_grad=True\n",
        "\n",
        "  # print(\"H1\")\n",
        "  # print(DLGN_params)\n",
        "\n",
        "  optimizer = optim.Adam(DLGN_params, lr=lr, weight_decay=weight_decay)\n",
        "  \n",
        "\n",
        "  # print(\"H2\")\n",
        "  # print(DLGN_params)\n",
        "  \n",
        "  train_data_torch = torch.Tensor(train_data_curr)\n",
        "  vali_data_torch = torch.Tensor(vali_data_curr)\n",
        "  test_data_torch = torch.Tensor(test_data_curr)\n",
        "\n",
        "  if model_type == \"Classification\":\n",
        "    train_labels_torch = torch.tensor(train_labels_curr, dtype=torch.int64)\n",
        "    test_labels_torch = torch.tensor(test_labels_curr, dtype=torch.int64)\n",
        "    vali_labels_torch = torch.tensor(vali_labels_curr, dtype=torch.int64)\n",
        "  if model_type == \"Regression\":\n",
        "    train_labels_torch = torch.tensor(train_labels_curr)\n",
        "    test_labels_torch = torch.tensor(test_labels_curr)\n",
        "    vali_labels_torch = torch.tensor(vali_labels_curr)\n",
        "\n",
        "  num_batches = no_of_batches\n",
        "  batch_size = len(train_data_curr)//num_batches\n",
        "  losses=[]\n",
        "  DLGN_obj_store = []\n",
        "  best_vali_error = len(vali_labels_curr)\n",
        "\n",
        "  # print(\"H3\")\n",
        "  # print(DLGN_params)\n",
        "\n",
        "  for epoch in tqdm(range(num_epoch)):  # loop over the dataset multiple times\n",
        "    running_loss = 0.0\n",
        "    if perfectSq(epoch):\n",
        "      DLGN_obj_store.append(DLGN_FC(to_copy=DLGN_obj))\n",
        "    \n",
        "    for batch_start in range(0,len(train_data_curr),batch_size):\n",
        "      optimizer.zero_grad()\n",
        "      values,gate_scores = DLGN_obj(train_data_torch[batch_start:batch_start+batch_size])\n",
        "      \n",
        "      if model_type == \"Classification\":\n",
        "        outputs = torch.cat((-1*values[-1], values[-1]), dim=1)\n",
        "        loss = criterion(outputs, train_labels_torch[batch_start:batch_start+batch_size])\n",
        "      if model_type == \"Regression\":\n",
        "        outputs = values[-1]\n",
        "        loss = criterion(outputs, train_labels_torch[batch_start:batch_start+batch_size].reshape(outputs.shape))\n",
        "\n",
        "      # print(\"H4\")\n",
        "      # print(DLGN_params)\n",
        "\n",
        "      loss.backward()\n",
        "      optimizer.step()\n",
        "\n",
        "      # print(\"H5\")\n",
        "      # print(DLGN_params)\n",
        "      if freeze:\n",
        "        for node in range(num_hidden_nodes[layer_num]):\n",
        "          if(node!=node_num):\n",
        "            # self.gating_layers[i].weight.data =  torch.Tensor(np.array(to_copy.gating_layers[i].weight.detach().numpy()))\n",
        "            DLGN_params[layer_num].data[node]= DLGN_obj_initial.gating_layers[layer_num].weight.data[node]\n",
        "            DLGN_params[len(DLGN_obj.gating_layers)+layer_num].data[node]= DLGN_obj_initial.gating_layers[layer_num].bias.data[node]\n",
        "\n",
        "      # print(\"H6\")\n",
        "      # print(DLGN_params)\n",
        "\n",
        "      running_loss += loss.item()    \n",
        "    losses.append(running_loss/num_batches)\n",
        "\n",
        "    values,gate_scores =DLGN_obj(vali_data_torch)\n",
        "    if model_type == \"Classification\":\n",
        "      vali_preds = torch.cat((-1*values[-1], values[-1]), dim=1)\n",
        "      vali_preds = torch.argmax(vali_preds, dim=1).numpy()\n",
        "      vali_error= np.sum(vali_labels_torch.numpy()!=vali_preds)\n",
        "    if model_type == \"Regression\":\n",
        "      vali_preds = values[-1]\n",
        "      vali_error = criterion(vali_preds, vali_labels_torch.reshape(vali_preds.shape)).item()\n",
        "      vali_preds = vali_preds.detach().numpy()\n",
        "    if vali_error < best_vali_error:\n",
        "      DLGN_obj_return = DLGN_FC(to_copy=DLGN_obj)\n",
        "      best_vali_error = vali_error\n",
        "    \n",
        "  values,gate_scores =DLGN_obj_return(test_data_torch)\n",
        "\n",
        "  if model_type == \"Classification\":\n",
        "    test_preds = torch.cat((-1*values[-1], values[-1]), dim=1)\n",
        "    test_preds = torch.argmax(test_preds, dim=1).numpy()\n",
        "    test_error= np.sum(test_labels_torch.numpy()!=test_preds)\n",
        "  if model_type == \"Regression\":\n",
        "    test_preds = values[-1]\n",
        "    test_error = criterion(test_preds, test_labels_torch.reshape(test_preds.shape)).item()\n",
        "    test_preds = test_preds.detach().numpy()\n",
        "  values,gate_scores=DLGN_obj_return(train_data_torch)\n",
        "\n",
        "  if model_type == \"Classification\":\n",
        "    train_preds = torch.cat((-1*values[-1], values[-1]), dim=1)\n",
        "    train_preds = torch.argmax(train_preds, dim=1).numpy()\n",
        "    train_error= np.sum(train_labels_torch.numpy()!=train_preds)\n",
        "  if model_type == \"Regression\":\n",
        "    train_preds = values[-1]\n",
        "    train_error = criterion(train_preds, train_labels_torch.reshape(train_preds.shape)).item()\n",
        "    train_preds = train_preds.detach().numpy()\n",
        "\n",
        "  plt.figure()\n",
        "  plt.title(\"DLGN loss vs epoch\")\n",
        "  plt.plot(losses)\n",
        "  return test_error, train_error, test_preds, DLGN_obj_return, DLGN_obj_store"
      ],
      "metadata": {
        "id": "Ncr5k6koMbD_"
      },
      "execution_count": 6,
      "outputs": []
    },
    {
      "cell_type": "markdown",
      "source": [
        "**Generating data**"
      ],
      "metadata": {
        "id": "990aqFqrFcIi"
      }
    },
    {
      "cell_type": "code",
      "source": [
        "if model_type == \"Classification\":\n",
        "  data_gen = data_gen1\n",
        "if model_type == \"Regression\":\n",
        "  data_gen = data_gen2\n",
        "  \n",
        "data,data_labels,train_data,train_data_labels,test_data,test_data_labels,vali_data,vali_data_labels, \\\n",
        "landmarks,labels,centers,mode_frac= data_gen(num_train_data,num_vali_data,num_test_data,dim=2,seed=0)"
      ],
      "metadata": {
        "id": "XL-qsOGL1lV1"
      },
      "execution_count": 7,
      "outputs": []
    },
    {
      "cell_type": "markdown",
      "source": [
        "**Plotting the data**"
      ],
      "metadata": {
        "id": "boKZPGbaFg_c"
      }
    },
    {
      "cell_type": "code",
      "source": [
        "if model_type == \"Classification\":\n",
        "  fig=plt.scatter(np.concatenate(data)[:,0], np.concatenate(data)[:,1], c=np.concatenate(data_labels), s=10)\n",
        "if model_type == \"Regression\":\n",
        "  fig=plt.scatter(data[:,0], data[:,1], c=data_labels, s=10)\n"
      ],
      "metadata": {
        "id": "2I8md4woFVrE",
        "colab": {
          "base_uri": "https://localhost:8080/",
          "height": 265
        },
        "outputId": "1411ca2b-f1af-466d-d660-f55505a91a69"
      },
      "execution_count": 8,
      "outputs": [
        {
          "output_type": "display_data",
          "data": {
            "text/plain": [
              "<Figure size 432x288 with 1 Axes>"
            ],
            "image/png": "[encoded data removed]"
          },
          "metadata": {
            "needs_background": "light"
          }
        }
      ]
    },
    {
      "cell_type": "markdown",
      "source": [
        "**Training a DLGN model**"
      ],
      "metadata": {
        "id": "PpN8Yby7Fllw"
      }
    },
    {
      "cell_type": "code",
      "source": [
        "## Convention 0th layer is input layer 1st layer is 1st hidden layer and last layer is output layer\n",
        "## so 3 hidden layers mean 1 input node + 3 hidden layers + 1 output layer\n",
        "\n",
        "if model_type == \"Classification\":\n",
        "  train_data_curr = np.concatenate(train_data[0:num_modes])\n",
        "  train_labels_curr = np.concatenate(train_data_labels[0:num_modes])\n",
        "  vali_data_curr = np.concatenate(vali_data[0:num_modes])\n",
        "  vali_labels_curr = np.concatenate(vali_data_labels[0:num_modes])\n",
        "  test_data_curr = np.concatenate(test_data[0:num_modes])\n",
        "  test_labels_curr = np.concatenate(test_data_labels[0:num_modes]) \n",
        "\n",
        "if model_type == \"Regression\":\n",
        "  train_data_curr = train_data\n",
        "  train_labels_curr = train_data_labels\n",
        "  vali_data_curr = vali_data\n",
        "  vali_labels_curr = vali_data_labels\n",
        "  test_data_curr = test_data\n",
        "  test_labels_curr = test_data_labels\n",
        "\n",
        "print(\"Num Train = \",len(train_data_curr))\n",
        "print(\"Num Vali  = \",len(vali_data_curr))\n",
        "print(\"Num Test  = \",len(test_data_curr))\n",
        "print(\"==========DLGN===========\") \n",
        "test_error, train_error, predictions_dlgn, DLGN_obj_final, DLGN_obj_store = train_dlgn(seed,num_hidden_layers,input_dim,output_dim,num_hidden_nodes,beta,\n",
        "               no_of_batches,modep,layer_num,node_num,train_data_curr,vali_data_curr,test_data_curr,train_labels_curr,test_labels_curr,vali_labels_curr,num_epoch,freeze)   \n",
        "\n",
        "#predictions_dlgn -- labels corresponding to the best validation model\n",
        "#DLGN_obj_final -- model corresponding to epoch with the best validation acc\n",
        "#DLGN_obj_store -- store models corresponding to epochs at regular intervals\n",
        "\n",
        "if NPF_pretrained_freezed:\n",
        "  NPF_freeze = True\n",
        "  test_error, train_error, predictions_dlgn, DLGN_obj_final, DLGN_obj_store = train_dlgn(seed,num_hidden_layers,input_dim,output_dim,num_hidden_nodes,beta,\n",
        "               no_of_batches,modep,layer_num,node_num,train_data_curr,vali_data_curr,test_data_curr,train_labels_curr,test_labels_curr,vali_labels_curr,num_epoch,freeze,DLGN_obj_pretrained=DLGN_obj_store[-1],NPF_pretrained = True,NPV_pretrained = False)   \n",
        "\n",
        "if NPV_pretrained_freezed:\n",
        "  NPV_freeze = True\n",
        "  test_error, train_error, predictions_dlgn, DLGN_obj_final, DLGN_obj_store = train_dlgn(seed,num_hidden_layers,input_dim,output_dim,num_hidden_nodes,beta,\n",
        "               no_of_batches,modep,layer_num,node_num,train_data_curr,vali_data_curr,test_data_curr,train_labels_curr,test_labels_curr,vali_labels_curr,num_epoch,freeze,DLGN_obj_pretrained=DLGN_obj_store[-1],NPF_pretrained = False,NPV_pretrained = True)   \n"
      ],
      "metadata": {
        "id": "LF7PO4Lc2jzV",
        "colab": {
          "base_uri": "https://localhost:8080/",
          "height": 368
        },
        "outputId": "7b655db1-7499-4db0-cc99-5321cb3d7cd8"
      },
      "execution_count": 9,
      "outputs": [
        {
          "output_type": "stream",
          "name": "stdout",
          "text": [
            "Num Train =  3000\n",
            "Num Vali  =  3000\n",
            "Num Test  =  3000\n",
            "==========DLGN===========\n"
          ]
        },
        {
          "output_type": "stream",
          "name": "stderr",
          "text": [
            "100%|██████████| 100000/100000 [06:23<00:00, 260.97it/s]\n"
          ]
        },
        {
          "output_type": "display_data",
          "data": {
            "text/plain": [
              "<Figure size 432x288 with 1 Axes>"
            ],
            "image/png": "[encoded data removed]"
          },
          "metadata": {
            "needs_background": "light"
          }
        }
      ]
    },
    {
      "cell_type": "markdown",
      "source": [
        "**Calculate Path values**"
      ],
      "metadata": {
        "id": "tkdS738NN367"
      }
    },
    {
      "cell_type": "code",
      "source": [
        "def path_value_cal(DLGN_obj):\n",
        "  complete_path_vals = np.zeros(tuple(num_hidden_nodes))\n",
        "  complete_paths = list(cartesian_prod(*[range(x) for x in num_hidden_nodes]))\n",
        "  \n",
        "  for path in complete_paths:\n",
        "      temp = np.dot(DLGN_obj.value_layers[0].weight.data.numpy()[path[0],:], np.ones(input_dim))\n",
        "      for k in range(1,num_hidden_layers):\n",
        "          temp *= DLGN_obj.value_layers[k].weight.data.numpy()[path[k], path[k-1]]\n",
        "      temp *= DLGN_obj.value_layers[num_hidden_layers].weight.data.numpy()[0, path[-1]]\n",
        "      complete_path_vals[path]=temp\n",
        "  return complete_paths,complete_path_vals\n"
      ],
      "metadata": {
        "id": "LOt7NkqfN0Zm"
      },
      "execution_count": 10,
      "outputs": []
    },
    {
      "cell_type": "code",
      "source": [
        "print(\"================================BEST EPOCH======================================\")\n",
        "\n",
        "DLGN_obj = DLGN_obj_final\n",
        "complete_paths,complete_path_vals = path_value_cal(DLGN_obj)\n",
        "print(complete_paths)\n",
        "print(complete_path_vals)\n",
        "# print(\"Path values of layer {} node {}\".format(layer_num,node_num))\n",
        "# print(complete_paths[node_num-1::num_hidden_nodes[layer_num-1]])\n",
        "# print(complete_path_vals[:,:,node_num-1]) #3rd layer nodes\n",
        "# print(complete_path_vals[:,node_num-1,:])#2nd layer nodes\n",
        "print(\"=================================0TH EPOCH====================================\")\n",
        "\n",
        "DLGN_obj = DLGN_obj_store[0]\n",
        "complete_paths,complete_path_vals = path_value_cal(DLGN_obj)\n",
        "print(complete_paths)\n",
        "print(complete_path_vals)\n",
        "# print(\"Path values of layer {} node {}\".format(layer_num,node_num))\n",
        "# print(complete_paths[node_num-1::num_hidden_nodes[layer_num-1]])\n",
        "# print(complete_path_vals[:,:,node_num-1]) #3rd layer nodes\n",
        "# print(complete_path_vals[:,node_num-1,:])#2nd layer nodes\n",
        "print(\"===============================MIDDLE EPOCH====================================\")\n",
        "\n",
        "DLGN_obj = DLGN_obj_store[int(np.sqrt(num_epoch)//2)]\n",
        "complete_paths,complete_path_vals = path_value_cal(DLGN_obj)\n",
        "print(complete_paths)\n",
        "print(complete_path_vals)\n",
        "# print(\"Path values of layer {} node {}\".format(layer_num,node_num))\n",
        "# print(complete_paths[node_num-1::num_hidden_nodes[layer_num-1]])\n",
        "# print(complete_path_vals[:,:,node_num-1]) #3rd layer nodes\n",
        "# print(complete_path_vals[:,node_num-1,:])#2nd layer nodes\n",
        "print(\"================================LAST EPOCH==================================\")\n",
        "\n",
        "DLGN_obj = DLGN_obj_store[int(np.sqrt(num_epoch)-1)]\n",
        "complete_paths,complete_path_vals = path_value_cal(DLGN_obj)\n",
        "print(complete_paths)\n",
        "print(complete_path_vals)\n",
        "# print(\"Path values of layer {} node {}\".format(layer_num,node_num))\n",
        "# print(complete_paths[node_num-1::num_hidden_nodes[layer_num-1]])\n",
        "# print(complete_path_vals[:,:,node_num-1]) #3rd layer nodes\n",
        "# print(complete_path_vals[:,node_num-1,:])#2nd layer nodes"
      ],
      "metadata": {
        "id": "b_lz-THdOaaW",
        "colab": {
          "base_uri": "https://localhost:8080/"
        },
        "outputId": "333b1e30-3167-4c95-8148-654da3d0e1c9"
      },
      "execution_count": 11,
      "outputs": [
        {
          "output_type": "stream",
          "name": "stdout",
          "text": [
            "================================BEST EPOCH======================================\n",
            "[(0, 0, 0), (0, 0, 1), (0, 0, 2), (0, 1, 0), (0, 1, 1), (0, 1, 2), (0, 2, 0), (0, 2, 1), (0, 2, 2), (1, 0, 0), (1, 0, 1), (1, 0, 2), (1, 1, 0), (1, 1, 1), (1, 1, 2), (1, 2, 0), (1, 2, 1), (1, 2, 2), (2, 0, 0), (2, 0, 1), (2, 0, 2), (2, 1, 0), (2, 1, 1), (2, 1, 2), (2, 2, 0), (2, 2, 1), (2, 2, 2)]\n",
            "[[[-8.46600674e-04 -2.79521531e-03  9.61482452e-04]\n",
            "  [-2.89423105e-05 -4.68900243e-04 -3.54788102e-04]\n",
            "  [ 6.05828782e-04 -1.88487017e-04  1.32600516e-04]]\n",
            "\n",
            " [[-1.76008286e-02 -5.81125280e-02  1.99892208e-02]\n",
            "  [ 1.96531353e-03  3.18404432e-02  2.40917137e-02]\n",
            "  [ 2.81681247e-02 -8.76373978e-03  6.16528624e-03]]\n",
            "\n",
            " [[-6.60242979e-03 -2.17991946e-02  7.49836443e-03]\n",
            "  [-1.37531314e-03 -2.22817271e-02 -1.68592185e-02]\n",
            "  [ 3.52231979e-02 -1.09587324e-02  7.70946238e-03]]]\n",
            "=================================0TH EPOCH====================================\n",
            "[(0, 0, 0), (0, 0, 1), (0, 0, 2), (0, 1, 0), (0, 1, 1), (0, 1, 2), (0, 2, 0), (0, 2, 1), (0, 2, 2), (1, 0, 0), (1, 0, 1), (1, 0, 2), (1, 1, 0), (1, 1, 1), (1, 1, 2), (1, 2, 0), (1, 2, 1), (1, 2, 2), (2, 0, 0), (2, 0, 1), (2, 0, 2), (2, 1, 0), (2, 1, 1), (2, 1, 2), (2, 2, 0), (2, 2, 1), (2, 2, 2)]\n",
            "[[[-8.46600674e-04 -2.79521531e-03  9.61482452e-04]\n",
            "  [-2.89423105e-05 -4.68900243e-04 -3.54788102e-04]\n",
            "  [ 6.05828782e-04 -1.88487017e-04  1.32600516e-04]]\n",
            "\n",
            " [[-1.76008286e-02 -5.81125280e-02  1.99892208e-02]\n",
            "  [ 1.96531353e-03  3.18404432e-02  2.40917137e-02]\n",
            "  [ 2.81681247e-02 -8.76373978e-03  6.16528624e-03]]\n",
            "\n",
            " [[-6.60242979e-03 -2.17991946e-02  7.49836443e-03]\n",
            "  [-1.37531314e-03 -2.22817271e-02 -1.68592185e-02]\n",
            "  [ 3.52231979e-02 -1.09587324e-02  7.70946238e-03]]]\n",
            "===============================MIDDLE EPOCH====================================\n",
            "[(0, 0, 0), (0, 0, 1), (0, 0, 2), (0, 1, 0), (0, 1, 1), (0, 1, 2), (0, 2, 0), (0, 2, 1), (0, 2, 2), (1, 0, 0), (1, 0, 1), (1, 0, 2), (1, 1, 0), (1, 1, 1), (1, 1, 2), (1, 2, 0), (1, 2, 1), (1, 2, 2), (2, 0, 0), (2, 0, 1), (2, 0, 2), (2, 1, 0), (2, 1, 1), (2, 1, 2), (2, 2, 0), (2, 2, 1), (2, 2, 2)]\n",
            "[[[-8.46600674e-04 -2.79521531e-03  9.61482452e-04]\n",
            "  [-2.89423105e-05 -4.68900243e-04 -3.54788102e-04]\n",
            "  [ 6.05828782e-04 -1.88487017e-04  1.32600516e-04]]\n",
            "\n",
            " [[-1.76008286e-02 -5.81125280e-02  1.99892208e-02]\n",
            "  [ 1.96531353e-03  3.18404432e-02  2.40917137e-02]\n",
            "  [ 2.81681247e-02 -8.76373978e-03  6.16528624e-03]]\n",
            "\n",
            " [[-6.60242979e-03 -2.17991946e-02  7.49836443e-03]\n",
            "  [-1.37531314e-03 -2.22817271e-02 -1.68592185e-02]\n",
            "  [ 3.52231979e-02 -1.09587324e-02  7.70946238e-03]]]\n",
            "================================LAST EPOCH==================================\n",
            "[(0, 0, 0), (0, 0, 1), (0, 0, 2), (0, 1, 0), (0, 1, 1), (0, 1, 2), (0, 2, 0), (0, 2, 1), (0, 2, 2), (1, 0, 0), (1, 0, 1), (1, 0, 2), (1, 1, 0), (1, 1, 1), (1, 1, 2), (1, 2, 0), (1, 2, 1), (1, 2, 2), (2, 0, 0), (2, 0, 1), (2, 0, 2), (2, 1, 0), (2, 1, 1), (2, 1, 2), (2, 2, 0), (2, 2, 1), (2, 2, 2)]\n",
            "[[[-8.46600674e-04 -2.79521531e-03  9.61482452e-04]\n",
            "  [-2.89423105e-05 -4.68900243e-04 -3.54788102e-04]\n",
            "  [ 6.05828782e-04 -1.88487017e-04  1.32600516e-04]]\n",
            "\n",
            " [[-1.76008286e-02 -5.81125280e-02  1.99892208e-02]\n",
            "  [ 1.96531353e-03  3.18404432e-02  2.40917137e-02]\n",
            "  [ 2.81681247e-02 -8.76373978e-03  6.16528624e-03]]\n",
            "\n",
            " [[-6.60242979e-03 -2.17991946e-02  7.49836443e-03]\n",
            "  [-1.37531314e-03 -2.22817271e-02 -1.68592185e-02]\n",
            "  [ 3.52231979e-02 -1.09587324e-02  7.70946238e-03]]]\n"
          ]
        }
      ]
    },
    {
      "cell_type": "markdown",
      "source": [
        "**Check node freezing**"
      ],
      "metadata": {
        "id": "rPWAzq17HcAn"
      }
    },
    {
      "cell_type": "code",
      "source": [
        "epoch=len(DLGN_obj_store)\n",
        "value = np.zeros((epoch,num_hidden_layers,max_no_of_nodes))\n",
        "\n",
        "for index,model in enumerate(DLGN_obj_store):\n",
        "  for i in range(len(model.gating_layers)-1):\n",
        "    for j in range(len(model.gating_layers[i].weight)):\n",
        "      value[index][i][j]=model.gating_layers[i].weight[j].data.detach().numpy().mean(axis=0)"
      ],
      "metadata": {
        "id": "QArlUIYe9RxM"
      },
      "execution_count": 12,
      "outputs": []
    },
    {
      "cell_type": "code",
      "source": [
        "epoch_count=range(epoch)"
      ],
      "metadata": {
        "id": "Jn0fqgWTFvoS"
      },
      "execution_count": 13,
      "outputs": []
    },
    {
      "cell_type": "code",
      "source": [
        "plt.figure(figsize=(10, 5))\n",
        "for i in range(value[0].shape[0]):\n",
        "  for j in range(value[0].shape[1]):\n",
        "    plt.plot(epoch_count,value[:,i,j],label=str(i+1)+\"_\"+str(j+1))\n",
        "    plt.legend()"
      ],
      "metadata": {
        "id": "WK8lLBN7Fh4P",
        "colab": {
          "base_uri": "https://localhost:8080/",
          "height": 320
        },
        "outputId": "fabe301c-2a4e-4a24-fe52-071e6b453323"
      },
      "execution_count": 14,
      "outputs": [
        {
          "output_type": "display_data",
          "data": {
            "text/plain": [
              "<Figure size 720x360 with 1 Axes>"
            ],
            "image/png": "[encoded data removed]"
          },
          "metadata": {
            "needs_background": "light"
          }
        }
      ]
    },
    {
      "cell_type": "code",
      "source": [
        "if model_type == \"Classification\":\n",
        "  print(\"test_error\",test_error/len(test_data_curr))\n",
        "  print(\"train_error\",train_error/len(train_data_curr))\n",
        "  print('DLGN acc=',np.sum(predictions_dlgn==test_labels_curr)/len(test_data_curr))\n",
        "if model_type == \"Regression\":\n",
        "  print(\"test_error\",test_error)\n",
        "  print(\"train_error\",train_error)\n"
      ],
      "metadata": {
        "id": "mSg9_rpuHdXL",
        "colab": {
          "base_uri": "https://localhost:8080/"
        },
        "outputId": "d203f4bc-b907-41fb-a52f-d4d7b4fb2eb1"
      },
      "execution_count": 15,
      "outputs": [
        {
          "output_type": "stream",
          "name": "stdout",
          "text": [
            "test_error 0.5373333333333333\n",
            "train_error 0.5386666666666666\n",
            "DLGN acc= 0.46266666666666667\n"
          ]
        }
      ]
    },
    {
      "cell_type": "markdown",
      "source": [
        "**Data vs prediction scatter plot**"
      ],
      "metadata": {
        "id": "lbcgcSGW-3i1"
      }
    },
    {
      "cell_type": "code",
      "source": [
        "plt.figure()\n",
        "plt.subplot(1, 2, 1) # row 1, col 2 index 1\n",
        "plt.scatter(test_data_curr[:,0], test_data_curr[:,1], c=test_labels_curr)\n",
        "plt.title(\"Real labelled test data\")\n",
        "\n",
        "plt.subplot(1, 2, 2) # index 2\n",
        "plt.scatter(test_data_curr[:,0], test_data_curr[:,1], c=predictions_dlgn)\n",
        "plt.title(\"Predicted Labelled test data\")\n",
        "plt.show()"
      ],
      "metadata": {
        "id": "v1JlKP9d-2IT",
        "colab": {
          "base_uri": "https://localhost:8080/",
          "height": 281
        },
        "outputId": "7af38aa0-e958-4ee8-c320-f67b7d0db651"
      },
      "execution_count": 16,
      "outputs": [
        {
          "output_type": "display_data",
          "data": {
            "text/plain": [
              "<Figure size 432x288 with 2 Axes>"
            ],
            "image/png": "[encoded data removed]"
          },
          "metadata": {
            "needs_background": "light"
          }
        }
      ]
    },
    {
      "cell_type": "code",
      "source": [
        "from google.colab import drive\n",
        "drive.mount('/content/drive')"
      ],
      "metadata": {
        "id": "kqYAFTIfyDVJ"
      },
      "execution_count": null,
      "outputs": []
    },
    {
      "cell_type": "markdown",
      "source": [
        "**Node hyperplane per layer with best model**"
      ],
      "metadata": {
        "id": "URf7R8QgSoQ-"
      }
    },
    {
      "cell_type": "code",
      "source": [
        "effective_weights, effective_biases = DLGN_obj_final.return_gating_functions()\n",
        "X=test_data_curr[:,0]\n",
        "Y=test_data_curr[:,1]\n",
        "no_rows=num_hidden_layers+1\n",
        "no_colns = max_no_of_nodes\n",
        "fig,ax=plt.subplots(no_rows,no_colns,figsize=(5*no_colns,4*no_rows)) \n",
        "fig.tight_layout(pad=2)\n",
        "fig.text(0,0,s=\"Best Epoch\")\n",
        "for k in range(no_colns//2):\n",
        "  im_hide = ax[0,k].axis('off')\n",
        "for k in range(no_colns//2+2,no_colns):\n",
        "  im_hide = ax[0,k].axis('off')\n",
        "im0=ax[0,no_colns//2].scatter(X, Y, c=test_labels_curr,vmin=-1,vmax=1)\n",
        "ax[0,no_colns//2].title.set_text(\"Real\")\n",
        "ax[0,no_colns//2].set_xlim(-2,2)\n",
        "ax[0,no_colns//2].set_ylim(-4,4)\n",
        "divider = make_axes_locatable(ax[0,no_colns//2])\n",
        "cax = divider.append_axes('right', size='5%', pad=0.05)\n",
        "fig.colorbar(im0, cax=cax, orientation='vertical')\n",
        "im1=ax[0,no_colns//2+1].scatter(X, Y, c=predictions_dlgn,vmin=-1,vmax=1)\n",
        "ax[0,no_colns//2+1].title.set_text(\"Predicted\")\n",
        "ax[0,no_colns//2+1].set_xlim(-2,2)\n",
        "ax[0,no_colns//2+1].set_ylim(-4,4)\n",
        "divider = make_axes_locatable(ax[0,no_colns//2+1])\n",
        "cax = divider.append_axes('right', size='5%', pad=0.05)\n",
        "fig.colorbar(im1, cax=cax, orientation='vertical')\n",
        "for j in range(num_hidden_layers):\n",
        "  for i in range( num_hidden_nodes[j]):\n",
        "    weight = effective_weights[j][i].data.numpy()\n",
        "    bias = effective_biases[j][i].data.numpy()\n",
        "    Z = ((test_data_curr@weight.T)+bias)>0\n",
        "    line_eq = (-bias - X*weight[0])/weight[1]\n",
        "    im=ax[j+1,i].scatter(X, Y, c=Z,vmin=-1,vmax=1)\n",
        "    im1=ax[j+1,i].plot(X,line_eq,label=\"(\"+str(round(weight.data[0],4))+\")x+\"+\"(\"+str(round(weight.data[1],4))+\")y+\"+\"(\"+str(round(bias.item(),2))+\")=0\")\n",
        "    ax[j+1,i].set_xlim(-2,2)\n",
        "    ax[j+1,i].set_ylim(-4,4)\n",
        "    ax[j+1,i].title.set_text(\"Layer: \"+str(j+1)+\" Node: \"+str(i+1))\n",
        "    ax[j+1,i].legend()\n",
        "    divider = make_axes_locatable(ax[j+1,i])\n",
        "    cax = divider.append_axes('right', size='5%', pad=0.05)\n",
        "    fig.colorbar(im, cax=cax, orientation='vertical')\n",
        "# fig.subplots_adjust(right=0.8)\n",
        "# cbar_ax = fig.add_axes([0.85, 0.12, 0.01, 0.82])\n",
        "# fig.colorbar(im0, cax=cbar_ax)\n",
        "path0=\"/content/drive/MyDrive/Research/DLGN_fixed_node/\"\n",
        "fig.savefig(str(path0)+\"Best_epoch.pdf\", dpi=300,format=\"pdf\")\n"
      ],
      "metadata": {
        "id": "7OexQWHoBxSo"
      },
      "execution_count": null,
      "outputs": []
    },
    {
      "cell_type": "markdown",
      "source": [
        "**Change of node hyperplane for each layer**"
      ],
      "metadata": {
        "id": "kWV65mMAUtkH"
      }
    },
    {
      "cell_type": "code",
      "source": [
        "# Python program to check whether the given\n",
        "def perfectCube(N) :\n",
        "\tcube_root = round(N**(1/3));\n",
        "\tif cube_root * cube_root * cube_root == N :\n",
        "\t\treturn True;\n",
        "\telse :\n",
        "\t\treturn False;"
      ],
      "metadata": {
        "id": "ONwdZkXSaKaL"
      },
      "execution_count": null,
      "outputs": []
    },
    {
      "cell_type": "code",
      "source": [
        "if test_on_train_data:\n",
        "  test_data_curr = train_data_curr\n",
        "  test_labels_curr = train_labels_curr"
      ],
      "metadata": {
        "id": "WMp5jFV6rlqc"
      },
      "execution_count": null,
      "outputs": []
    },
    {
      "cell_type": "code",
      "source": [
        "for epoch_no in range(len(DLGN_obj_store)):\n",
        "  if ((epoch_no%10)==0):\n",
        "    print(\"________________________________\")\n",
        "    print(\"=======Epoch no: \", epoch_no**2)\n",
        "    print(\"________________________________\")\n",
        "\n",
        "    effective_weights, effective_biases = DLGN_obj_store[epoch_no].return_gating_functions()\n",
        "    X=test_data_curr[:,0]\n",
        "    Y=test_data_curr[:,1]\n",
        "    test_data_torch = torch.Tensor(test_data_curr)\n",
        "    values,gate_scores =DLGN_obj_store[epoch_no](test_data_torch)\n",
        "\n",
        "    if model_type == \"Classification\":\n",
        "      test_preds = torch.cat((-1*values[-1],values[-1]),dim=1)\n",
        "      predictions = torch.argmax(test_preds,dim=1).numpy()\n",
        "    if model_type == \"Regression\":\n",
        "      test_preds = values[-1]\n",
        "      predictions=test_preds.detach().numpy()\n",
        "\n",
        "    no_rows=num_hidden_layers+1\n",
        "    no_colns = max_no_of_nodes\n",
        "    fig,ax=plt.subplots(no_rows,no_colns,figsize=(5*no_colns,4*no_rows)) \n",
        "    fig.tight_layout(pad=2)\n",
        "    fig.text(0,0,s=\"Epoch no: \"+ str(epoch_no**2))\n",
        "    for k in range(no_colns//2):\n",
        "      im_hide = ax[0,k].axis('off')\n",
        "    for k in range(no_colns//2+2,no_colns):\n",
        "      im_hide = ax[0,k].axis('off')\n",
        "    im0=ax[0,no_colns//2].scatter(X, Y, c=test_labels_curr,vmin=-1,vmax=1)\n",
        "    ax[0,no_colns//2].title.set_text(\"Real\")\n",
        "    ax[0,no_colns//2].set_xlim(-2,2)\n",
        "    ax[0,no_colns//2].set_ylim(-4,4)\n",
        "    divider = make_axes_locatable(ax[0,no_colns//2])\n",
        "    cax = divider.append_axes('right', size='5%', pad=0.05)\n",
        "    fig.colorbar(im0, cax=cax, orientation='vertical')\n",
        "\n",
        "    im1=ax[0,no_colns//2+1].scatter(X, Y, c=predictions,vmin=-1,vmax=1)\n",
        "    ax[0,no_colns//2+1].title.set_text(\"Predicted\")\n",
        "    ax[0,no_colns//2+1].set_xlim(-2,2)\n",
        "    ax[0,no_colns//2+1].set_ylim(-4,4)\n",
        "    divider = make_axes_locatable(ax[0,no_colns//2+1])\n",
        "    cax = divider.append_axes('right', size='5%', pad=0.05)\n",
        "    fig.colorbar(im1, cax=cax, orientation='vertical')\n",
        "\n",
        "    for j in range(num_hidden_layers):\n",
        "      for i in range( num_hidden_nodes[j]):\n",
        "        weight = effective_weights[j][i].data.numpy()\n",
        "        bias = effective_biases[j][i].data.numpy()\n",
        "        Z = ((test_data_curr@weight.T)+bias)>0\n",
        "        line_eq = (-bias - X*weight[0])/weight[1]\n",
        "\n",
        "        im=ax[j+1,i].scatter(X, Y, c=Z,vmin=-1,vmax=1)\n",
        "        im1=ax[j+1,i].plot(X,line_eq,label=\"(\"+str(round(weight.data[0],4))+\")x+\"+\"(\"+str(round(weight.data[1],4))+\")y+\"+\"(\"+str(round(bias.item(),4))+\")=0\")\n",
        "        ax[j+1,i].set_xlim(-2,2)\n",
        "        ax[j+1,i].set_ylim(-4,4)\n",
        "        ax[j+1,i].title.set_text(\"Layer: \"+str(j+1)+\" Node: \"+str(i+1))\n",
        "        ax[j+1,i].legend()\n",
        "        divider = make_axes_locatable(ax[j+1,i])\n",
        "        cax = divider.append_axes('right', size='5%', pad=0.05)\n",
        "        fig.colorbar(im, cax=cax, orientation='vertical')\n",
        "    # fig.subplots_adjust(right=0.8)\n",
        "    # cbar_ax = fig.add_axes([0.85, 0.12, 0.01, 0.82])\n",
        "    # fig.colorbar(im0, cax=cbar_ax)\n",
        "    path=\"/content/drive/MyDrive/Research/DLGN_fixed_node/Layer_3_Node_2/\"\n",
        "    fig.savefig(str(path)+\"Epoch_\"+str(epoch_no**2)+\"_.png\", dpi=300)\n",
        "    plt.show"
      ],
      "metadata": {
        "id": "HYYQn73aUr1X"
      },
      "execution_count": null,
      "outputs": []
    },
    {
      "cell_type": "markdown",
      "source": [
        "**Change of W_&_B for all node**"
      ],
      "metadata": {
        "id": "Oi7gkUh2cUpu"
      }
    },
    {
      "cell_type": "code",
      "source": [
        "# layer_num = 3\n",
        "# node_num = 2\n",
        "no_rows=num_hidden_layers\n",
        "no_colns = max_no_of_nodes\n",
        "fig,ax=plt.subplots(no_rows,no_colns,figsize=(5*no_colns,4*no_rows)) \n",
        "fig.tight_layout(pad=2)\n",
        "fig.text(0,0,s=\"Change of weights\")\n",
        "for layer_num in range(num_hidden_layers):\n",
        "  for node_num in range(num_hidden_nodes[layer_num]):\n",
        "    weight_0 = []\n",
        "    weight_1 = []\n",
        "    bias = []\n",
        "    epoch_count=range(len(DLGN_obj_store))\n",
        "    for epoch_no in range(len(DLGN_obj_store)):\n",
        "      effective_weights, effective_biases = DLGN_obj_store[epoch_no].return_gating_functions()\n",
        "      weight_0.append(effective_weights[layer_num][node_num].data.numpy()[0])\n",
        "      weight_1.append(effective_weights[layer_num][node_num].data.numpy()[1])\n",
        "      bias.append(effective_biases[layer_num][node_num].data.numpy())\n",
        "    im1=ax[layer_num,node_num].plot(epoch_count,weight_0,label=\"Weight_0\")\n",
        "    im2=ax[layer_num,node_num].plot(epoch_count,weight_1,label=\"Weight_1\")\n",
        "    im3=ax[layer_num,node_num].plot(epoch_count,bias,label=\"bias\")\n",
        "    ax[layer_num,node_num].title.set_text(\"Layer: \"+str(layer_num+1)+\" Node: \"+str(node_num+1))\n",
        "    ax[layer_num,node_num].legend()"
      ],
      "metadata": {
        "id": "taWFUEd0G9p2"
      },
      "execution_count": null,
      "outputs": []
    },
    {
      "cell_type": "markdown",
      "source": [
        "**Rough not needed**"
      ],
      "metadata": {
        "id": "SIxNQHBY_wkr"
      }
    },
    {
      "cell_type": "code",
      "source": [
        "# DLGN_obj_store[0]\n",
        "# DLGN_obj_store[0](torch.Tensor([1.,0.0]))\n",
        "# for j in range(4):\n",
        "#   print(DLGN_obj_store[0].value_layers[j].weight)\n",
        "# DLGN_obj_store[-1](torch.Tensor([0,1]))"
      ],
      "metadata": {
        "id": "_EAX2KoTiB_1"
      },
      "execution_count": null,
      "outputs": []
    },
    {
      "cell_type": "code",
      "source": [
        "# n = 100000\n",
        "# x0x1_min = [-1.0, -1.0]\n",
        "# x0x1_max = [1.0, 1.0]\n",
        "# data = np.random.uniform(low=x0x1_min, high=x0x1_max, size=(n,2))\n",
        "# y=[]\n",
        "# for i,val in enumerate(data):\n",
        "#   if(-1<=val[0]<=0 and 0<=val[1]<=1):\n",
        "#     y.append(1)\n",
        "#   elif (0<=val[0]<=1 and 0.5<=val[1]<=1):\n",
        "#     y.append(0.2)\n",
        "#   elif(0<=val[0]<=1 and -0.5<=val[1]<=0.5):\n",
        "#     y.append(0.5)\n",
        "#   else:\n",
        "#     y.append(-1)\n",
        "#   # elif (val[0] in [-1,0] and val[1] in [0,1]) or (val[0] in [0,1] and val[1] in [-0.5,-1]):\n",
        "# fig=plt.scatter(data[:,0], data[:,1],c=y,s=10)\n",
        "# # print(data)"
      ],
      "metadata": {
        "id": "TMuQaBwO_7RO"
      },
      "execution_count": null,
      "outputs": []
    },
    {
      "cell_type": "code",
      "source": [
        "# def path_value_cal(DLGN_obj):\n",
        "#   complete_path_vals = np.zeros(tuple(num_hidden_nodes))\n",
        "#   # partial_path_vals_list=[]\n",
        "#   # for j in range(num_hidden_layers):\n",
        "#   #     partial_path_vals_list.append(np.zeros(tuple(num_hidden_nodes[j:])))\n",
        "\n",
        "      \n",
        "\n",
        "#   complete_paths = list(cartesian_prod(*[range(x) for x in num_hidden_nodes]))\n",
        "#   # partial_paths_list=[]\n",
        "\n",
        "#   # for j in range(num_hidden_layers):\n",
        "#   #     partial_paths_list.append(list(cartesian_prod(*[list(range(x)) for x in num_hidden_nodes[j:]])))\n",
        "\n",
        "      \n",
        "#   for path in complete_paths:\n",
        "#       temp = np.dot(DLGN_obj.value_layers[0].weight.data.numpy()[path[0],:], np.ones(input_dim))\n",
        "#       for k in range(1,num_hidden_layers):\n",
        "#           temp *= DLGN_obj.value_layers[k].weight.data.numpy()[path[k], path[k-1]]\n",
        "#       temp *= DLGN_obj.value_layers[num_hidden_layers].weight.data.numpy()[0, path[-1]]\n",
        "#       complete_path_vals[path]=temp\n",
        "          \n",
        "\n",
        "  # for j in range(num_hidden_layers):\n",
        "  #     for path in partial_paths_list[j]:\n",
        "  #         temp = DLGN_obj.value_layers[j].bias.data.numpy()[path[0]]\n",
        "  #         for k in range(j+1,num_hidden_layers):\n",
        "  # #             temp *= DLGN_obj.value_layers[k].weight.data.numpy()[path[k], path[k-1]]\n",
        "  #             temp *= DLGN_obj.value_layers[k].weight.data.numpy()[path[k-j], path[k-1-j]]            \n",
        "  #         temp *= DLGN_obj.value_layers[num_hidden_layers].weight.data.numpy()[0, path[-1]]        \n",
        "  #         partial_path_vals_list[j][path]=temp\n",
        "  # return complete_paths,complete_path_vals\n",
        "#return partial_paths_list,partial_path_vals_list,complete_paths,complete_path_vals\n"
      ],
      "metadata": {
        "id": "bsnjcL2NGETh"
      },
      "execution_count": null,
      "outputs": []
    }
  ]
}