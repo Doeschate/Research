{
  "nbformat": 4,
  "nbformat_minor": 0,
  "metadata": {
    "colab": {
      "provenance": []
    },
    "kernelspec": {
      "name": "python3",
      "display_name": "Python 3"
    },
    "language_info": {
      "name": "python"
    }
  },
  "cells": [
    {
      "cell_type": "code",
      "execution_count": 1,
      "metadata": {
        "id": "kjNxUX51Lh0k"
      },
      "outputs": [],
      "source": [
        "#@title Imports\n",
        "import torch\n",
        "import torch.nn as nn\n",
        "import torch.nn.functional as F\n",
        "import torch.optim as optim\n",
        "from tqdm import tqdm\n",
        "import random\n",
        "import numpy as np\n",
        "import matplotlib.pyplot as plt\n",
        "from sklearn.metrics import pairwise_distances\n",
        "from mpl_toolkits.axes_grid1 import make_axes_locatable"
      ]
    },
    {
      "cell_type": "code",
      "source": [
        "#@title Synthetic data\n",
        "def set_npseed(seed):\n",
        "  np.random.seed(seed)\n",
        "  random.seed(seed)\n",
        "\n",
        "def set_torchseed(seed):\n",
        "  torch.manual_seed(seed)\n",
        "  torch.cuda.manual_seed(seed)\n",
        "  torch.cuda.manual_seed_all(seed)\n",
        "  torch.backends.cudnn.deterministic = True\n",
        "  torch.backends.cudnn.benchmark = False\n",
        "  \n",
        "\n",
        "def data_gen(num_train_data,num_vali_data,num_test_data,dim=2,seed=0):\n",
        "  # np.random.seed(6790)\n",
        "  set_npseed(seed = seed)\n",
        "  d=dim\n",
        "  num_modes=2*d\n",
        "  centers = np.concatenate((np.eye(d), -1*np.eye(d)), axis=0)\n",
        "  np.random.shuffle(centers)\n",
        "  # np.random.seed(475)\n",
        "  hard=num_modes//2\n",
        "\n",
        "  a=[4]* hard + [1]*(num_modes - hard)\n",
        "  mode_frac = np.array([1./num_modes]*num_modes)\n",
        "  b=1.\n",
        "  num_train_data = num_train_data \n",
        "  num_vali_data=num_vali_data\n",
        "  num_test_data=num_test_data\n",
        "  num_data = num_train_data + num_vali_data + num_test_data\n",
        "\n",
        "  num_data_per_mode = np.int32(num_data*mode_frac)\n",
        "  num_data_per_mode = np.concatenate((num_data_per_mode,[np.sum(num_data_per_mode)]))\n",
        "\n",
        "  landmarks=[-1]*num_modes\n",
        "  labels=[-1]*num_modes\n",
        "  for i in range(num_modes):\n",
        "    landmarks[i] = 0.05*np.random.randn(a[i],d)\n",
        "    landmarks[i]+=centers[i]\n",
        "    labels[i] = (i - np.arange(len(landmarks[i])))%2\n",
        "      \n",
        "  data=[-1]*num_modes\n",
        "  data_labels=[-1]*num_modes\n",
        "\n",
        "  train_data=[-1]*num_modes\n",
        "  train_data_labels=[-1]*num_modes\n",
        "\n",
        "  test_data=[-1]*num_modes\n",
        "  test_data_labels=[-1]*num_modes\n",
        "\n",
        "  vali_data=[-1]*num_modes\n",
        "  vali_data_labels=[-1]*num_modes\n",
        "\n",
        "\n",
        "  modes_data=[]\n",
        "  # np.random.seed(12345)\n",
        "\n",
        "  for i in range(num_modes):\n",
        "    data[i] = 0.1*np.random.randn(num_data_per_mode[i],d)\n",
        "    data[i] += centers[i]\n",
        "    data_labels[i] = np.zeros(num_data_per_mode[i])\n",
        "    for j in range(len(data_labels[i])):\n",
        "      dists = pairwise_distances(data[i][j:j+1,:],landmarks[i])                                   \n",
        "      j_star = np.argmin(dists[0])\n",
        "      data_labels[i][j]=labels[i][j_star]\n",
        "      \n",
        "      train_data[i] = np.array(data[i][:int(mode_frac[i]*num_train_data)])\n",
        "      train_data_labels[i] = np.array(data_labels[i][:int(mode_frac[i]*num_train_data)])\n",
        "\n",
        "      vali_data[i] = np.array(data[i][int(mode_frac[i]*num_train_data): \\\n",
        "                                      int(mode_frac[i]*num_train_data)+int(mode_frac[i]*num_vali_data)])\n",
        "      vali_data_labels[i] = np.array(data_labels[i][int(mode_frac[i]*num_train_data): \\\n",
        "                                      int(mode_frac[i]*num_train_data)+int(mode_frac[i]*num_vali_data)])\n",
        "\n",
        "      test_data[i] = np.array(data[i][-int(mode_frac[i]*num_test_data):])\n",
        "      test_data_labels[i] = np.array(data_labels[i][-int(mode_frac[i]*num_test_data):])\n",
        "      \n",
        "  return data,data_labels,train_data,train_data_labels,test_data,test_data_labels,vali_data,vali_data_labels,landmarks,labels,centers,mode_frac"
      ],
      "metadata": {
        "id": "2iXNxcu4L6kT"
      },
      "execution_count": 2,
      "outputs": []
    },
    {
      "cell_type": "code",
      "source": [
        "#@title DLGN_FC\n",
        "device = \"cuda\" if torch.cuda.is_available() else \"cpu\"\n",
        "print(\"Using {} device\".format(device))\n",
        "\n",
        "class DLGN_FC(nn.Module):\n",
        "  def __init__(self, to_copy=None, num_hidden_layers=0, input_dim=2, output_dim=1, num_hidden_nodes=[], beta=20, mode='pwc'):\n",
        "    super(DLGN_FC, self).__init__()\n",
        "    if to_copy==None:\n",
        "      self.gating_layers=[]\n",
        "      self.value_layers=[]\n",
        "      self.num_hidden_layers = num_hidden_layers\n",
        "      self.beta=beta  # Soft gating parameter\n",
        "      self.mode = mode\n",
        "      self.num_nodes=[input_dim]+num_hidden_nodes+[output_dim]\n",
        "      for i in range(num_hidden_layers+1):\n",
        "        self.gating_layers.append(nn.Linear(self.num_nodes[i], self.num_nodes[i+1]))\n",
        "        self.value_layers.append(nn.Linear(self.num_nodes[i], self.num_nodes[i+1], bias=False))\n",
        "    else:\n",
        "      self.gating_layers=[]\n",
        "      self.value_layers=[]\n",
        "      self.num_hidden_layers = to_copy.num_hidden_layers\n",
        "      self.beta=to_copy.beta  # Soft gating parameter\n",
        "      self.mode = to_copy.mode\n",
        "      self.num_nodes=list(to_copy.num_nodes)\n",
        "      for i in range(self.num_hidden_layers+1):\n",
        "        self.gating_layers.append(nn.Linear(self.num_nodes[i], self.num_nodes[i+1]))\n",
        "        self.value_layers.append(nn.Linear(self.num_nodes[i], self.num_nodes[i+1], bias=False))\n",
        "        self.gating_layers[i].weight.data =  torch.Tensor(np.array(to_copy.gating_layers[i].weight.detach().numpy()))\n",
        "        self.gating_layers[i].bias.data = torch.Tensor(np.array(to_copy.gating_layers[i].bias.detach().numpy()))\n",
        "        self.value_layers[i].weight.data = torch.Tensor(np.array(to_copy.value_layers[i].weight.detach().numpy()))\n",
        "\n",
        "                \n",
        "\n",
        "  def return_gating_functions(self):\n",
        "    effective_weights = []\n",
        "    effective_biases =[]\n",
        "    for i in range(self.num_hidden_layers):\n",
        "      curr_weight = self.gating_layers[i].weight\n",
        "      curr_bias = self.gating_layers[i].bias\n",
        "      if i==0:\n",
        "        effective_weights.append(curr_weight)\n",
        "        effective_biases.append(curr_bias)\n",
        "      else:\n",
        "        effective_biases.append(torch.matmul(curr_weight,effective_biases[-1])+curr_bias)\n",
        "        effective_weights.append(torch.matmul(curr_weight,effective_weights[-1]))\n",
        "    return effective_weights, effective_biases\n",
        "    # effective_weights (and effective biases) is a list of size num_hidden_layers\n",
        "              \n",
        "\n",
        "  def forward(self, x):\n",
        "    gate_scores=[x]\n",
        "    if self.mode=='pwc':\n",
        "      values=[torch.ones(x.shape)]\n",
        "    else:\n",
        "      values=[x]\n",
        "    \n",
        "    for i in range(self.num_hidden_layers):\n",
        "      gate_scores.append(self.gating_layers[i](gate_scores[-1]))\n",
        "      curr_gate_on_off = torch.sigmoid(self.beta*gate_scores[-1])\n",
        "      values.append(self.value_layers[i](values[-1])*curr_gate_on_off)\n",
        "    values.append(self.value_layers[self.num_hidden_layers](values[-1]))\n",
        "    # Values is a list of size 1+num_hidden_layers+1\n",
        "    #gate_scores is a list of size 1+num_hidden_layers\n",
        "    return values,gate_scores"
      ],
      "metadata": {
        "colab": {
          "base_uri": "https://localhost:8080/"
        },
        "id": "xtzRiptOL_Ug",
        "outputId": "900764ee-6821-4f7b-fc99-4ad9a4511069"
      },
      "execution_count": 3,
      "outputs": [
        {
          "output_type": "stream",
          "name": "stdout",
          "text": [
            "Using cpu device\n"
          ]
        }
      ]
    },
    {
      "cell_type": "code",
      "source": [
        "# Python program to check whether the given\n",
        "def perfectSq(N) :\n",
        "\tsq_root = round(N**(1/2));\n",
        "\tif sq_root * sq_root == N :\n",
        "\t\treturn True;\n",
        "\telse :\n",
        "\t\treturn False;"
      ],
      "metadata": {
        "id": "lGAfARdaUD3r"
      },
      "execution_count": 4,
      "outputs": []
    },
    {
      "cell_type": "code",
      "source": [
        "#@title Train DLGN model based on freeze nodes\n",
        "def train_dlgn(seed,num_hidden_layers,input_dim,output_dim,num_hidden_nodes,beta,no_of_batches,\n",
        "               mode,layer_num,node_num,train_data_curr,vali_data_curr,test_data_curr,train_labels_curr,test_labels_curr,vali_labels_curr,num_epoch,freeze):\n",
        "  # torch.random.manual_seed(1222)\n",
        "  # torch.random.manual_seed(2311)\n",
        "  layer_num=layer_num-1\n",
        "  node_num=node_num-1\n",
        "  set_torchseed(seed)\n",
        "  if freeze:\n",
        "    DLGN_obj_initial = None\n",
        "  DLGN_obj = None\n",
        "  DLGN_obj_return = None\n",
        "  \n",
        "  DLGN_obj = DLGN_FC(num_hidden_layers=num_hidden_layers, input_dim=input_dim, output_dim=output_dim, \n",
        "                      num_hidden_nodes=num_hidden_nodes, beta=beta, mode=mode)\n",
        "  if freeze:\n",
        "    DLGN_obj_initial = DLGN_FC(to_copy=DLGN_obj)\n",
        "  \n",
        "  DLGN_obj_return = DLGN_FC(to_copy=DLGN_obj)\n",
        "  criterion = nn.CrossEntropyLoss()\n",
        "  DLGN_params = []\n",
        "  DLGN_params += [item.weight for item in DLGN_obj.gating_layers]\n",
        "  DLGN_params += [item.bias for item in DLGN_obj.gating_layers]\n",
        "  DLGN_params += [item.weight for item in DLGN_obj.value_layers]\n",
        "#     DLGN_params += [item.bias for item in DLGN_obj.value_layers]\n",
        "\n",
        "  # print(\"H0\")\n",
        "  # print(DLGN_params)\n",
        "  if freeze:\n",
        "    for index,param in enumerate(DLGN_params):\n",
        "      if((index != layer_num)):\n",
        "        param.requires_grad=False\n",
        "      if((index==len(DLGN_obj.gating_layers)+layer_num)):\n",
        "        param.requires_grad=True\n",
        "\n",
        "  # print(\"H1\")\n",
        "  # print(DLGN_params)\n",
        "\n",
        "  optimizer = optim.Adam(DLGN_params, lr=0.00005, weight_decay=0.0)\n",
        "  \n",
        "\n",
        "  # print(\"H2\")\n",
        "  # print(DLGN_params)\n",
        "  \n",
        "  train_data_torch = torch.Tensor(train_data_curr)\n",
        "  vali_data_torch = torch.Tensor(vali_data_curr)\n",
        "  test_data_torch = torch.Tensor(test_data_curr)\n",
        "\n",
        "  train_labels_torch = torch.tensor(train_labels_curr, dtype=torch.int64)\n",
        "  test_labels_torch = torch.tensor(test_labels_curr, dtype=torch.int64)\n",
        "  vali_labels_torch = torch.tensor(vali_labels_curr, dtype=torch.int64)\n",
        "  num_batches = no_of_batches\n",
        "  batch_size = len(train_data_curr)//num_batches\n",
        "  losses=[]\n",
        "  DLGN_obj_store = []\n",
        "  best_vali_error = len(vali_labels_curr)\n",
        "\n",
        "  # print(\"H3\")\n",
        "  # print(DLGN_params)\n",
        "\n",
        "  for epoch in tqdm(range(num_epoch)):  # loop over the dataset multiple times\n",
        "    running_loss = 0.0\n",
        "    if perfectSq(epoch):\n",
        "      DLGN_obj_store.append(DLGN_FC(to_copy=DLGN_obj))\n",
        "    \n",
        "    for batch_start in range(0,len(train_data_curr),batch_size):\n",
        "      optimizer.zero_grad()\n",
        "      values,gate_scores = DLGN_obj(train_data_torch[batch_start:batch_start+batch_size])\n",
        "      outputs = torch.cat((values[-1], -1*values[-1]), dim=1)\n",
        "      loss = criterion(outputs, train_labels_torch[batch_start:batch_start+batch_size])\n",
        "\n",
        "      # print(\"H4\")\n",
        "      # print(DLGN_params)\n",
        "\n",
        "      loss.backward()\n",
        "      optimizer.step()\n",
        "\n",
        "      # print(\"H5\")\n",
        "      # print(DLGN_params)\n",
        "      if freeze:\n",
        "        for node in range(num_hidden_nodes[layer_num]):\n",
        "          if(node!=node_num):\n",
        "            # self.gating_layers[i].weight.data =  torch.Tensor(np.array(to_copy.gating_layers[i].weight.detach().numpy()))\n",
        "            DLGN_params[layer_num].data[node]= DLGN_obj_initial.gating_layers[layer_num].weight.data[node]\n",
        "            DLGN_params[len(DLGN_obj.gating_layers)+layer_num].data[node]= DLGN_obj_initial.gating_layers[layer_num].bias.data[node]\n",
        "\n",
        "      # print(\"H6\")\n",
        "      # print(DLGN_params)\n",
        "\n",
        "      running_loss += loss.item()    \n",
        "    losses.append(running_loss/num_batches)\n",
        "\n",
        "    values,gate_scores =DLGN_obj(vali_data_torch)\n",
        "    vali_preds = torch.cat((values[-1], -1*values[-1]), dim=1)\n",
        "    vali_error= torch.sum(vali_labels_torch!=torch.argmax(vali_preds, dim=1)).numpy()\n",
        "    \n",
        "    if vali_error < best_vali_error:\n",
        "      DLGN_obj_return = DLGN_FC(to_copy=DLGN_obj)\n",
        "      best_vali_error = vali_error\n",
        "    \n",
        "  values,gate_scores =DLGN_obj_return(test_data_torch)\n",
        "  test_preds = torch.cat((values[-1], -1*values[-1]), dim=1)\n",
        "  test_error= torch.sum(test_labels_torch!=torch.argmax(test_preds, dim=1)).numpy()\n",
        "\n",
        "  values,gate_scores=DLGN_obj_return(train_data_torch)\n",
        "  train_preds = torch.cat((values[-1], -1*values[-1]), dim=1)\n",
        "  train_error= torch.sum(train_labels_torch!=torch.argmax(train_preds, dim=1)).numpy()\n",
        "  plt.figure()\n",
        "  plt.title(\"DLGN loss vs epoch\")\n",
        "  plt.plot(losses)\n",
        "  return test_error, train_error, torch.argmax(test_preds, dim=1).numpy(), DLGN_obj_return, DLGN_obj_store"
      ],
      "metadata": {
        "id": "Ncr5k6koMbD_"
      },
      "execution_count": 5,
      "outputs": []
    },
    {
      "cell_type": "markdown",
      "source": [
        "**Generating data**"
      ],
      "metadata": {
        "id": "990aqFqrFcIi"
      }
    },
    {
      "cell_type": "code",
      "source": [
        "num_train_data=2400\n",
        "num_vali_data=2400\n",
        "num_test_data=2400\n",
        "dim=2\n",
        "num_modes=2*dim\n",
        "seed=365\n",
        "data,data_labels,train_data,train_data_labels,test_data,test_data_labels,vali_data,vali_data_labels, \\\n",
        "landmarks,labels,centers,mode_frac= data_gen(num_train_data,num_vali_data,num_test_data,dim=2,seed=0)"
      ],
      "metadata": {
        "id": "XL-qsOGL1lV1"
      },
      "execution_count": 6,
      "outputs": []
    },
    {
      "cell_type": "markdown",
      "source": [
        "**Plotting the data**"
      ],
      "metadata": {
        "id": "boKZPGbaFg_c"
      }
    },
    {
      "cell_type": "code",
      "source": [
        "fig=plt.scatter(np.concatenate(data)[:,0], np.concatenate(data)[:,1], c=np.concatenate(data_labels), s=10)"
      ],
      "metadata": {
        "colab": {
          "base_uri": "https://localhost:8080/",
          "height": 265
        },
        "id": "2I8md4woFVrE",
        "outputId": "0a7f9ca4-7a22-479b-e134-4075b2948838"
      },
      "execution_count": 7,
      "outputs": [
        {
          "output_type": "display_data",
          "data": {
            "text/plain": [
              "<Figure size 432x288 with 1 Axes>"
            ],
            "image/png": "[encoded data removed]"
          },
          "metadata": {
            "needs_background": "light"
          }
        }
      ]
    },
    {
      "cell_type": "markdown",
      "source": [
        "**Training a DLGN model**"
      ],
      "metadata": {
        "id": "PpN8Yby7Fllw"
      }
    },
    {
      "cell_type": "code",
      "source": [
        "## Convention 0th layer is input layer 1st layer is 1st hidden layer and last layer is output layer\n",
        "## so 3 hidden layers mean 1 input node + 3 hidden layers + 1 output layer\n",
        "seed=0\n",
        "num_hidden_layers=3\n",
        "input_dim=dim\n",
        "output_dim=1\n",
        "num_hidden_nodes=[3,3,3]\n",
        "max_no_of_nodes=max(num_hidden_nodes)\n",
        "beta=20\n",
        "no_of_batches=1 #[1,10,100]\n",
        "modep='pwc'\n",
        "\n",
        "freeze = True\n",
        "layer_num = 3\n",
        "node_num = 2\n",
        "\n",
        "num_epoch=2000000\n",
        "\n",
        "train_data_curr = np.concatenate(train_data[0:num_modes])\n",
        "train_labels_curr = np.concatenate(train_data_labels[0:num_modes])\n",
        "vali_data_curr = np.concatenate(vali_data[0:num_modes])\n",
        "vali_labels_curr = np.concatenate(vali_data_labels[0:num_modes])\n",
        "test_data_curr = np.concatenate(test_data[0:num_modes])\n",
        "test_labels_curr = np.concatenate(test_data_labels[0:num_modes])\n",
        "\n",
        "print(\"Num Train = \",len(train_data_curr))\n",
        "print(\"Num Vali  = \",len(vali_data_curr))\n",
        "print(\"Num Test  = \",len(test_data_curr))\n",
        "print(\"==========DLGN===========\") \n",
        "test_error, train_error, predictions_dlgn, DLGN_obj_final, DLGN_obj_store = train_dlgn(seed,num_hidden_layers,input_dim,output_dim,num_hidden_nodes,beta,\n",
        "               no_of_batches,modep,layer_num,node_num,train_data_curr,vali_data_curr,test_data_curr,train_labels_curr,test_labels_curr,vali_labels_curr,num_epoch,freeze)    "
      ],
      "metadata": {
        "id": "LF7PO4Lc2jzV",
        "colab": {
          "base_uri": "https://localhost:8080/",
          "height": 381
        },
        "outputId": "edd73980-2100-461f-fa7a-b8799b236c91"
      },
      "execution_count": 8,
      "outputs": [
        {
          "output_type": "stream",
          "name": "stdout",
          "text": [
            "Num Train =  2400\n",
            "Num Vali  =  2400\n",
            "Num Test  =  2400\n",
            "==========DLGN===========\n"
          ]
        },
        {
          "output_type": "stream",
          "name": "stderr",
          "text": [
            "100%|██████████| 2000000/2000000 [1:14:49<00:00, 445.47it/s]\n"
          ]
        },
        {
          "output_type": "display_data",
          "data": {
            "text/plain": [
              "<Figure size 432x288 with 1 Axes>"
            ],
            "image/png": "[encoded data removed]"
          },
          "metadata": {
            "needs_background": "light"
          }
        }
      ]
    },
    {
      "cell_type": "markdown",
      "source": [
        "**Check node freezing**"
      ],
      "metadata": {
        "id": "rPWAzq17HcAn"
      }
    },
    {
      "cell_type": "code",
      "source": [
        "epoch=len(DLGN_obj_store)\n",
        "value = np.zeros((epoch,num_hidden_layers,max_no_of_nodes))\n",
        "\n",
        "for index,model in enumerate(DLGN_obj_store):\n",
        "  for i in range(len(model.gating_layers)-1):\n",
        "    for j in range(len(model.gating_layers[i].weight)):\n",
        "      value[index][i][j]=model.gating_layers[i].weight[j].data.detach().numpy().mean(axis=0)"
      ],
      "metadata": {
        "id": "QArlUIYe9RxM"
      },
      "execution_count": 9,
      "outputs": []
    },
    {
      "cell_type": "code",
      "source": [
        "epoch_count=range(epoch)"
      ],
      "metadata": {
        "id": "Jn0fqgWTFvoS"
      },
      "execution_count": 10,
      "outputs": []
    },
    {
      "cell_type": "code",
      "source": [
        "plt.figure(figsize=(10, 5))\n",
        "for i in range(value[0].shape[0]):\n",
        "  for j in range(value[0].shape[1]):\n",
        "    plt.plot(epoch_count,value[:,i,j],label=str(i+1)+\"_\"+str(j+1))\n",
        "    plt.legend()"
      ],
      "metadata": {
        "colab": {
          "base_uri": "https://localhost:8080/",
          "height": 320
        },
        "id": "WK8lLBN7Fh4P",
        "outputId": "6e3a12b6-de78-4d01-9e85-8cd0038b7c03"
      },
      "execution_count": 11,
      "outputs": [
        {
          "output_type": "display_data",
          "data": {
            "text/plain": [
              "<Figure size 720x360 with 1 Axes>"
            ],
            "image/png": "[encoded data removed]"
          },
          "metadata": {
            "needs_background": "light"
          }
        }
      ]
    },
    {
      "cell_type": "code",
      "source": [
        "print(\"test_error\",test_error/len(test_data_curr))\n",
        "print(\"train_error\",train_error/len(train_data_curr))\n",
        "print('DLGN acc=',np.sum(predictions_dlgn==test_labels_curr)/len(test_data_curr))"
      ],
      "metadata": {
        "id": "mSg9_rpuHdXL",
        "colab": {
          "base_uri": "https://localhost:8080/"
        },
        "outputId": "1075265c-5d5f-43ab-aad8-03693349ec3e"
      },
      "execution_count": 12,
      "outputs": [
        {
          "output_type": "stream",
          "name": "stdout",
          "text": [
            "test_error 0.39416666666666667\n",
            "train_error 0.3925\n",
            "DLGN acc= 0.6058333333333333\n"
          ]
        }
      ]
    },
    {
      "cell_type": "markdown",
      "source": [
        "**Data vs prediction scatter plot**"
      ],
      "metadata": {
        "id": "lbcgcSGW-3i1"
      }
    },
    {
      "cell_type": "code",
      "source": [
        "plt.figure()\n",
        "plt.subplot(1, 2, 1) # row 1, col 2 index 1\n",
        "plt.scatter(test_data_curr[:,0], test_data_curr[:,1], c=test_labels_curr)\n",
        "plt.title(\"Real labelled test data\")\n",
        "\n",
        "plt.subplot(1, 2, 2) # index 2\n",
        "plt.scatter(test_data_curr[:,0], test_data_curr[:,1], c=predictions_dlgn)\n",
        "plt.title(\"Predicted Labelled test data\")\n",
        "plt.show()"
      ],
      "metadata": {
        "id": "v1JlKP9d-2IT",
        "colab": {
          "base_uri": "https://localhost:8080/",
          "height": 281
        },
        "outputId": "ac2b37b3-0dc5-4cc0-a98f-3e8d55f2df93"
      },
      "execution_count": 13,
      "outputs": [
        {
          "output_type": "display_data",
          "data": {
            "text/plain": [
              "<Figure size 432x288 with 2 Axes>"
            ],
            "image/png": "[encoded data removed]"
          },
          "metadata": {
            "needs_background": "light"
          }
        }
      ]
    },
    {
      "cell_type": "markdown",
      "source": [
        "**Gating pattern per layer with best model**"
      ],
      "metadata": {
        "id": "URf7R8QgSoQ-"
      }
    },
    {
      "cell_type": "code",
      "source": [
        "effective_weights, effective_biases = DLGN_obj_final.return_gating_functions()\n",
        "X=test_data_curr[:,0]\n",
        "Y=test_data_curr[:,1]\n",
        "no_rows=num_hidden_layers+1\n",
        "no_colns = max_no_of_nodes\n",
        "fig,ax=plt.subplots(no_rows,no_colns,figsize=(5*no_colns,4*no_rows)) \n",
        "fig.tight_layout(pad=2)\n",
        "fig.text(0,0,s=\"Best Epoch\")\n",
        "for k in range(no_colns//2):\n",
        "  im_hide = ax[0,k].axis('off')\n",
        "im0=ax[0,no_colns//2].scatter(X, Y, c=test_labels_curr,vmin=0,vmax=1)\n",
        "ax[0,no_colns//2].title.set_text(\"Real\")\n",
        "ax[0,no_colns//2].set_xlim(-2,2)\n",
        "ax[0,no_colns//2].set_ylim(-4,4)\n",
        "divider = make_axes_locatable(ax[0,no_colns//2])\n",
        "cax = divider.append_axes('right', size='5%', pad=0.05)\n",
        "fig.colorbar(im0, cax=cax, orientation='vertical')\n",
        "im1=ax[0,no_colns//2+1].scatter(X, Y, c=predictions_dlgn,vmin=0,vmax=1)\n",
        "ax[0,no_colns//2+1].title.set_text(\"Predicted\")\n",
        "ax[0,no_colns//2+1].set_xlim(-2,2)\n",
        "ax[0,no_colns//2+1].set_ylim(-4,4)\n",
        "divider = make_axes_locatable(ax[0,no_colns//2+1])\n",
        "cax = divider.append_axes('right', size='5%', pad=0.05)\n",
        "fig.colorbar(im1, cax=cax, orientation='vertical')\n",
        "for j in range(num_hidden_layers):\n",
        "  for i in range( num_hidden_nodes[j]):\n",
        "    weight = effective_weights[j][i].data.numpy()\n",
        "    bias = effective_biases[j][i].data.numpy()\n",
        "    Z = ((test_data_curr@weight.T)+bias)>0\n",
        "    line_eq = (-bias - X*weight[0])/weight[1]\n",
        "    im=ax[j+1,i].scatter(X, Y, c=Z,vmin=0,vmax=1)\n",
        "    im1=ax[j+1,i].plot(X,line_eq,label=\"(\"+str(round(weight.data[0],4))+\")x+\"+\"(\"+str(round(weight.data[1],4))+\")y+\"+\"(\"+str(round(bias.item(),2))+\")=0\")\n",
        "    ax[j+1,i].set_xlim(-2,2)\n",
        "    ax[j+1,i].set_ylim(-4,4)\n",
        "    ax[j+1,i].title.set_text(\"Layer: \"+str(j+1)+\" Node: \"+str(i+1))\n",
        "    ax[j+1,i].legend()\n",
        "    divider = make_axes_locatable(ax[j+1,i])\n",
        "    cax = divider.append_axes('right', size='5%', pad=0.05)\n",
        "    fig.colorbar(im, cax=cax, orientation='vertical')\n",
        "# fig.subplots_adjust(right=0.8)\n",
        "# cbar_ax = fig.add_axes([0.85, 0.12, 0.01, 0.82])\n",
        "# fig.colorbar(im0, cax=cbar_ax)\n",
        "path0=\"/content/drive/MyDrive/Research/DLGN_fixed_node/\"\n",
        "fig.savefig(str(path0)+\"Best_epoch.pdf\", dpi=300,format=\"pdf\")\n"
      ],
      "metadata": {
        "id": "7OexQWHoBxSo"
      },
      "execution_count": null,
      "outputs": []
    },
    {
      "cell_type": "markdown",
      "source": [
        "**Change of gating pattern for each layers per 10 epoch**"
      ],
      "metadata": {
        "id": "kWV65mMAUtkH"
      }
    },
    {
      "cell_type": "code",
      "source": [
        "# Python program to check whether the given\n",
        "def perfectCube(N) :\n",
        "\tcube_root = round(N**(1/3));\n",
        "\tif cube_root * cube_root * cube_root == N :\n",
        "\t\treturn True;\n",
        "\telse :\n",
        "\t\treturn False;"
      ],
      "metadata": {
        "id": "ONwdZkXSaKaL"
      },
      "execution_count": 15,
      "outputs": []
    },
    {
      "cell_type": "code",
      "source": [
        "path1=\"/content/drive/MyDrive/Research/DLGN_fixed_node/Layer1/\"\n",
        "path2=\"/content/drive/MyDrive/Research/DLGN_fixed_node/Layer2/\"\n",
        "path3=\"/content/drive/MyDrive/Research/DLGN_fixed_node/Layer3/\""
      ],
      "metadata": {
        "id": "JjUD13qiyKS7"
      },
      "execution_count": 16,
      "outputs": []
    },
    {
      "cell_type": "code",
      "source": [
        "for epoch_no in range(len(DLGN_obj_store)):\n",
        "  if (epoch_no%100==0):\n",
        "    print(\"________________________________\")\n",
        "    print(\"=======Epoch no: \", epoch_no**2)\n",
        "    print(\"________________________________\")\n",
        "\n",
        "\n",
        "\n",
        "    effective_weights, effective_biases = DLGN_obj_store[epoch_no].return_gating_functions()\n",
        "    X=test_data_curr[:,0]\n",
        "    Y=test_data_curr[:,1]\n",
        "    test_data_torch = torch.Tensor(test_data_curr)\n",
        "    values,gate_scores =DLGN_obj_store[epoch_no](test_data_torch)\n",
        "    test_preds = torch.cat((values[-1], -1*values[-1]), dim=1)\n",
        "    predictions=torch.argmax(test_preds, dim=1).numpy()\n",
        "\n",
        "    no_rows=num_hidden_layers+1\n",
        "    no_colns = max_no_of_nodes\n",
        "    fig,ax=plt.subplots(no_rows,no_colns,figsize=(5*no_colns,4*no_rows)) \n",
        "    fig.tight_layout(pad=2)\n",
        "    fig.text(0,0,s=\"Epoch no: \"+ str(epoch_no**2))\n",
        "    for k in range(no_colns//2):\n",
        "      im_hide = ax[0,k].axis('off')\n",
        "    im0=ax[0,no_colns//2].scatter(X, Y, c=test_labels_curr,vmin=0,vmax=1)\n",
        "    ax[0,no_colns//2].title.set_text(\"Real\")\n",
        "    ax[0,no_colns//2].set_xlim(-2,2)\n",
        "    ax[0,no_colns//2].set_ylim(-4,4)\n",
        "    divider = make_axes_locatable(ax[0,no_colns//2])\n",
        "    cax = divider.append_axes('right', size='5%', pad=0.05)\n",
        "    fig.colorbar(im0, cax=cax, orientation='vertical')\n",
        "\n",
        "    im1=ax[0,no_colns//2+1].scatter(X, Y, c=predictions,vmin=0,vmax=1)\n",
        "    ax[0,no_colns//2+1].title.set_text(\"Predicted\")\n",
        "    ax[0,no_colns//2+1].set_xlim(-2,2)\n",
        "    ax[0,no_colns//2+1].set_ylim(-4,4)\n",
        "    divider = make_axes_locatable(ax[0,no_colns//2+1])\n",
        "    cax = divider.append_axes('right', size='5%', pad=0.05)\n",
        "    fig.colorbar(im1, cax=cax, orientation='vertical')\n",
        "\n",
        "    for j in range(num_hidden_layers):\n",
        "      for i in range( num_hidden_nodes[j]):\n",
        "        weight = effective_weights[j][i].data.numpy()\n",
        "        bias = effective_biases[j][i].data.numpy()\n",
        "        Z = ((test_data_curr@weight.T)+bias)>0\n",
        "        line_eq = (-bias - X*weight[0])/weight[1]\n",
        "\n",
        "        im=ax[j+1,i].scatter(X, Y, c=Z,vmin=0,vmax=1)\n",
        "        im1=ax[j+1,i].plot(X,line_eq,label=\"(\"+str(round(weight.data[0],4))+\")x+\"+\"(\"+str(round(weight.data[1],4))+\")y+\"+\"(\"+str(round(bias.item(),4))+\")=0\")\n",
        "        ax[j+1,i].set_xlim(-2,2)\n",
        "        ax[j+1,i].set_ylim(-4,4)\n",
        "        ax[j+1,i].title.set_text(\"Layer: \"+str(j+1)+\" Node: \"+str(i+1))\n",
        "        ax[j+1,i].legend()\n",
        "        divider = make_axes_locatable(ax[j+1,i])\n",
        "        cax = divider.append_axes('right', size='5%', pad=0.05)\n",
        "        fig.colorbar(im, cax=cax, orientation='vertical')\n",
        "    # fig.subplots_adjust(right=0.8)\n",
        "    # cbar_ax = fig.add_axes([0.85, 0.12, 0.01, 0.82])\n",
        "    # fig.colorbar(im0, cax=cbar_ax)\n",
        "    path=\"/content/drive/MyDrive/Research/DLGN_fixed_node/Layer_3_Node_2/\"\n",
        "    fig.savefig(str(path)+\"Epoch_\"+str(epoch_no**2)+\"_.png\", dpi=300)\n",
        "    # fig.savefig(str(path)+\"Epoch_\"+str(epoch_no**2)+\"_layer_\"+str(j+1)+\" Node: \"+str(i+1)+\"_.pdf\", dpi=300,format=\"pdf\")\n",
        "    plt.show"
      ],
      "metadata": {
        "id": "HYYQn73aUr1X"
      },
      "execution_count": null,
      "outputs": []
    },
    {
      "cell_type": "code",
      "source": [],
      "metadata": {
        "id": "taWFUEd0G9p2"
      },
      "execution_count": null,
      "outputs": []
    }
  ]
}