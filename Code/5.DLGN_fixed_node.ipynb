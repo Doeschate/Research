{
  "nbformat": 4,
  "nbformat_minor": 0,
  "metadata": {
    "colab": {
      "provenance": []
    },
    "kernelspec": {
      "name": "python3",
      "display_name": "Python 3"
    },
    "language_info": {
      "name": "python"
    },
    "gpuClass": "standard"
  },
  "cells": [
    {
      "cell_type": "code",
      "execution_count": 11,
      "metadata": {
        "id": "rCA9eBGackoU"
      },
      "outputs": [],
      "source": [
        "#@title Imports\n",
        "import torch\n",
        "import torch.nn as nn\n",
        "import torch.nn.functional as F\n",
        "import torch.optim as optim\n",
        "from tqdm import tqdm\n",
        "import random\n",
        "import numpy as np\n",
        "import matplotlib.pyplot as plt\n",
        "from sklearn.metrics import pairwise_distances\n",
        "from mpl_toolkits.axes_grid1 import make_axes_locatable\n"
      ]
    },
    {
      "cell_type": "code",
      "source": [
        "#@title Synthetic data\n",
        "def set_npseed(seed):\n",
        "  np.random.seed(seed)\n",
        "  random.seed(seed)\n",
        "\n",
        "def set_torchseed(seed):\n",
        "  torch.manual_seed(seed)\n",
        "  torch.cuda.manual_seed(seed)\n",
        "  torch.cuda.manual_seed_all(seed)\n",
        "  torch.backends.cudnn.deterministic = True\n",
        "  torch.backends.cudnn.benchmark = False\n",
        "  \n",
        "\n",
        "def data_gen(num_train_data,num_vali_data,num_test_data,dim=2,seed=0):\n",
        "  # np.random.seed(6790)\n",
        "  set_npseed(seed = seed)\n",
        "  d=dim\n",
        "  num_modes=2*d\n",
        "  centers = np.concatenate((np.eye(d), -1*np.eye(d)), axis=0)\n",
        "  np.random.shuffle(centers)\n",
        "  # np.random.seed(475)\n",
        "  hard=num_modes//2\n",
        "\n",
        "  a=[4]* hard + [1]*(num_modes - hard)\n",
        "  mode_frac = np.array([1./num_modes]*num_modes)\n",
        "  b=1.\n",
        "  num_train_data = num_train_data \n",
        "  num_vali_data=num_vali_data\n",
        "  num_test_data=num_test_data\n",
        "  num_data = num_train_data + num_vali_data + num_test_data\n",
        "\n",
        "  num_data_per_mode = np.int32(num_data*mode_frac)\n",
        "  num_data_per_mode = np.concatenate((num_data_per_mode,[np.sum(num_data_per_mode)]))\n",
        "\n",
        "  landmarks=[-1]*num_modes\n",
        "  labels=[-1]*num_modes\n",
        "  for i in range(num_modes):\n",
        "    landmarks[i] = 0.05*np.random.randn(a[i],d)\n",
        "    landmarks[i]+=centers[i]\n",
        "    labels[i] = (i - np.arange(len(landmarks[i])))%2\n",
        "      \n",
        "  data=[-1]*num_modes\n",
        "  data_labels=[-1]*num_modes\n",
        "\n",
        "  train_data=[-1]*num_modes\n",
        "  train_data_labels=[-1]*num_modes\n",
        "\n",
        "  test_data=[-1]*num_modes\n",
        "  test_data_labels=[-1]*num_modes\n",
        "\n",
        "  vali_data=[-1]*num_modes\n",
        "  vali_data_labels=[-1]*num_modes\n",
        "\n",
        "\n",
        "  modes_data=[]\n",
        "  # np.random.seed(12345)\n",
        "\n",
        "  for i in range(num_modes):\n",
        "    data[i] = 0.1*np.random.randn(num_data_per_mode[i],d)\n",
        "    data[i] += centers[i]\n",
        "    data_labels[i] = np.zeros(num_data_per_mode[i])\n",
        "    for j in range(len(data_labels[i])):\n",
        "      dists = pairwise_distances(data[i][j:j+1,:],landmarks[i])                                   \n",
        "      j_star = np.argmin(dists[0])\n",
        "      data_labels[i][j]=labels[i][j_star]\n",
        "      \n",
        "      train_data[i] = np.array(data[i][:int(mode_frac[i]*num_train_data)])\n",
        "      train_data_labels[i] = np.array(data_labels[i][:int(mode_frac[i]*num_train_data)])\n",
        "\n",
        "      vali_data[i] = np.array(data[i][int(mode_frac[i]*num_train_data): \\\n",
        "                                      int(mode_frac[i]*num_train_data)+int(mode_frac[i]*num_vali_data)])\n",
        "      vali_data_labels[i] = np.array(data_labels[i][int(mode_frac[i]*num_train_data): \\\n",
        "                                      int(mode_frac[i]*num_train_data)+int(mode_frac[i]*num_vali_data)])\n",
        "\n",
        "      test_data[i] = np.array(data[i][-int(mode_frac[i]*num_test_data):])\n",
        "      test_data_labels[i] = np.array(data_labels[i][-int(mode_frac[i]*num_test_data):])\n",
        "      \n",
        "  return data,data_labels,train_data,train_data_labels,test_data,test_data_labels,vali_data,vali_data_labels,landmarks,labels,centers,mode_frac"
      ],
      "metadata": {
        "id": "GEGkYjxCc69U"
      },
      "execution_count": 2,
      "outputs": []
    },
    {
      "cell_type": "code",
      "source": [
        "#@title DLGN_FC\n",
        "device = \"cuda\" if torch.cuda.is_available() else \"cpu\"\n",
        "print(\"Using {} device\".format(device))\n",
        "\n",
        "class DLGN_FC(nn.Module):\n",
        "  def __init__(self, to_copy=None, num_hidden_layers=0, input_dim=2, output_dim=1, num_hidden_nodes=[], beta=20, mode='pwc'):\n",
        "    super(DLGN_FC, self).__init__()\n",
        "    if to_copy==None:\n",
        "      self.gating_layers=[]\n",
        "      self.value_layers=[]\n",
        "      self.num_hidden_layers = num_hidden_layers\n",
        "      self.beta=beta  # Soft gating parameter\n",
        "      self.mode = mode\n",
        "      self.num_nodes=[input_dim]+num_hidden_nodes+[output_dim]\n",
        "      for i in range(num_hidden_layers+1):\n",
        "        self.gating_layers.append(nn.Linear(self.num_nodes[i], self.num_nodes[i+1]))\n",
        "        self.value_layers.append(nn.Linear(self.num_nodes[i], self.num_nodes[i+1], bias=False))\n",
        "    else:\n",
        "      self.gating_layers=[]\n",
        "      self.value_layers=[]\n",
        "      self.num_hidden_layers = to_copy.num_hidden_layers\n",
        "      self.beta=to_copy.beta  # Soft gating parameter\n",
        "      self.mode = to_copy.mode\n",
        "      self.num_nodes=list(to_copy.num_nodes)\n",
        "      for i in range(self.num_hidden_layers+1):\n",
        "        self.gating_layers.append(nn.Linear(self.num_nodes[i], self.num_nodes[i+1]))\n",
        "        self.value_layers.append(nn.Linear(self.num_nodes[i], self.num_nodes[i+1], bias=False))\n",
        "        self.gating_layers[i].weight.data =  torch.Tensor(np.array(to_copy.gating_layers[i].weight.detach().numpy()))\n",
        "        self.gating_layers[i].bias.data = torch.Tensor(np.array(to_copy.gating_layers[i].bias.detach().numpy()))\n",
        "        self.value_layers[i].weight.data = torch.Tensor(np.array(to_copy.value_layers[i].weight.detach().numpy()))\n",
        "\n",
        "                \n",
        "\n",
        "  def return_gating_functions(self):\n",
        "    effective_weights = []\n",
        "    effective_biases =[]\n",
        "    for i in range(self.num_hidden_layers):\n",
        "      curr_weight = self.gating_layers[i].weight\n",
        "      curr_bias = self.gating_layers[i].bias\n",
        "      if i==0:\n",
        "        effective_weights.append(curr_weight)\n",
        "        effective_biases.append(curr_bias)\n",
        "      else:\n",
        "        effective_biases.append(torch.matmul(curr_weight,effective_biases[-1])+curr_bias)\n",
        "        effective_weights.append(torch.matmul(curr_weight,effective_weights[-1]))\n",
        "    return effective_weights, effective_biases\n",
        "    # effective_weights (and effective biases) is a list of size num_hidden_layers\n",
        "              \n",
        "\n",
        "  def forward(self, x):\n",
        "    gate_scores=[x]\n",
        "    if self.mode=='pwc':\n",
        "      values=[torch.ones(x.shape)]\n",
        "    else:\n",
        "      values=[x]\n",
        "    \n",
        "    for i in range(self.num_hidden_layers):\n",
        "      gate_scores.append(self.gating_layers[i](gate_scores[-1]))\n",
        "      curr_gate_on_off = torch.sigmoid(self.beta*gate_scores[-1])\n",
        "      values.append(self.value_layers[i](values[-1])*curr_gate_on_off)\n",
        "    values.append(self.value_layers[self.num_hidden_layers](values[-1]))\n",
        "    # Values is a list of size 1+num_hidden_layers+1\n",
        "    #gate_scores is a list of size 1+num_hidden_layers\n",
        "    return values,gate_scores\n",
        "    \n",
        "    "
      ],
      "metadata": {
        "colab": {
          "base_uri": "https://localhost:8080/"
        },
        "id": "2bDu_ez_QDbO",
        "outputId": "32640979-d4c3-4ace-c85a-e2b81cc568b1"
      },
      "execution_count": 3,
      "outputs": [
        {
          "output_type": "stream",
          "name": "stdout",
          "text": [
            "Using cpu device\n"
          ]
        }
      ]
    },
    {
      "cell_type": "code",
      "source": [
        "#@title Kernel Functions\n",
        "def get_overlap_kernel_DLGN(data_x, DLGN_obj):\n",
        "  values,gate_scores = DLGN_obj.forward(data_x)\n",
        "  n = len(data_x)\n",
        "  overlap_kernel = torch.ones((n,n))\n",
        "  for g in gate_scores:\n",
        "      curr = torch.matmul(g,g.T)\n",
        "      overlap_kernel *= curr\n",
        "  return overlap_kernel.detach().numpy()\n",
        "               \n",
        "def get_tangent_kernel_DLGN(data_x, DLGN_obj):\n",
        "  values,gate_scores = DLGN_obj.forward(data_x)\n",
        "  out = values[-1]\n",
        "  n = len(data_x)\n",
        "  DLGN_params = []\n",
        "  DLGN_params += [item.weight for item in DLGN_obj.gating_layers[:-1]]\n",
        "  DLGN_params += [item.bias for item in DLGN_obj.gating_layers[:-1]]\n",
        "  DLGN_params += [item.weight for item in DLGN_obj.value_layers]\n",
        "\n",
        "  tangent_kernel = torch.zeros((n,n))\n",
        "  grad_feats_all = []\n",
        "  for i in range(n):\n",
        "      curr_grads = torch.autograd.grad(out[i], DLGN_params, retain_graph=True, allow_unused=True)\n",
        "      curr_grads = [element.detach().numpy() for element in curr_grads]\n",
        "      grad_feats_all.append(curr_grads)\n",
        "      \n",
        "  NTK = np.zeros((len(grad_feats_all),len(grad_feats_all)))\n",
        "  for i in range(len(grad_feats_all)):\n",
        "      for j in range(len(grad_feats_all)):\n",
        "          NTK[i,j] = sum_of_elementwise_products(grad_feats_all[i], grad_feats_all[j])\n",
        "  return NTK "
      ],
      "metadata": {
        "cellView": "form",
        "id": "qqJ-qo-zA2Xs"
      },
      "execution_count": null,
      "outputs": []
    },
    {
      "cell_type": "code",
      "source": [
        "#@title Train DLGN\n",
        "# def train_dlgn(seed,num_hidden_layers,input_dim,output_dim,num_hidden_nodes,beta,\n",
        "#                mode,train_data_curr,vali_data_curr,test_data_curr,train_labels_curr,test_labels_curr,vali_labels_curr,num_epoch):\n",
        "#   # torch.random.manual_seed(1222)\n",
        "#   # torch.random.manual_seed(2311)\n",
        "#   set_torchseed(seed)\n",
        "#   DLGN_obj = None\n",
        "#   DLGN_obj_return = None\n",
        "\n",
        "#   DLGN_obj = DLGN_FC(num_hidden_layers=num_hidden_layers, input_dim=input_dim, output_dim=output_dim, \n",
        "#                       num_hidden_nodes=num_hidden_nodes, beta=beta, mode=mode)\n",
        "#   DLGN_obj_return = DLGN_FC(to_copy=DLGN_obj)\n",
        "#   criterion = nn.CrossEntropyLoss()\n",
        "#   DLGN_params = []\n",
        "#   DLGN_params += [item.weight for item in DLGN_obj.gating_layers]\n",
        "#   DLGN_params += [item.bias for item in DLGN_obj.gating_layers]\n",
        "#   DLGN_params += [item.weight for item in DLGN_obj.value_layers]\n",
        "# #     DLGN_params += [item.bias for item in DLGN_obj.value_layers]\n",
        "\n",
        "#   optimizer = optim.Adam(DLGN_params, lr=0.00005, weight_decay=0.0)\n",
        "  \n",
        "  \n",
        "#   train_data_torch = torch.Tensor(train_data_curr)\n",
        "#   vali_data_torch = torch.Tensor(vali_data_curr)\n",
        "#   test_data_torch = torch.Tensor(test_data_curr)\n",
        "\n",
        "#   train_labels_torch = torch.tensor(train_labels_curr, dtype=torch.int64)\n",
        "#   test_labels_torch = torch.tensor(test_labels_curr, dtype=torch.int64)\n",
        "#   vali_labels_torch = torch.tensor(vali_labels_curr, dtype=torch.int64)\n",
        "\n",
        "#   batch_size = len(train_data_curr)\n",
        "#   losses=[]\n",
        "#   DLGN_obj_store = []\n",
        "#   num_batches = len(train_data_curr)//batch_size\n",
        "#   best_vali_error = len(vali_labels_curr)\n",
        "  \n",
        "#   for epoch in tqdm(range(num_epoch)):  # loop over the dataset multiple times\n",
        "#     running_loss = 0.0\n",
        "#     if epoch%10==0:\n",
        "#       DLGN_obj_store.append(DLGN_FC(to_copy=DLGN_obj))\n",
        "    \n",
        "#     for batch_start in range(0,len(train_data_curr),batch_size):\n",
        "#       optimizer.zero_grad()\n",
        "#       values,gate_scores = DLGN_obj(train_data_torch[batch_start:batch_start+batch_size])\n",
        "#       outputs = torch.cat((values[-1], -1*values[-1]), dim=1)\n",
        "#       loss = criterion(outputs, train_labels_torch[batch_start:batch_start+batch_size])\n",
        "#       loss.backward()\n",
        "#       optimizer.step()\n",
        "#       running_loss += loss.item()    \n",
        "#     losses.append(running_loss/num_batches)\n",
        "\n",
        "#     values,gate_scores =DLGN_obj(vali_data_torch)\n",
        "#     vali_preds = torch.cat((values[-1], -1*values[-1]), dim=1)\n",
        "#     vali_error= torch.sum(vali_labels_torch!=torch.argmax(vali_preds, dim=1)).numpy()\n",
        "    \n",
        "#     if vali_error < best_vali_error:\n",
        "#       DLGN_obj_return = DLGN_FC(to_copy=DLGN_obj)\n",
        "#       best_vali_error = vali_error\n",
        "    \n",
        "#   values,gate_scores =DLGN_obj_return(test_data_torch)\n",
        "#   test_preds = torch.cat((values[-1], -1*values[-1]), dim=1)\n",
        "#   test_error= torch.sum(test_labels_torch!=torch.argmax(test_preds, dim=1)).numpy()\n",
        "\n",
        "  \n",
        "  \n",
        "#   values,gate_scores=DLGN_obj_return(train_data_torch)\n",
        "#   train_preds = torch.cat((values[-1], -1*values[-1]), dim=1)\n",
        "#   train_error= torch.sum(train_labels_torch!=torch.argmax(train_preds, dim=1)).numpy()\n",
        "#   plt.figure()\n",
        "#   plt.title(\"DLGN loss vs epoch\")\n",
        "#   plt.plot(losses)\n",
        "#   return test_error, train_error, torch.argmax(test_preds, dim=1).numpy(), DLGN_obj_return, DLGN_obj_store"
      ],
      "metadata": {
        "id": "sU59Im5jQxgm",
        "cellView": "form"
      },
      "execution_count": null,
      "outputs": []
    },
    {
      "cell_type": "code",
      "source": [
        "#@title Train DLGN model based on freeze variable\n",
        "def train_dlgn(seed,num_hidden_layers,input_dim,output_dim,num_hidden_nodes,beta,no_of_batches,\n",
        "               mode,layer_num,node_num,train_data_curr,vali_data_curr,test_data_curr,train_labels_curr,test_labels_curr,vali_labels_curr,num_epoch,freeze):\n",
        "  # torch.random.manual_seed(1222)\n",
        "  # torch.random.manual_seed(2311)\n",
        "  set_torchseed(seed)\n",
        "  if freeze:\n",
        "    DLGN_obj_initial = None\n",
        "  DLGN_obj = None\n",
        "  DLGN_obj_return = None\n",
        "  \n",
        "  DLGN_obj = DLGN_FC(num_hidden_layers=num_hidden_layers, input_dim=input_dim, output_dim=output_dim, \n",
        "                      num_hidden_nodes=num_hidden_nodes, beta=beta, mode=mode)\n",
        "  if freeze:\n",
        "    DLGN_obj_initial = DLGN_FC(to_copy=DLGN_obj)\n",
        "  \n",
        "  DLGN_obj_return = DLGN_FC(to_copy=DLGN_obj)\n",
        "\n",
        "  criterion = nn.CrossEntropyLoss()\n",
        "  DLGN_params = []\n",
        "  DLGN_params += [item.weight for item in DLGN_obj.gating_layers]\n",
        "  DLGN_params += [item.bias for item in DLGN_obj.gating_layers]\n",
        "  DLGN_params += [item.weight for item in DLGN_obj.value_layers]\n",
        "#     DLGN_params += [item.bias for item in DLGN_obj.value_layers]\n",
        "\n",
        "  # print(\"H0\")\n",
        "  # print(DLGN_params)\n",
        "  if freeze:\n",
        "    count = 0\n",
        "    for param in DLGN_params:\n",
        "      if(count != layer_num):\n",
        "        param.requires_grad=False\n",
        "      count=count+1\n",
        "\n",
        "  # print(\"H1\")\n",
        "  # print(DLGN_params)\n",
        "\n",
        "  optimizer = optim.Adam(DLGN_params, lr=0.00005, weight_decay=0.0)\n",
        "  \n",
        "\n",
        "  # print(\"H2\")\n",
        "  # print(DLGN_params)\n",
        "  \n",
        "  train_data_torch = torch.Tensor(train_data_curr)\n",
        "  vali_data_torch = torch.Tensor(vali_data_curr)\n",
        "  test_data_torch = torch.Tensor(test_data_curr)\n",
        "\n",
        "  train_labels_torch = torch.tensor(train_labels_curr, dtype=torch.int64)\n",
        "  test_labels_torch = torch.tensor(test_labels_curr, dtype=torch.int64)\n",
        "  vali_labels_torch = torch.tensor(vali_labels_curr, dtype=torch.int64)\n",
        "  num_batches = no_of_batches\n",
        "  batch_size = len(train_data_curr)//num_batches\n",
        "  losses=[]\n",
        "  DLGN_obj_store = []\n",
        "  best_vali_error = len(vali_labels_curr)\n",
        "\n",
        "  # print(\"H3\")\n",
        "  # print(DLGN_params)\n",
        "\n",
        "  for epoch in tqdm(range(num_epoch)):  # loop over the dataset multiple times\n",
        "    running_loss = 0.0\n",
        "    if epoch%10==0:\n",
        "      DLGN_obj_store.append(DLGN_FC(to_copy=DLGN_obj))\n",
        "    \n",
        "    for batch_start in range(0,len(train_data_curr),batch_size):\n",
        "      optimizer.zero_grad()\n",
        "      values,gate_scores = DLGN_obj(train_data_torch[batch_start:batch_start+batch_size])\n",
        "      outputs = torch.cat((values[-1], -1*values[-1]), dim=1)\n",
        "      loss = criterion(outputs, train_labels_torch[batch_start:batch_start+batch_size])\n",
        "\n",
        "      # print(\"H4\")\n",
        "      # print(DLGN_params)\n",
        "\n",
        "      loss.backward()\n",
        "      optimizer.step()\n",
        "\n",
        "      # print(\"H5\")\n",
        "      # print(DLGN_params)\n",
        "      if freeze:\n",
        "        for node in range(num_hidden_nodes[layer_num]):\n",
        "          if(node!=node_num):\n",
        "            # self.gating_layers[i].weight.data =  torch.Tensor(np.array(to_copy.gating_layers[i].weight.detach().numpy()))\n",
        "            DLGN_params[layer_num].data[node]= DLGN_obj_initial.gating_layers[layer_num].weight.data[node]\n",
        "\n",
        "      # print(\"H6\")\n",
        "      # print(DLGN_params)\n",
        "\n",
        "      running_loss += loss.item()    \n",
        "    losses.append(running_loss/num_batches)\n",
        "\n",
        "    values,gate_scores =DLGN_obj(vali_data_torch)\n",
        "    vali_preds = torch.cat((values[-1], -1*values[-1]), dim=1)\n",
        "    vali_error= torch.sum(vali_labels_torch!=torch.argmax(vali_preds, dim=1)).numpy()\n",
        "    \n",
        "    if vali_error < best_vali_error:\n",
        "      DLGN_obj_return = DLGN_FC(to_copy=DLGN_obj)\n",
        "      best_vali_error = vali_error\n",
        "    \n",
        "  values,gate_scores =DLGN_obj_return(test_data_torch)\n",
        "  test_preds = torch.cat((values[-1], -1*values[-1]), dim=1)\n",
        "  test_error= torch.sum(test_labels_torch!=torch.argmax(test_preds, dim=1)).numpy()\n",
        "\n",
        "  \n",
        "  \n",
        "  values,gate_scores=DLGN_obj_return(train_data_torch)\n",
        "  train_preds = torch.cat((values[-1], -1*values[-1]), dim=1)\n",
        "  train_error= torch.sum(train_labels_torch!=torch.argmax(train_preds, dim=1)).numpy()\n",
        "  plt.figure()\n",
        "  plt.title(\"DLGN loss vs epoch\")\n",
        "  plt.plot(losses)\n",
        "  return test_error, train_error, torch.argmax(test_preds, dim=1).numpy(), DLGN_obj_return, DLGN_obj_store"
      ],
      "metadata": {
        "id": "YbQEIXIb9GdK"
      },
      "execution_count": null,
      "outputs": []
    },
    {
      "cell_type": "markdown",
      "source": [
        "**Generating data**"
      ],
      "metadata": {
        "id": "990aqFqrFcIi"
      }
    },
    {
      "cell_type": "code",
      "source": [
        "num_train_data=2400\n",
        "num_vali_data=2400\n",
        "num_test_data=2400\n",
        "dim=2\n",
        "num_modes=2*dim\n",
        "seed=365\n",
        "data,data_labels,train_data,train_data_labels,test_data,test_data_labels,vali_data,vali_data_labels, \\\n",
        "landmarks,labels,centers,mode_frac= data_gen(num_train_data,num_vali_data,num_test_data,dim=2,seed=0)"
      ],
      "metadata": {
        "id": "XL-qsOGL1lV1"
      },
      "execution_count": 4,
      "outputs": []
    },
    {
      "cell_type": "code",
      "source": [
        "train_data[0].shape"
      ],
      "metadata": {
        "colab": {
          "base_uri": "https://localhost:8080/"
        },
        "id": "HqmWl_LbBZuF",
        "outputId": "fcfe469a-9d08-4153-ed9a-8d325f6da148"
      },
      "execution_count": 8,
      "outputs": [
        {
          "output_type": "execute_result",
          "data": {
            "text/plain": [
              "(600, 2)"
            ]
          },
          "metadata": {},
          "execution_count": 8
        }
      ]
    },
    {
      "cell_type": "markdown",
      "source": [
        "**Plotting the data**"
      ],
      "metadata": {
        "id": "boKZPGbaFg_c"
      }
    },
    {
      "cell_type": "code",
      "source": [
        "plt.scatter(np.concatenate(data)[:,0], np.concatenate(data)[:,1], c=np.concatenate(data_labels), s=10)"
      ],
      "metadata": {
        "colab": {
          "base_uri": "https://localhost:8080/",
          "height": 282
        },
        "id": "2I8md4woFVrE",
        "outputId": "9c8bfb42-6bff-4b6e-b05a-67e314802e5a"
      },
      "execution_count": null,
      "outputs": [
        {
          "output_type": "execute_result",
          "data": {
            "text/plain": [
              "<matplotlib.collections.PathCollection at 0x7f6e96775940>"
            ]
          },
          "metadata": {},
          "execution_count": 6
        },
        {
          "output_type": "display_data",
          "data": {
            "text/plain": [
              "<Figure size 432x288 with 1 Axes>"
            ],
            "image/png": "[encoded data removed]"
          },
          "metadata": {
            "needs_background": "light"
          }
        }
      ]
    },
    {
      "cell_type": "markdown",
      "source": [
        "**Training a DLGN model**"
      ],
      "metadata": {
        "id": "PpN8Yby7Fllw"
      }
    },
    {
      "cell_type": "code",
      "source": [
        "seed=0\n",
        "num_hidden_layers=3\n",
        "input_dim=dim\n",
        "output_dim=1\n",
        "num_hidden_nodes=[3,3,3]\n",
        "beta=20\n",
        "no_of_batches=10 #[1,10,100]\n",
        "modep='pwc'\n",
        "\n",
        "freeze = True\n",
        "layer_num = 1\n",
        "node_num = 1\n",
        "\n",
        "num_epoch=20000\n",
        "test_err_dlgn = np.zeros(num_modes+1)\n",
        "train_err_dlgn = np.zeros(num_modes+1)\n",
        "predictions_dlgnm = [0]*(num_modes+1)\n",
        "DLGN_obj_final_dlgn = [0]*(num_modes+1)\n",
        "DLGN_obj_store_dlgn = [0]*(num_modes+1)\n",
        "\n",
        "for mode in range(num_modes+1): #[num_modes]: \n",
        "  print(\"________________________________\")\n",
        "  print(\"=======Training on mode: \", mode)\n",
        "  print(\"________________________________\")        \n",
        "\n",
        "  if mode<num_modes:\n",
        "    train_data_curr = train_data[mode]\n",
        "    train_labels_curr = train_data_labels[mode]\n",
        "    vali_data_curr = vali_data[mode]\n",
        "    vali_labels_curr = vali_data_labels[mode]\n",
        "    test_data_curr = test_data[mode]\n",
        "    test_labels_curr = test_data_labels[mode]\n",
        "      \n",
        "      \n",
        "  if mode==num_modes:\n",
        "    train_data_curr = np.concatenate(train_data[0:num_modes])\n",
        "    train_labels_curr = np.concatenate(train_data_labels[0:num_modes])\n",
        "    vali_data_curr = np.concatenate(vali_data[0:num_modes])\n",
        "    vali_labels_curr = np.concatenate(vali_data_labels[0:num_modes])\n",
        "    test_data_curr = np.concatenate(test_data[0:num_modes])\n",
        "    test_labels_curr = np.concatenate(test_data_labels[0:num_modes])\n",
        "\n",
        "  print(\"Num Train = \",len(train_data_curr))\n",
        "  print(\"Num Vali  = \",len(vali_data_curr))\n",
        "  print(\"Num Test  = \",len(test_data_curr))\n",
        "  print(\"==========DLGN===========\")   \n",
        "\n",
        "\n",
        "  test_error, train_error, predictions_dlgn, DLGN_obj_final, DLGN_obj_store = train_dlgn(seed,num_hidden_layers,input_dim,output_dim,num_hidden_nodes,beta,\n",
        "               no_of_batches,modep,layer_num,node_num,train_data_curr,vali_data_curr,test_data_curr,train_labels_curr,test_labels_curr,vali_labels_curr,num_epoch,freeze)\n",
        "  \n",
        "  train_err_dlgn[mode] = train_error\n",
        "  test_err_dlgn[mode] = test_error\n",
        "  predictions_dlgnm[mode] = predictions_dlgn\n",
        "  DLGN_obj_final_dlgn[mode] = DLGN_obj_final\n",
        "  DLGN_obj_store_dlgn[mode] = DLGN_obj_store"
      ],
      "metadata": {
        "id": "LF7PO4Lc2jzV",
        "colab": {
          "base_uri": "https://localhost:8080/",
          "height": 1000
        },
        "outputId": "b0333bbc-0fc1-4047-93ac-a1555e577dd1"
      },
      "execution_count": null,
      "outputs": [
        {
          "output_type": "stream",
          "name": "stdout",
          "text": [
            "________________________________\n",
            "=======Training on mode:  0\n",
            "________________________________\n",
            "Num Train =  600\n",
            "Num Vali  =  600\n",
            "Num Test  =  600\n",
            "==========DLGN===========\n"
          ]
        },
        {
          "output_type": "stream",
          "name": "stderr",
          "text": [
            "100%|██████████| 20000/20000 [03:43<00:00, 89.58it/s] \n"
          ]
        },
        {
          "output_type": "stream",
          "name": "stdout",
          "text": [
            "________________________________\n",
            "=======Training on mode:  1\n",
            "________________________________\n",
            "Num Train =  600\n",
            "Num Vali  =  600\n",
            "Num Test  =  600\n",
            "==========DLGN===========\n"
          ]
        },
        {
          "output_type": "stream",
          "name": "stderr",
          "text": [
            "100%|██████████| 20000/20000 [03:32<00:00, 94.01it/s]\n"
          ]
        },
        {
          "output_type": "stream",
          "name": "stdout",
          "text": [
            "________________________________\n",
            "=======Training on mode:  2\n",
            "________________________________\n",
            "Num Train =  600\n",
            "Num Vali  =  600\n",
            "Num Test  =  600\n",
            "==========DLGN===========\n"
          ]
        },
        {
          "output_type": "stream",
          "name": "stderr",
          "text": [
            "100%|██████████| 20000/20000 [03:32<00:00, 94.14it/s] \n"
          ]
        },
        {
          "output_type": "stream",
          "name": "stdout",
          "text": [
            "________________________________\n",
            "=======Training on mode:  3\n",
            "________________________________\n",
            "Num Train =  600\n",
            "Num Vali  =  600\n",
            "Num Test  =  600\n",
            "==========DLGN===========\n"
          ]
        },
        {
          "output_type": "stream",
          "name": "stderr",
          "text": [
            "100%|██████████| 20000/20000 [03:33<00:00, 93.85it/s]\n"
          ]
        },
        {
          "output_type": "stream",
          "name": "stdout",
          "text": [
            "________________________________\n",
            "=======Training on mode:  4\n",
            "________________________________\n",
            "Num Train =  2400\n",
            "Num Vali  =  2400\n",
            "Num Test  =  2400\n",
            "==========DLGN===========\n"
          ]
        },
        {
          "output_type": "stream",
          "name": "stderr",
          "text": [
            "100%|██████████| 20000/20000 [03:57<00:00, 84.32it/s]\n"
          ]
        },
        {
          "output_type": "display_data",
          "data": {
            "text/plain": [
              "<Figure size 432x288 with 1 Axes>"
            ],
            "image/png": "[encoded data removed]"
          },
          "metadata": {
            "needs_background": "light"
          }
        },
        {
          "output_type": "display_data",
          "data": {
            "text/plain": [
              "<Figure size 432x288 with 1 Axes>"
            ],
            "image/png": "[encoded data removed]"
          },
          "metadata": {
            "needs_background": "light"
          }
        },
        {
          "output_type": "display_data",
          "data": {
            "text/plain": [
              "<Figure size 432x288 with 1 Axes>"
            ],
            "image/png": "[encoded data removed]"
          },
          "metadata": {
            "needs_background": "light"
          }
        },
        {
          "output_type": "display_data",
          "data": {
            "text/plain": [
              "<Figure size 432x288 with 1 Axes>"
            ],
            "image/png": "[encoded data removed]"
          },
          "metadata": {
            "needs_background": "light"
          }
        },
        {
          "output_type": "display_data",
          "data": {
            "text/plain": [
              "<Figure size 432x288 with 1 Axes>"
            ],
            "image/png": "[encoded data removed]"
          },
          "metadata": {
            "needs_background": "light"
          }
        }
      ]
    },
    {
      "cell_type": "markdown",
      "source": [
        "**Check node freezing**"
      ],
      "metadata": {
        "id": "rPWAzq17HcAn"
      }
    },
    {
      "cell_type": "code",
      "source": [
        "epoch=len(DLGN_obj_store_dlgn[4])\n",
        "value = np.zeros((epoch,3,3))\n",
        "\n",
        "for index,model in enumerate(DLGN_obj_store_dlgn[4]):\n",
        "  for i in range(len(model.gating_layers)-1):\n",
        "    for j in range(len(model.gating_layers[i].weight)):\n",
        "      value[index][i][j]=model.gating_layers[i].weight[j].data.detach().numpy().mean(axis=0)"
      ],
      "metadata": {
        "id": "QArlUIYe9RxM"
      },
      "execution_count": null,
      "outputs": []
    },
    {
      "cell_type": "code",
      "source": [
        "epoch_count=range(epoch)"
      ],
      "metadata": {
        "id": "Jn0fqgWTFvoS"
      },
      "execution_count": null,
      "outputs": []
    },
    {
      "cell_type": "code",
      "source": [
        "plt.figure(figsize=(15, 5))\n",
        "for i in range(value[0].shape[0]):\n",
        "  for j in range(value[0].shape[1]):\n",
        "    plt.plot(epoch_count,value[:,i,j],label=str(i)+\"_\"+str(j))\n",
        "    plt.legend()"
      ],
      "metadata": {
        "colab": {
          "base_uri": "https://localhost:8080/",
          "height": 320
        },
        "id": "WK8lLBN7Fh4P",
        "outputId": "99106a9c-539d-41c7-c43e-6a5783fccaff"
      },
      "execution_count": null,
      "outputs": [
        {
          "output_type": "display_data",
          "data": {
            "text/plain": [
              "<Figure size 1080x360 with 1 Axes>"
            ],
            "image/png": "[encoded data removed]"
          },
          "metadata": {
            "needs_background": "light"
          }
        }
      ]
    },
    {
      "cell_type": "code",
      "source": [
        "value[0].shape"
      ],
      "metadata": {
        "id": "FxVbAhs0Eg1r"
      },
      "execution_count": null,
      "outputs": []
    },
    {
      "cell_type": "code",
      "source": [
        "print(\"=====DLGN=====\")\n",
        "print(test_err_dlgn)\n",
        "print(train_err_dlgn)\n",
        "# print(test_err_dlgn[:-1].sum())"
      ],
      "metadata": {
        "id": "mSg9_rpuHdXL"
      },
      "execution_count": null,
      "outputs": []
    },
    {
      "cell_type": "code",
      "source": [
        "print(predictions_dlgnm[num_modes])\n",
        "print(test_labels_curr)\n",
        "print('======== Total =========')\n",
        "print('Total DLGN acc=')\n",
        "print(np.sum(predictions_dlgnm[num_modes]==test_labels_curr))\n",
        "\n",
        "mode_starts = np.int32(np.cumsum(mode_frac*num_test_data))\n",
        "mode_starts = np.concatenate(([0], mode_starts))\n",
        "print('========DLGN=========')\n",
        "\n",
        "for mode in range(num_modes):\n",
        "    print(np.sum(predictions_dlgnm[num_modes][mode_starts[mode]:mode_starts[mode+1]]== \\\n",
        "                 test_labels_curr[mode_starts[mode]:mode_starts[mode+1]]))"
      ],
      "metadata": {
        "id": "3zlrf88GN_GV"
      },
      "execution_count": null,
      "outputs": []
    },
    {
      "cell_type": "markdown",
      "source": [
        "**Data vs prediction scatter plot**"
      ],
      "metadata": {
        "id": "lbcgcSGW-3i1"
      }
    },
    {
      "cell_type": "code",
      "source": [
        "for mode in range(num_modes+1): #[num_modes]: \n",
        "  print(\"________________________________\")\n",
        "  print(\"=======Training on mode: \", mode)\n",
        "  print(\"________________________________\")        \n",
        "\n",
        "  if mode<num_modes:\n",
        "    train_data_curr = train_data[mode]\n",
        "    train_labels_curr = train_data_labels[mode]\n",
        "    vali_data_curr = vali_data[mode]\n",
        "    vali_labels_curr = vali_data_labels[mode]\n",
        "    test_data_curr = test_data[mode]\n",
        "    test_labels_curr = test_data_labels[mode]\n",
        "      \n",
        "      \n",
        "  if mode==num_modes:\n",
        "    train_data_curr = np.concatenate(train_data[0:num_modes])\n",
        "    train_labels_curr = np.concatenate(train_data_labels[0:num_modes])\n",
        "    vali_data_curr = np.concatenate(vali_data[0:num_modes])\n",
        "    vali_labels_curr = np.concatenate(vali_data_labels[0:num_modes])\n",
        "    test_data_curr = np.concatenate(test_data[0:num_modes])\n",
        "    test_labels_curr = np.concatenate(test_data_labels[0:num_modes])\n",
        "\n",
        "  # print(\"Num Train = \",len(train_data_curr))\n",
        "  # print(\"Num Vali  = \",len(vali_data_curr))\n",
        "  print(\"Num Test  = \",len(test_data_curr))\n",
        "  # print(\"==========DLGN===========\")   \n",
        "  plt.figure()\n",
        "  plt.subplot(1, 2, 1) # row 1, col 2 index 1\n",
        "  plt.scatter(test_data_curr[:,0], test_data_curr[:,1], c=test_labels_curr)\n",
        "  plt.title(\"Real labelled test data\")\n",
        "\n",
        "\n",
        "  plt.subplot(1, 2, 2) # index 2\n",
        "  plt.scatter(test_data_curr[:,0], test_data_curr[:,1], c=predictions_dlgnm[mode])\n",
        "  plt.title(\"Predicted Labelled test data\")\n",
        "  plt.show()\n",
        "  \n",
        "\n",
        "  # plt.scatter(test_data_curr[:,0],test_data_curr[:,1],predictions_dlgnm[mode], levels=100)\n",
        "  # plt.colorbar()\n"
      ],
      "metadata": {
        "id": "v1JlKP9d-2IT"
      },
      "execution_count": null,
      "outputs": []
    },
    {
      "cell_type": "markdown",
      "source": [
        "**Gating pattern per layer with best model**"
      ],
      "metadata": {
        "id": "URf7R8QgSoQ-"
      }
    },
    {
      "cell_type": "code",
      "source": [
        "for mode in range(num_modes+1): #[num_modes]: \n",
        " \n",
        "  if mode<num_modes:\n",
        "    train_data_curr = train_data[mode]\n",
        "    train_labels_curr = train_data_labels[mode]\n",
        "    vali_data_curr = vali_data[mode]\n",
        "    vali_labels_curr = vali_data_labels[mode]\n",
        "    test_data_curr = test_data[mode]\n",
        "    test_labels_curr = test_data_labels[mode]\n",
        "      \n",
        "      \n",
        "  if mode==num_modes:\n",
        "    train_data_curr = np.concatenate(train_data[0:num_modes])\n",
        "    train_labels_curr = np.concatenate(train_data_labels[0:num_modes])\n",
        "    vali_data_curr = np.concatenate(vali_data[0:num_modes])\n",
        "    vali_labels_curr = np.concatenate(vali_data_labels[0:num_modes])\n",
        "    test_data_curr = np.concatenate(test_data[0:num_modes])\n",
        "    test_labels_curr = np.concatenate(test_data_labels[0:num_modes])\n",
        "\n",
        "  effective_weights, effective_biases = DLGN_obj_final_dlgn[mode].return_gating_functions()\n",
        "  X=test_data_curr[:,0]\n",
        "  Y=test_data_curr[:,1]\n",
        "\n",
        "  #calculating the gating patterns\n",
        "  gating_pattern_list=[]\n",
        "  for j in range(num_hidden_layers):\n",
        "      Z_all = np.zeros(X.shape)\n",
        "      for i in range( num_hidden_nodes[j]):\n",
        "          weight = effective_weights[j][i].data.numpy()\n",
        "          bias = effective_biases[j][i].data.numpy()\n",
        "          Z = (np.dot(weight,test_data_curr.T)+bias)>0\n",
        "          Z = Z.reshape(X.shape)\n",
        "          Z_all+=(2**i)*Z\n",
        "      gating_pattern_list.append(Z_all)\n",
        "\n",
        "  #plotting the gating paterns\n",
        "  fig,ax=plt.subplots(1, num_hidden_layers+2,sharex=True, sharey=True,figsize=(15, 3)) # row 1, col n\n",
        "  fig.tight_layout(pad=2)\n",
        "  fig.text(0,0,s=str(mode)+\" Mode\")\n",
        "  \n",
        "  im0=ax[0].scatter(test_data_curr[:,0], test_data_curr[:,1], c=test_labels_curr)\n",
        "  divider = make_axes_locatable(ax[0])\n",
        "  cax = divider.append_axes('right', size='5%', pad=0.05)\n",
        "  fig.colorbar(im0, cax=cax, orientation='vertical')\n",
        "  ax[0].title.set_text(\"Real\")\n",
        "\n",
        "  im1=ax[1].scatter(test_data_curr[:,0], test_data_curr[:,1], c=predictions_dlgnm[mode])\n",
        "  divider = make_axes_locatable(ax[1])\n",
        "  cax = divider.append_axes('right', size='5%', pad=0.05)\n",
        "  fig.colorbar(im1, cax=cax, orientation='vertical')\n",
        "  ax[1].title.set_text(\"Predicted\")\n",
        "\n",
        "  for j in range(num_hidden_layers):    \n",
        "      im=ax[j+2].scatter(test_data_curr[:,0], test_data_curr[:,1], c=gating_pattern_list[j])\n",
        "      divider = make_axes_locatable(ax[j+2])\n",
        "      cax = divider.append_axes('right', size='5%', pad=0.05)\n",
        "      fig.colorbar(im, cax=cax, orientation='vertical')\n",
        "\n",
        "      if j==1:\n",
        "        text = str(j)+\"st layer\"\n",
        "      elif j==2:\n",
        "        text = str(j)+\"nd layer\"\n",
        "      else:\n",
        "        text=str(j)+\"th layer\"\n",
        "      ax[j+2].title.set_text(text)\n",
        "\n",
        "  # Stands for dots per inch, 300 is very high quality\n",
        "  fig.savefig(\"Mode_\"+str(mode)+\"_layer_\"+str(j)+\"_.png\", dpi=300)\n",
        "  # Control image quality with percentage\n",
        "  # fig.savefig('sample.jpg', quality=50)\n",
        "\n",
        "\n",
        "  # fig.subplots_adjust(right=0.8)\n",
        "  # cbar_ax = fig.add_axes([0.85, 0.12, 0.01, 0.82])\n",
        "  # fig.colorbar(im, cax=cbar_ax)\n",
        "\n",
        "  plt.show()\n"
      ],
      "metadata": {
        "id": "7OexQWHoBxSo"
      },
      "execution_count": null,
      "outputs": []
    },
    {
      "cell_type": "markdown",
      "source": [
        "**Change of gating pattern for each layers per 10 epoch**"
      ],
      "metadata": {
        "id": "kWV65mMAUtkH"
      }
    },
    {
      "cell_type": "code",
      "source": [
        "# Python program to check whether the given\n",
        "def perfectCube(N) :\n",
        "\tcube_root = round(N**(1/3));\n",
        "\tif cube_root * cube_root * cube_root == N :\n",
        "\t\treturn True;\n",
        "\telse :\n",
        "\t\treturn False;"
      ],
      "metadata": {
        "id": "ONwdZkXSaKaL"
      },
      "execution_count": null,
      "outputs": []
    },
    {
      "cell_type": "code",
      "source": [
        "path=\"/content/drive/MyDrive/Research/DLGN_fixed_node/Gating_features/\""
      ],
      "metadata": {
        "id": "JjUD13qiyKS7"
      },
      "execution_count": null,
      "outputs": []
    },
    {
      "cell_type": "code",
      "source": [
        "\n",
        "for mode in range(num_modes+1): #[num_modes]: \n",
        "  for model_no in range(len(DLGN_obj_store_dlgn[mode])):\n",
        "    if perfectCube(model_no):\n",
        "      print(\"________________________________\")\n",
        "      print(\"=======Model no: \", model_no)\n",
        "      print(\"________________________________\")\n",
        "\n",
        "      if mode<num_modes:\n",
        "        train_data_curr = train_data[mode]\n",
        "        train_labels_curr = train_data_labels[mode]\n",
        "        vali_data_curr = vali_data[mode]\n",
        "        vali_labels_curr = vali_data_labels[mode]\n",
        "        test_data_curr = test_data[mode]\n",
        "        test_labels_curr = test_data_labels[mode]\n",
        "          \n",
        "          \n",
        "      if mode==num_modes:\n",
        "        train_data_curr = np.concatenate(train_data[0:num_modes])\n",
        "        train_labels_curr = np.concatenate(train_data_labels[0:num_modes])\n",
        "        vali_data_curr = np.concatenate(vali_data[0:num_modes])\n",
        "        vali_labels_curr = np.concatenate(vali_data_labels[0:num_modes])\n",
        "        test_data_curr = np.concatenate(test_data[0:num_modes])\n",
        "        test_labels_curr = np.concatenate(test_data_labels[0:num_modes])\n",
        "\n",
        "      effective_weights, effective_biases = DLGN_obj_store_dlgn[mode][model_no].return_gating_functions()\n",
        "      X=test_data_curr[:,0]\n",
        "      Y=test_data_curr[:,1]\n",
        "\n",
        "      #calculating the gating patterns\n",
        "      gating_pattern_list=[]\n",
        "      for j in range(num_hidden_layers):\n",
        "          Z_all = np.zeros(X.shape)\n",
        "          for i in range( num_hidden_nodes[j]):\n",
        "              weight = effective_weights[j][i].data.numpy()\n",
        "              bias = effective_biases[j][i].data.numpy()\n",
        "              Z = (np.dot(weight,test_data_curr.T)+bias)>0\n",
        "              Z = Z.reshape(X.shape)\n",
        "              Z_all+=(2**i)*Z\n",
        "          gating_pattern_list.append(Z_all)\n",
        "\n",
        "      #plotting the gating paterns\n",
        "      fig,ax=plt.subplots(1, num_hidden_layers+2,sharex=True, sharey=True,figsize=(15, 3)) # row 1, col n\n",
        "      fig.tight_layout(pad=2)\n",
        "      fig.text(0,0,s=\"Mode no: \"+str(mode)+\"Model no: \"+str(model_no))\n",
        "      \n",
        "      im0=ax[0].scatter(test_data_curr[:,0], test_data_curr[:,1], c=test_labels_curr)\n",
        "      divider = make_axes_locatable(ax[0])\n",
        "      cax = divider.append_axes('right', size='5%', pad=0.05)\n",
        "      fig.colorbar(im0, cax=cax, orientation='vertical')\n",
        "      ax[0].title.set_text(\"Real\")\n",
        "\n",
        "      im1=ax[1].scatter(test_data_curr[:,0], test_data_curr[:,1], c=predictions_dlgnm[mode])\n",
        "      divider = make_axes_locatable(ax[1])\n",
        "      cax = divider.append_axes('right', size='5%', pad=0.05)\n",
        "      fig.colorbar(im1, cax=cax, orientation='vertical')\n",
        "      ax[1].title.set_text(\"Predicted\")\n",
        "\n",
        "      for j in range(num_hidden_layers):    \n",
        "          im=ax[j+2].scatter(test_data_curr[:,0], test_data_curr[:,1], c=gating_pattern_list[j])\n",
        "          divider = make_axes_locatable(ax[j+2])\n",
        "          cax = divider.append_axes('right', size='5%', pad=0.05)\n",
        "          fig.colorbar(im, cax=cax, orientation='vertical')\n",
        "\n",
        "          if j==1:\n",
        "            text = str(j)+\"st layer\"\n",
        "          elif j==2:\n",
        "            text = str(j)+\"nd layer\"\n",
        "          else:\n",
        "            text=str(j)+\"th layer\"\n",
        "          ax[j+2].title.set_text(text)\n",
        "\n",
        "      # Stands for dots per inch, 300 is very high quality\n",
        "      # fig.savefig('sample.png', dpi=300)\n",
        "      fig.savefig(str(path)+\"Mode_\"+str(mode)+\"_epoch_\"+str(model_no)+\"_.png\", dpi=300)\n",
        "\n",
        "      # Control image quality with percentage\n",
        "      # fig.savefig('sample.jpg', quality=50)\n",
        "\n",
        "\n",
        "      # fig.subplots_adjust(right=0.8)\n",
        "      # cbar_ax = fig.add_axes([0.85, 0.12, 0.01, 0.82])\n",
        "      # fig.colorbar(im, cax=cbar_ax)\n",
        "\n",
        "      plt.show()\n"
      ],
      "metadata": {
        "id": "HYYQn73aUr1X"
      },
      "execution_count": null,
      "outputs": []
    },
    {
      "cell_type": "code",
      "source": [],
      "metadata": {
        "id": "frmIgbA6xkmh"
      },
      "execution_count": null,
      "outputs": []
    },
    {
      "cell_type": "code",
      "source": [
        "mode_losses = np.zeros((len(DLGN_obj_store_dlgn[0]), num_modes+1))\n",
        "criterion = nn.CrossEntropyLoss()\n",
        "\n",
        "\n",
        "for mode in range(num_modes+1):\n",
        "\n",
        "  print(\"________________________________\")\n",
        "  print(\"=======Testing on mode: \", mode)\n",
        "  print(\"________________________________\")        \n",
        "\n",
        "  if mode<num_modes:\n",
        "    train_data_curr = train_data[mode]\n",
        "    train_labels_curr = train_data_labels[mode]\n",
        "    vali_data_curr = vali_data[mode]\n",
        "    vali_labels_curr = vali_data_labels[mode]\n",
        "    test_data_curr = test_data[mode]\n",
        "    test_labels_curr = test_data_labels[mode]\n",
        "        \n",
        "  if mode==num_modes:\n",
        "    train_data_curr = np.concatenate(train_data[0:num_modes])\n",
        "    train_labels_curr = np.concatenate(train_data_labels[0:num_modes])\n",
        "    vali_data_curr = np.concatenate(vali_data[0:num_modes])\n",
        "    vali_labels_curr = np.concatenate(vali_data_labels[0:num_modes])\n",
        "    test_data_curr = np.concatenate(test_data[0:num_modes])\n",
        "    test_labels_curr = np.concatenate(test_data_labels[0:num_modes])\n",
        "\n",
        "  for index, item in enumerate(DLGN_obj_store_dlgn[mode]):\n",
        "    # print(index, item)\n",
        "    halfspaces = item.return_gating_functions()\n",
        "    X = torch.tensor(test_data_curr, dtype = torch.float32)\n",
        "    y = torch.tensor(test_labels_curr, dtype=torch.int64)\n",
        "    values,gate_scores=item(X)\n",
        "    preds = torch.cat((values[-1], -1*values[-1]), dim=1)\n",
        "    # print(torch.argmax(preds, dim=1))\n",
        "    # print(y)\n",
        "    error= torch.sum(y!=torch.argmax(preds, dim=1)).numpy()\n",
        "    loss = criterion(preds, y)\n",
        "    mode_losses[index, mode] = loss\n",
        "    \n",
        "    # plt.figure()\n",
        "    # plt.title('Epoch '+str(index)+' : Layer 1')\n",
        "    # plt.plot(halfspaces[0][0].detach().numpy().T, 'r-')\n",
        "    # plt.figure()\n",
        "    # plt.title('Epoch '+str(index)+' : Layer 2')    \n",
        "    # plt.plot(halfspaces[0][1].detach().numpy().T, 'r-')\n",
        "    # plt.figure()\n",
        "    # plt.title('Epoch '+str(index)+' : Layer 3')    \n",
        "    # plt.plot(halfspaces[0][2].detach().numpy().T, 'r-')\n",
        "    \n",
        "\n",
        "# print(halfspaces[0].shape)\n",
        "# print(halfspaces[1].shape)\n",
        "# print(halfspaces[2].shape)\n",
        "# print(halfspaces[3].shape)\n",
        "# print(halfspaces[4].shape)\n",
        "# print(halfspaces[5].shape)"
      ],
      "metadata": {
        "colab": {
          "base_uri": "https://localhost:8080/"
        },
        "id": "a3YqdWaNdS8V",
        "outputId": "5b845caf-0e02-48cb-e865-ad3499a169e8"
      },
      "execution_count": null,
      "outputs": [
        {
          "output_type": "stream",
          "name": "stdout",
          "text": [
            "________________________________\n",
            "=======Testing on mode:  0\n",
            "________________________________\n",
            "________________________________\n",
            "=======Testing on mode:  1\n",
            "________________________________\n",
            "________________________________\n",
            "=======Testing on mode:  2\n",
            "________________________________\n",
            "________________________________\n",
            "=======Testing on mode:  3\n",
            "________________________________\n",
            "________________________________\n",
            "=======Testing on mode:  4\n",
            "________________________________\n"
          ]
        }
      ]
    },
    {
      "cell_type": "markdown",
      "source": [
        "**Loss plot for all modes**"
      ],
      "metadata": {
        "id": "zvn8lZZdD5iF"
      }
    },
    {
      "cell_type": "code",
      "source": [
        "plt.figure()\n",
        "\n",
        "for mode in range(num_modes//2):\n",
        "    plt.plot(mode_losses[:,mode], label=str(mode))\n",
        "    plt.legend()\n",
        "    \n",
        "plt.figure()\n",
        "\n",
        "for mode in range(num_modes//2, num_modes):\n",
        "    plt.plot(mode_losses[:,mode], label=str(mode))\n",
        "    plt.legend()\n",
        "\n",
        "plt.figure()\n",
        "\n",
        "for mode in [num_modes]:\n",
        "    plt.plot(mode_losses[:,mode], label=str(mode))\n",
        "    plt.legend()"
      ],
      "metadata": {
        "colab": {
          "base_uri": "https://localhost:8080/",
          "height": 761
        },
        "id": "GYOtgAutk_tV",
        "outputId": "a0ae7406-f614-4feb-ced0-81ffb6f98159"
      },
      "execution_count": null,
      "outputs": [
        {
          "output_type": "display_data",
          "data": {
            "text/plain": [
              "<Figure size 432x288 with 1 Axes>"
            ],
            "image/png": "[encoded data removed]"
          },
          "metadata": {
            "needs_background": "light"
          }
        },
        {
          "output_type": "display_data",
          "data": {
            "text/plain": [
              "<Figure size 432x288 with 1 Axes>"
            ],
            "image/png": "[encoded data removed]"
          },
          "metadata": {
            "needs_background": "light"
          }
        },
        {
          "output_type": "display_data",
          "data": {
            "text/plain": [
              "<Figure size 432x288 with 1 Axes>"
            ],
            "image/png": "[encoded data removed]"
          },
          "metadata": {
            "needs_background": "light"
          }
        }
      ]
    },
    {
      "cell_type": "code",
      "source": [],
      "metadata": {
        "id": "7jfMsXp6rVyy"
      },
      "execution_count": null,
      "outputs": []
    },
    {
      "cell_type": "markdown",
      "source": [
        "**No_of_path plot for all modes**"
      ],
      "metadata": {
        "id": "6Qg8kVyCRsmi"
      }
    },
    {
      "cell_type": "code",
      "source": [
        "num_epochs_by_ten = len(DLGN_obj_store_dlgn[0])\n",
        "num_hidden_layers = DLGN_obj_store_dlgn[0][0].num_hidden_layers\n",
        "num_neurons_per_layer = DLGN_obj_store_dlgn[0][0].num_nodes[1]\n",
        "gates_on = np.zeros((num_epochs_by_ten, num_modes+1,num_hidden_layers,num_neurons_per_layer))\n",
        "\n",
        "for layer in range(num_hidden_layers):\n",
        "  for i in range(num_epochs_by_ten):\n",
        "    for j in range(num_modes+1):\n",
        "      values,gate_scores = DLGN_obj_store_dlgn[j][i].forward(torch.Tensor(centers[j%num_modes:j%num_modes+1]))\n",
        "      gates_on[i,j,layer,:] = torch.sigmoid(beta*gate_scores[layer+1]).detach().numpy().mean(axis=0)"
      ],
      "metadata": {
        "id": "dgLZqsITj1pQ"
      },
      "execution_count": null,
      "outputs": []
    },
    {
      "cell_type": "code",
      "source": [
        "gates_on[1,1,1,:]"
      ],
      "metadata": {
        "id": "geI6K604CwqY"
      },
      "execution_count": null,
      "outputs": []
    },
    {
      "cell_type": "code",
      "source": [
        "print(gates_on.shape)\n",
        "\n",
        "path_on = np.zeros((num_epochs_by_ten, num_modes+1))\n",
        "for epoch_index in range(num_epochs_by_ten):\n",
        "  for mode in range(num_modes+1):\n",
        "    path_on[epoch_index, mode] = np.sum(gates_on[epoch_index, mode,0, :]) *\\\n",
        "                                     np.sum(gates_on[epoch_index, mode,1, :]) *\\\n",
        "                                     np.sum(gates_on[epoch_index, mode,2, :])"
      ],
      "metadata": {
        "colab": {
          "base_uri": "https://localhost:8080/"
        },
        "id": "J4vcsWHyOPSq",
        "outputId": "86fadbc9-e3b9-4296-b344-e109fa1e012b"
      },
      "execution_count": null,
      "outputs": [
        {
          "output_type": "stream",
          "name": "stdout",
          "text": [
            "(2000, 5, 3, 3)\n"
          ]
        }
      ]
    },
    {
      "cell_type": "code",
      "source": [
        "plt.figure()\n",
        "\n",
        "for mode in range(num_modes//2):\n",
        "    plt.plot(path_on[:,mode], label=str(mode))\n",
        "    plt.legend()\n",
        "plt.figure()\n",
        "\n",
        "for mode in range(num_modes//2, num_modes):\n",
        "    plt.plot(path_on[:,mode], label=str(mode))\n",
        "    plt.legend()\n",
        "plt.figure()\n",
        "\n",
        "for mode in [num_modes]:\n",
        "    plt.plot(path_on[:,mode], label=str(mode))  \n",
        "    plt.legend()\n",
        "plt.figure()\n",
        "plt.plot(path_on[:,:num_modes//2].mean(axis=1), label='Hard classes')\n",
        "plt.plot(path_on[:,num_modes//2:].mean(axis=1), label='Easy classes')\n",
        "plt.plot(path_on[:,num_modes], label='All data')\n",
        "\n",
        "plt.legend()"
      ],
      "metadata": {
        "colab": {
          "base_uri": "https://localhost:8080/",
          "height": 1000
        },
        "id": "uY9qreyyh2v5",
        "outputId": "04cc8789-34c1-417a-f87d-b479067566f5"
      },
      "execution_count": null,
      "outputs": [
        {
          "output_type": "execute_result",
          "data": {
            "text/plain": [
              "<matplotlib.legend.Legend at 0x7f6e7e0b2e20>"
            ]
          },
          "metadata": {},
          "execution_count": 22
        },
        {
          "output_type": "display_data",
          "data": {
            "text/plain": [
              "<Figure size 432x288 with 1 Axes>"
            ],
            "image/png": "[encoded data removed]"
          },
          "metadata": {
            "needs_background": "light"
          }
        },
        {
          "output_type": "display_data",
          "data": {
            "text/plain": [
              "<Figure size 432x288 with 1 Axes>"
            ],
            "image/png": "[encoded data removed]"
          },
          "metadata": {
            "needs_background": "light"
          }
        },
        {
          "output_type": "display_data",
          "data": {
            "text/plain": [
              "<Figure size 432x288 with 1 Axes>"
            ],
            "image/png": "[encoded data removed]"
          },
          "metadata": {
            "needs_background": "light"
          }
        },
        {
          "output_type": "display_data",
          "data": {
            "text/plain": [
              "<Figure size 432x288 with 1 Axes>"
            ],
            "image/png": "[encoded data removed]"
          },
          "metadata": {
            "needs_background": "light"
          }
        }
      ]
    },
    {
      "cell_type": "code",
      "source": [
        "for mode in range(num_modes+1):\n",
        "  plt.figure()\n",
        "  plt.title(\"Mode = \"+str(mode))\n",
        "  for layer in range(num_hidden_layers):\n",
        "    for neuron in range(num_neurons_per_layer):\n",
        "      plt.plot(gates_on[:,mode,layer,neuron],label=str(neuron)+\"_\"+str(layer))\n",
        "      plt.legend()"
      ],
      "metadata": {
        "colab": {
          "base_uri": "https://localhost:8080/",
          "height": 1000
        },
        "id": "BLFXMSowU3an",
        "outputId": "10da78b1-28b0-4291-ce55-a5f3110309f4"
      },
      "execution_count": null,
      "outputs": [
        {
          "output_type": "display_data",
          "data": {
            "text/plain": [
              "<Figure size 432x288 with 1 Axes>"
            ],
            "image/png": "[encoded data removed]"
          },
          "metadata": {
            "needs_background": "light"
          }
        },
        {
          "output_type": "display_data",
          "data": {
            "text/plain": [
              "<Figure size 432x288 with 1 Axes>"
            ],
            "image/png": "[encoded data removed]"
          },
          "metadata": {
            "needs_background": "light"
          }
        },
        {
          "output_type": "display_data",
          "data": {
            "text/plain": [
              "<Figure size 432x288 with 1 Axes>"
            ],
            "image/png": "[encoded data removed]"
          },
          "metadata": {
            "needs_background": "light"
          }
        },
        {
          "output_type": "display_data",
          "data": {
            "text/plain": [
              "<Figure size 432x288 with 1 Axes>"
            ],
            "image/png": "[encoded data removed]"
          },
          "metadata": {
            "needs_background": "light"
          }
        },
        {
          "output_type": "display_data",
          "data": {
            "text/plain": [
              "<Figure size 432x288 with 1 Axes>"
            ],
            "image/png": "[encoded data removed]"
          },
          "metadata": {
            "needs_background": "light"
          }
        }
      ]
    },
    {
      "cell_type": "code",
      "source": [],
      "metadata": {
        "id": "SK2MLoawEBR7"
      },
      "execution_count": null,
      "outputs": []
    },
    {
      "cell_type": "code",
      "source": [],
      "metadata": {
        "id": "ParGagyoEBPS"
      },
      "execution_count": null,
      "outputs": []
    },
    {
      "cell_type": "code",
      "source": [],
      "metadata": {
        "id": "sCtFHQ69EBMm"
      },
      "execution_count": null,
      "outputs": []
    },
    {
      "cell_type": "code",
      "source": [],
      "metadata": {
        "id": "MiEUfaLyEBJu"
      },
      "execution_count": null,
      "outputs": []
    },
    {
      "cell_type": "code",
      "source": [],
      "metadata": {
        "id": "3k5ndkz_EBG9"
      },
      "execution_count": null,
      "outputs": []
    },
    {
      "cell_type": "code",
      "source": [],
      "metadata": {
        "id": "w2QuIYGCEBES"
      },
      "execution_count": null,
      "outputs": []
    },
    {
      "cell_type": "markdown",
      "source": [
        "**ROUGH**"
      ],
      "metadata": {
        "id": "DO5aJaNLECRq"
      }
    },
    {
      "cell_type": "code",
      "source": [
        "to_copy=None\n",
        "num_hidden_layers=0\n",
        "input_dim=2\n",
        "output_dim=1\n",
        "num_hidden_nodes=[2,3,4]\n",
        "beta=20\n",
        "mode='pwc'\n",
        "DLGN_obj = DLGN_FC(num_hidden_layers=num_hidden_layers, input_dim=input_dim, output_dim=output_dim, \n",
        "                      num_hidden_nodes=num_hidden_nodes, beta=beta, mode=mode)\n",
        "\n",
        "DLGN_params = []\n",
        "DLGN_params += [item.weight for item in DLGN_obj.gating_layers]\n",
        "DLGN_params += [item.bias for item in DLGN_obj.gating_layers]\n",
        "DLGN_params += [item.weight for item in DLGN_obj.value_layers]\n",
        "print(DLGN_params)\n",
        "# print(\"Hello\")\n",
        "# # Freeze all the parameters except for a specific node\n",
        "# for name, param in DLGN_obj.named_parameters():\n",
        "#   print(\"name:\",name)\n",
        "#   print(\"param\",param)\n",
        "#   print(\"Hello1\")\n",
        "# print(\"Hello2\")\n",
        "    # if name == \"2.bias\": # this is the node that we want to keep trainable\n",
        "    #     param.requires_grad = True\n",
        "    # else:\n",
        "    #     param.requires_grad = False\n",
        "\n",
        "# Check that the parameters have been frozen/unfrozen as desired\n",
        "# for name, param in DLGN_obj.named_parameters():\n",
        "#     if param.requires_grad:\n",
        "#         print(f\"{name} is trainable\")\n",
        "#     else:\n",
        "#         print(f\"{name} is not trainable\")"
      ],
      "metadata": {
        "id": "tz3NS63gsRRT"
      },
      "execution_count": null,
      "outputs": []
    },
    {
      "cell_type": "code",
      "source": [
        "model = torch.nn.Sequential(\n",
        "    torch.nn.Linear(10, 20),\n",
        "    torch.nn.ReLU(),\n",
        "    torch.nn.Linear(20, 30),\n",
        "    torch.nn.ReLU(),\n",
        "    torch.nn.Linear(30, 40),\n",
        "    torch.nn.ReLU(),\n",
        "    torch.nn.Linear(40, 50),v =\n",
        "    torch.nn.ReLU(),\n",
        "    torch.nn.Linear(50, 1)\n",
        ")\n",
        "\n",
        "print(model)\n",
        "# print(\"Hello\")\n",
        "# # Freeze all the parameters except for a specific node\n",
        "# for name, param in model.named_parameters():\n",
        "#   print(\"name:\",name)\n",
        "#   print(\"param\",param)\n",
        "#   print(\"Hello1\")\n",
        "# print(\"Hello2\")"
      ],
      "metadata": {
        "id": "oNCDREZ0uujy"
      },
      "execution_count": null,
      "outputs": []
    },
    {
      "cell_type": "code",
      "source": [
        "plt.scatter(np.concatenate(data)[:,0], np.concatenate(data)[:,1], c=np.concatenate(data_labels), s=10)"
      ],
      "metadata": {
        "id": "AZvGIR9r2Fst"
      },
      "execution_count": null,
      "outputs": []
    },
    {
      "cell_type": "code",
      "source": [
        "print(len(train_data))\n",
        "print(train_data[0].shape)\n",
        "print(train_data[0][:10])\n",
        "print(train_data[0].mean(axis=0))\n",
        "\n",
        "print('=========')\n",
        "print(landmarks[0])\n",
        "print(labels[0])\n",
        "print(centers[0])"
      ],
      "metadata": {
        "id": "sLpFgLcJ23Zp"
      },
      "execution_count": null,
      "outputs": []
    },
    {
      "cell_type": "code",
      "source": [
        "class Net(nn.Module):\n",
        "  def __init__(self):\n",
        "    super(Net,self).__init__()\n",
        "    self.fc1 = nn.Linear(2,3)\n",
        "    self.fc2 = nn.Linear(3,3)\n",
        "    self.fc3 = nn.Linear(3,1)\n",
        "  def forward(self,x):\n",
        "    print(\"input:\",x)\n",
        "    print(\"W1:\",self.fc1.weight)\n",
        "    print(\"B1:\",self.fc1.bias)\n",
        "    x = self.fc1(x)\n",
        "    print(\"Y:\",x)\n",
        "    x = self.fc2(x)\n",
        "    x = self.fc3(x)\n",
        "    return x\n"
      ],
      "metadata": {
        "id": "C3NYBnqC5Zfq"
      },
      "execution_count": 12,
      "outputs": []
    },
    {
      "cell_type": "code",
      "source": [
        "torch.manual_seed(1234)\n",
        "net =Net()"
      ],
      "metadata": {
        "id": "EVu0E1Oxm3Ae"
      },
      "execution_count": 13,
      "outputs": []
    },
    {
      "cell_type": "code",
      "source": [
        "temp = torch.randn(3,2)\n"
      ],
      "metadata": {
        "id": "uzBWSOiXm48C"
      },
      "execution_count": 14,
      "outputs": []
    },
    {
      "cell_type": "code",
      "source": [
        "1.5844*-0.6661 + -0.8763*-0.1387 + -0.6339"
      ],
      "metadata": {
        "colab": {
          "base_uri": "https://localhost:8080/"
        },
        "id": "etnvsroOKsH-",
        "outputId": "b04f1447-cf57-42ad-c504-09eecb1b589f"
      },
      "execution_count": 21,
      "outputs": [
        {
          "output_type": "execute_result",
          "data": {
            "text/plain": [
              "-1.5677260300000002"
            ]
          },
          "metadata": {},
          "execution_count": 21
        }
      ]
    },
    {
      "cell_type": "code",
      "source": [
        "y=net(temp)"
      ],
      "metadata": {
        "colab": {
          "base_uri": "https://localhost:8080/"
        },
        "id": "PjcmJIqjHZwU",
        "outputId": "ac8dac1d-3459-411d-d360-bc6d59b5ad0d"
      },
      "execution_count": 17,
      "outputs": [
        {
          "output_type": "stream",
          "name": "stdout",
          "text": [
            "input: tensor([[ 1.5844, -0.8763],\n",
            "        [ 0.2811,  1.4718],\n",
            "        [-0.8330, -0.4121]])\n",
            "W1: Parameter containing:\n",
            "tensor([[-0.6661, -0.1387],\n",
            "        [-0.3396, -0.1886],\n",
            "        [-0.6247,  0.2838]], requires_grad=True)\n",
            "B1: Parameter containing:\n",
            "tensor([-0.6339, -0.0451,  0.2458], requires_grad=True)\n",
            "Y: tensor([[-1.5677, -0.4179, -0.9926],\n",
            "        [-1.0253, -0.4181,  0.4879],\n",
            "        [-0.0218,  0.3156,  0.6492]], grad_fn=<AddmmBackward0>)\n"
          ]
        }
      ]
    },
    {
      "cell_type": "code",
      "source": [
        "temp"
      ],
      "metadata": {
        "colab": {
          "base_uri": "https://localhost:8080/"
        },
        "id": "bXzQUMvbHfNw",
        "outputId": "7ed1a04a-73a7-4f4d-cb10-ea725e42ac5a"
      },
      "execution_count": 18,
      "outputs": [
        {
          "output_type": "execute_result",
          "data": {
            "text/plain": [
              "tensor([[ 1.5844, -0.8763],\n",
              "        [ 0.2811,  1.4718],\n",
              "        [-0.8330, -0.4121]])"
            ]
          },
          "metadata": {},
          "execution_count": 18
        }
      ]
    },
    {
      "cell_type": "code",
      "source": [
        "net.fc1.weight"
      ],
      "metadata": {
        "id": "hn08wydPrUXd",
        "colab": {
          "base_uri": "https://localhost:8080/"
        },
        "outputId": "5b7562ee-c5fe-44bf-9c25-5fb047aeda4c"
      },
      "execution_count": 19,
      "outputs": [
        {
          "output_type": "execute_result",
          "data": {
            "text/plain": [
              "Parameter containing:\n",
              "tensor([[-0.6661, -0.1387],\n",
              "        [-0.3396, -0.1886],\n",
              "        [-0.6247,  0.2838]], requires_grad=True)"
            ]
          },
          "metadata": {},
          "execution_count": 19
        }
      ]
    },
    {
      "cell_type": "code",
      "source": [
        "net.fc1.bias"
      ],
      "metadata": {
        "colab": {
          "base_uri": "https://localhost:8080/"
        },
        "id": "BYzfrlhWH0j4",
        "outputId": "95c28c92-20f2-499a-b3f9-16c677b14365"
      },
      "execution_count": 20,
      "outputs": [
        {
          "output_type": "execute_result",
          "data": {
            "text/plain": [
              "Parameter containing:\n",
              "tensor([-0.6339, -0.0451,  0.2458], requires_grad=True)"
            ]
          },
          "metadata": {},
          "execution_count": 20
        }
      ]
    },
    {
      "cell_type": "code",
      "source": [
        "temp1=  torch.zeros(3,2)\n",
        "temp1[0,0] = 1\n",
        "#print(temp1)\n",
        "net.fc1.weight.register_hook(lambda grad: torch.multiply(grad,temp1))\n",
        "net(temp).sum().backward()\n"
      ],
      "metadata": {
        "id": "S52OSxbQq0ns"
      },
      "execution_count": null,
      "outputs": []
    },
    {
      "cell_type": "code",
      "source": [
        "net.fc1.weight.grad"
      ],
      "metadata": {
        "id": "J__pQnt_q1yL"
      },
      "execution_count": null,
      "outputs": []
    },
    {
      "cell_type": "code",
      "source": [
        "import torch\n",
        "v = torch.tensor([0., 0., 0.], requires_grad=True)\n",
        "h = v.register_hook(lambda grad: grad * 2)  # double the gradient\n",
        "v.backward(torch.tensor([1., 2., 3.]))\n",
        "v.grad"
      ],
      "metadata": {
        "id": "i9DySgdXrPSE"
      },
      "execution_count": null,
      "outputs": []
    },
    {
      "cell_type": "code",
      "source": [
        "DLGN_obj_final.gating_layers[0].weight[:,0:1].requires_grad=False"
      ],
      "metadata": {
        "id": "DjzXs3Zg-y9f"
      },
      "execution_count": null,
      "outputs": []
    },
    {
      "cell_type": "code",
      "source": [
        "centers[0:1]"
      ],
      "metadata": {
        "id": "mWzk78TyEBUx"
      },
      "execution_count": null,
      "outputs": []
    },
    {
      "cell_type": "code",
      "source": [],
      "metadata": {
        "id": "Wr_s1cUJy1ex"
      },
      "execution_count": null,
      "outputs": []
    }
  ]
}